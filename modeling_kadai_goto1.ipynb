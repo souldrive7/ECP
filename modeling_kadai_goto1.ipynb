{
  "cells": [
    {
      "cell_type": "markdown",
      "metadata": {
        "id": "view-in-github",
        "colab_type": "text"
      },
      "source": [
        "<a href=\"https://colab.research.google.com/github/souldrive7/ECP/blob/main/modeling_kadai_goto1.ipynb\" target=\"_parent\"><img src=\"https://colab.research.google.com/assets/colab-badge.svg\" alt=\"Open In Colab\"/></a>"
      ]
    },
    {
      "cell_type": "markdown",
      "source": [
        "# モデリング基礎実践論 課題（土田先生）"
      ],
      "metadata": {
        "id": "diPhWIPJdlBm"
      }
    },
    {
      "cell_type": "markdown",
      "source": [
        "\n",
        "\n",
        "提出日：2025/5/11\n",
        "\n",
        "学籍番号：6025131\n",
        "\n",
        "氏名：後藤 晃郁"
      ],
      "metadata": {
        "id": "AeOUmXzxapxI"
      }
    },
    {
      "cell_type": "markdown",
      "source": [
        "# 課題"
      ],
      "metadata": {
        "id": "WzYR-1Smd3Gu"
      }
    },
    {
      "cell_type": "markdown",
      "source": [
        "---\n",
        "\n",
        "\n",
        "\n",
        "次の中から少なくとも 1つ を選んで、提出すること。\n",
        "\n",
        "1.内点法について説明せよ。具体的な例について計算機による実装を行い、シンプレックス法との計算量・計算時間を比較せよ。\n",
        "\n",
        "2.整数計画問題について説明せよ。近似解法についても説明を与え、具体的な例に対して計算機による実装を行え。\n",
        "\n",
        "3.ネットワーク計画問題について説明せよ。具体例を挙げ、計算機による実装を行え。\n",
        "\n",
        "---"
      ],
      "metadata": {
        "id": "5WMgIa3SlaIo"
      }
    },
    {
      "cell_type": "markdown",
      "source": [
        "# 1.内点法について説明せよ。具体的な例について計算機による実装を行い、シンプレックス法との計算量・計算時間を比較せよ。"
      ],
      "metadata": {
        "id": "wEMQWqqveWTu"
      }
    },
    {
      "cell_type": "markdown",
      "source": [],
      "metadata": {
        "id": "gXv4dykdd84d"
      }
    },
    {
      "cell_type": "markdown",
      "source": [
        "# 2.整数計画問題について説明せよ。近似解法についても説明を与え、具体的な例に対して計算機による実装を行え。\n"
      ],
      "metadata": {
        "id": "gvmz7StpejUP"
      }
    },
    {
      "cell_type": "markdown",
      "source": [],
      "metadata": {
        "id": "_WXg2sLUeFkK"
      }
    },
    {
      "cell_type": "markdown",
      "source": [
        "# 3.ネットワーク計画問題について説明せよ。具体例を挙げ、計算機による実装を行え。"
      ],
      "metadata": {
        "id": "Tkyp638iecjA"
      }
    },
    {
      "cell_type": "markdown",
      "source": [
        "---\n",
        "■問題の定義と目的■\n",
        "\n",
        "**ネットワーク計画問題とは**:\n",
        "\n",
        "プロジェクトを構成する複数の作業を、順序関係と所要時間を持つネットワーク（有向非巡回グラフ）として表現し、プロジェクトの最短完了時間や、全体の進行に影響するクリティカルパスを特定する問題のことをいう。\n",
        "\n",
        "**目的**:\n",
        "\n",
        "- プロジェクトの所要時間の把握\n",
        "\n",
        "- 遅延リスクのある作業（クリティカルパス）の特定\n",
        "\n",
        "- 余裕時間（フロート）を活かした進行・資源計画\n",
        "\n",
        "- 不確実性がある場合は遅延の確率的評価\n",
        "---\n",
        "\n",
        "■手法（CPM法とPERT法）■\n",
        "\n",
        "**CPM法（Critical Path Method）**:決定論的アプローチ\n",
        "\n",
        "- 作業時間が確定している前提で進行\n",
        "\n",
        "- 最早開始/終了時刻（ES/EF）と最遅開始/終了時刻（LS/LF）を算出\n",
        "\n",
        "- フロートを計算し、フロートが0の作業列をクリティカルパスと判断\n",
        "\n",
        "**PERT法（Program Evaluation and Review Technique）**:確率論的アプローチ\n",
        "\n",
        "- 作業時間を確率変数として扱う\n",
        "\n",
        "- プロジェクト完了時間の期待値と標準偏差を求め、確率的に遅延リスクを評価\n",
        "\n",
        "- 各作業に対して以下の3点見積もりを用いる：\n",
        "\n",
        "  楽観値（$a$）, 最可能値（$m$）, 悲観値（$b$）\n",
        "\n",
        "  期待時間 $E = \\frac{a + 4m + b}{6}$\n",
        "\n",
        "  分散 $Var = \\left(\\frac{b - a}{6}\\right)^2$\n",
        "\n",
        "---\n",
        "\n",
        "■具体例・モデル化■\n",
        "\n",
        "以下の作業リストを対象として、CPM・PERT両方を適用した。\n",
        "\n"
      ],
      "metadata": {
        "id": "-ChAMrvk8b1O"
      }
    },
    {
      "cell_type": "code",
      "source": [
        "import pandas as pd\n",
        "from IPython.display import display\n",
        "\n",
        "# CPM・PERT対象作業リスト（データ＋表示）\n",
        "print(\"\\n以下の作業リストを対象として、CPM・PERT両方を適用した。\")\n",
        "\n",
        "data = [\n",
        "    ['A', '-',      4, 3, 4, 5],\n",
        "    ['B', 'A',      3, 2, 3, 5],\n",
        "    ['C', 'A',      5, 4, 5, 6],\n",
        "    ['D', 'B',      6, 5, 6, 8],\n",
        "    ['E', 'B',      4, 3, 4, 6],\n",
        "    ['F', 'C',      3, 2, 3, 4],\n",
        "    ['G', 'D, E',   5, 4, 5, 7],\n",
        "    ['H', 'F',      2, 1, 2, 3],\n",
        "    ['I', 'G',      3, 2, 3, 4],\n",
        "    ['J', 'H, I',   2, 1, 2, 3]\n",
        "]\n",
        "\n",
        "columns = ['作業', '先行作業', '所要時間（CPM）', '楽観値 (a)', '最可能値 (m)', '悲観値 (b)']\n",
        "df = pd.DataFrame(data, columns=columns)\n",
        "\n",
        "styled_df = df.style.set_properties(**{'text-align': 'center'}).set_table_styles(\n",
        "    [{'selector': 'th', 'props': [('text-align', 'center')]}]\n",
        ")\n",
        "display(styled_df)\n",
        "\n",
        "print(\"\\nこの構成により、複雑な依存関係を持つプロジェクト全体が有向非巡回グラフ（DAG）として表現される。\")"
      ],
      "metadata": {
        "id": "fukQs1FvM0l4",
        "outputId": "50bc4cb8-f40e-46cb-b1bc-7772762eeea7",
        "colab": {
          "base_uri": "https://localhost:8080/",
          "height": 435
        }
      },
      "execution_count": null,
      "outputs": [
        {
          "output_type": "stream",
          "name": "stdout",
          "text": [
            "\n",
            "以下の作業リストを対象として、CPM・PERT両方を適用した。\n"
          ]
        },
        {
          "output_type": "display_data",
          "data": {
            "text/plain": [
              "<pandas.io.formats.style.Styler at 0x7c711b879990>"
            ],
            "text/html": [
              "<style type=\"text/css\">\n",
              "#T_14453 th {\n",
              "  text-align: center;\n",
              "}\n",
              "#T_14453_row0_col0, #T_14453_row0_col1, #T_14453_row0_col2, #T_14453_row0_col3, #T_14453_row0_col4, #T_14453_row0_col5, #T_14453_row1_col0, #T_14453_row1_col1, #T_14453_row1_col2, #T_14453_row1_col3, #T_14453_row1_col4, #T_14453_row1_col5, #T_14453_row2_col0, #T_14453_row2_col1, #T_14453_row2_col2, #T_14453_row2_col3, #T_14453_row2_col4, #T_14453_row2_col5, #T_14453_row3_col0, #T_14453_row3_col1, #T_14453_row3_col2, #T_14453_row3_col3, #T_14453_row3_col4, #T_14453_row3_col5, #T_14453_row4_col0, #T_14453_row4_col1, #T_14453_row4_col2, #T_14453_row4_col3, #T_14453_row4_col4, #T_14453_row4_col5, #T_14453_row5_col0, #T_14453_row5_col1, #T_14453_row5_col2, #T_14453_row5_col3, #T_14453_row5_col4, #T_14453_row5_col5, #T_14453_row6_col0, #T_14453_row6_col1, #T_14453_row6_col2, #T_14453_row6_col3, #T_14453_row6_col4, #T_14453_row6_col5, #T_14453_row7_col0, #T_14453_row7_col1, #T_14453_row7_col2, #T_14453_row7_col3, #T_14453_row7_col4, #T_14453_row7_col5, #T_14453_row8_col0, #T_14453_row8_col1, #T_14453_row8_col2, #T_14453_row8_col3, #T_14453_row8_col4, #T_14453_row8_col5, #T_14453_row9_col0, #T_14453_row9_col1, #T_14453_row9_col2, #T_14453_row9_col3, #T_14453_row9_col4, #T_14453_row9_col5 {\n",
              "  text-align: center;\n",
              "}\n",
              "</style>\n",
              "<table id=\"T_14453\" class=\"dataframe\">\n",
              "  <thead>\n",
              "    <tr>\n",
              "      <th class=\"blank level0\" >&nbsp;</th>\n",
              "      <th id=\"T_14453_level0_col0\" class=\"col_heading level0 col0\" >作業</th>\n",
              "      <th id=\"T_14453_level0_col1\" class=\"col_heading level0 col1\" >先行作業</th>\n",
              "      <th id=\"T_14453_level0_col2\" class=\"col_heading level0 col2\" >所要時間（CPM）</th>\n",
              "      <th id=\"T_14453_level0_col3\" class=\"col_heading level0 col3\" >楽観値 (a)</th>\n",
              "      <th id=\"T_14453_level0_col4\" class=\"col_heading level0 col4\" >最可能値 (m)</th>\n",
              "      <th id=\"T_14453_level0_col5\" class=\"col_heading level0 col5\" >悲観値 (b)</th>\n",
              "    </tr>\n",
              "  </thead>\n",
              "  <tbody>\n",
              "    <tr>\n",
              "      <th id=\"T_14453_level0_row0\" class=\"row_heading level0 row0\" >0</th>\n",
              "      <td id=\"T_14453_row0_col0\" class=\"data row0 col0\" >A</td>\n",
              "      <td id=\"T_14453_row0_col1\" class=\"data row0 col1\" >-</td>\n",
              "      <td id=\"T_14453_row0_col2\" class=\"data row0 col2\" >4</td>\n",
              "      <td id=\"T_14453_row0_col3\" class=\"data row0 col3\" >3</td>\n",
              "      <td id=\"T_14453_row0_col4\" class=\"data row0 col4\" >4</td>\n",
              "      <td id=\"T_14453_row0_col5\" class=\"data row0 col5\" >5</td>\n",
              "    </tr>\n",
              "    <tr>\n",
              "      <th id=\"T_14453_level0_row1\" class=\"row_heading level0 row1\" >1</th>\n",
              "      <td id=\"T_14453_row1_col0\" class=\"data row1 col0\" >B</td>\n",
              "      <td id=\"T_14453_row1_col1\" class=\"data row1 col1\" >A</td>\n",
              "      <td id=\"T_14453_row1_col2\" class=\"data row1 col2\" >3</td>\n",
              "      <td id=\"T_14453_row1_col3\" class=\"data row1 col3\" >2</td>\n",
              "      <td id=\"T_14453_row1_col4\" class=\"data row1 col4\" >3</td>\n",
              "      <td id=\"T_14453_row1_col5\" class=\"data row1 col5\" >5</td>\n",
              "    </tr>\n",
              "    <tr>\n",
              "      <th id=\"T_14453_level0_row2\" class=\"row_heading level0 row2\" >2</th>\n",
              "      <td id=\"T_14453_row2_col0\" class=\"data row2 col0\" >C</td>\n",
              "      <td id=\"T_14453_row2_col1\" class=\"data row2 col1\" >A</td>\n",
              "      <td id=\"T_14453_row2_col2\" class=\"data row2 col2\" >5</td>\n",
              "      <td id=\"T_14453_row2_col3\" class=\"data row2 col3\" >4</td>\n",
              "      <td id=\"T_14453_row2_col4\" class=\"data row2 col4\" >5</td>\n",
              "      <td id=\"T_14453_row2_col5\" class=\"data row2 col5\" >6</td>\n",
              "    </tr>\n",
              "    <tr>\n",
              "      <th id=\"T_14453_level0_row3\" class=\"row_heading level0 row3\" >3</th>\n",
              "      <td id=\"T_14453_row3_col0\" class=\"data row3 col0\" >D</td>\n",
              "      <td id=\"T_14453_row3_col1\" class=\"data row3 col1\" >B</td>\n",
              "      <td id=\"T_14453_row3_col2\" class=\"data row3 col2\" >6</td>\n",
              "      <td id=\"T_14453_row3_col3\" class=\"data row3 col3\" >5</td>\n",
              "      <td id=\"T_14453_row3_col4\" class=\"data row3 col4\" >6</td>\n",
              "      <td id=\"T_14453_row3_col5\" class=\"data row3 col5\" >8</td>\n",
              "    </tr>\n",
              "    <tr>\n",
              "      <th id=\"T_14453_level0_row4\" class=\"row_heading level0 row4\" >4</th>\n",
              "      <td id=\"T_14453_row4_col0\" class=\"data row4 col0\" >E</td>\n",
              "      <td id=\"T_14453_row4_col1\" class=\"data row4 col1\" >B</td>\n",
              "      <td id=\"T_14453_row4_col2\" class=\"data row4 col2\" >4</td>\n",
              "      <td id=\"T_14453_row4_col3\" class=\"data row4 col3\" >3</td>\n",
              "      <td id=\"T_14453_row4_col4\" class=\"data row4 col4\" >4</td>\n",
              "      <td id=\"T_14453_row4_col5\" class=\"data row4 col5\" >6</td>\n",
              "    </tr>\n",
              "    <tr>\n",
              "      <th id=\"T_14453_level0_row5\" class=\"row_heading level0 row5\" >5</th>\n",
              "      <td id=\"T_14453_row5_col0\" class=\"data row5 col0\" >F</td>\n",
              "      <td id=\"T_14453_row5_col1\" class=\"data row5 col1\" >C</td>\n",
              "      <td id=\"T_14453_row5_col2\" class=\"data row5 col2\" >3</td>\n",
              "      <td id=\"T_14453_row5_col3\" class=\"data row5 col3\" >2</td>\n",
              "      <td id=\"T_14453_row5_col4\" class=\"data row5 col4\" >3</td>\n",
              "      <td id=\"T_14453_row5_col5\" class=\"data row5 col5\" >4</td>\n",
              "    </tr>\n",
              "    <tr>\n",
              "      <th id=\"T_14453_level0_row6\" class=\"row_heading level0 row6\" >6</th>\n",
              "      <td id=\"T_14453_row6_col0\" class=\"data row6 col0\" >G</td>\n",
              "      <td id=\"T_14453_row6_col1\" class=\"data row6 col1\" >D, E</td>\n",
              "      <td id=\"T_14453_row6_col2\" class=\"data row6 col2\" >5</td>\n",
              "      <td id=\"T_14453_row6_col3\" class=\"data row6 col3\" >4</td>\n",
              "      <td id=\"T_14453_row6_col4\" class=\"data row6 col4\" >5</td>\n",
              "      <td id=\"T_14453_row6_col5\" class=\"data row6 col5\" >7</td>\n",
              "    </tr>\n",
              "    <tr>\n",
              "      <th id=\"T_14453_level0_row7\" class=\"row_heading level0 row7\" >7</th>\n",
              "      <td id=\"T_14453_row7_col0\" class=\"data row7 col0\" >H</td>\n",
              "      <td id=\"T_14453_row7_col1\" class=\"data row7 col1\" >F</td>\n",
              "      <td id=\"T_14453_row7_col2\" class=\"data row7 col2\" >2</td>\n",
              "      <td id=\"T_14453_row7_col3\" class=\"data row7 col3\" >1</td>\n",
              "      <td id=\"T_14453_row7_col4\" class=\"data row7 col4\" >2</td>\n",
              "      <td id=\"T_14453_row7_col5\" class=\"data row7 col5\" >3</td>\n",
              "    </tr>\n",
              "    <tr>\n",
              "      <th id=\"T_14453_level0_row8\" class=\"row_heading level0 row8\" >8</th>\n",
              "      <td id=\"T_14453_row8_col0\" class=\"data row8 col0\" >I</td>\n",
              "      <td id=\"T_14453_row8_col1\" class=\"data row8 col1\" >G</td>\n",
              "      <td id=\"T_14453_row8_col2\" class=\"data row8 col2\" >3</td>\n",
              "      <td id=\"T_14453_row8_col3\" class=\"data row8 col3\" >2</td>\n",
              "      <td id=\"T_14453_row8_col4\" class=\"data row8 col4\" >3</td>\n",
              "      <td id=\"T_14453_row8_col5\" class=\"data row8 col5\" >4</td>\n",
              "    </tr>\n",
              "    <tr>\n",
              "      <th id=\"T_14453_level0_row9\" class=\"row_heading level0 row9\" >9</th>\n",
              "      <td id=\"T_14453_row9_col0\" class=\"data row9 col0\" >J</td>\n",
              "      <td id=\"T_14453_row9_col1\" class=\"data row9 col1\" >H, I</td>\n",
              "      <td id=\"T_14453_row9_col2\" class=\"data row9 col2\" >2</td>\n",
              "      <td id=\"T_14453_row9_col3\" class=\"data row9 col3\" >1</td>\n",
              "      <td id=\"T_14453_row9_col4\" class=\"data row9 col4\" >2</td>\n",
              "      <td id=\"T_14453_row9_col5\" class=\"data row9 col5\" >3</td>\n",
              "    </tr>\n",
              "  </tbody>\n",
              "</table>\n"
            ]
          },
          "metadata": {}
        },
        {
          "output_type": "stream",
          "name": "stdout",
          "text": [
            "\n",
            "この構成により、複雑な依存関係を持つプロジェクト全体が有向非巡回グラフ（DAG）として表現される。\n"
          ]
        }
      ]
    },
    {
      "cell_type": "markdown",
      "source": [
        "■実装■\n",
        "\n",
        "Python（NetworkX）を用いて、トポロジカル順に CPM の ES, EF, LS, LF を計算し、さらに各作業の期待時間と分散（PERT）も算出した。"
      ],
      "metadata": {
        "id": "yBEG3ZC_P6jC"
      }
    },
    {
      "cell_type": "code",
      "source": [
        "import networkx as nx\n",
        "import math\n",
        "\n",
        "# 必要な事前データ（例）\n",
        "G = nx.DiGraph()\n",
        "tasks = {\n",
        "    'A': ([], 4, 3, 4, 5),\n",
        "    'B': (['A'], 3, 2, 3, 5),\n",
        "    'C': (['A'], 5, 4, 5, 6),\n",
        "    'D': (['B'], 6, 5, 6, 8),\n",
        "    'E': (['B'], 4, 3, 4, 6),\n",
        "    'F': (['C'], 3, 2, 3, 4),\n",
        "    'G': (['D', 'E'], 5, 4, 5, 7),\n",
        "    'H': (['F'], 2, 1, 2, 3),\n",
        "    'I': (['G'], 3, 2, 3, 4),\n",
        "    'J': (['H', 'I'], 2, 1, 2, 3)\n",
        "}\n",
        "for task, (preds, duration, a, m, b) in tasks.items():\n",
        "    G.add_node(task,\n",
        "               duration=duration,\n",
        "               pert_expect=(a + 4 * m + b) / 6,\n",
        "               pert_var=((b - a) / 6) ** 2)\n",
        "    for pred in preds:\n",
        "        G.add_edge(pred, task)\n",
        "\n",
        "# CPM計算（ES, EF, LS, LF）\n",
        "ES, EF = {}, {}\n",
        "for node in nx.topological_sort(G):\n",
        "    es = max([EF[p] for p in G.predecessors(node)], default=0)\n",
        "    ef = es + G.nodes[node]['duration']\n",
        "    ES[node], EF[node] = es, ef\n",
        "project_duration = max(EF.values())\n",
        "\n",
        "LF, LS = {}, {}\n",
        "for node in reversed(list(nx.topological_sort(G))):\n",
        "    lf = min([LS[s] for s in G.successors(node)], default=project_duration)\n",
        "    ls = lf - G.nodes[node]['duration']\n",
        "    LF[node], LS[node] = lf, ls\n",
        "\n",
        "# 表形式出力\n",
        "header = f\"{'作業':<2} | {'ES':>1} | {'EF':>1} | {'LS':>1} | {'LF':>1} | {'フロート':>3} | {'クリティカルパス':^4} | {'PERT期待':>8} | {'分散':^4}\"\n",
        "print(header)\n",
        "print(\"--\" * len(header))\n",
        "\n",
        "total_pert_var = 0\n",
        "for node in nx.topological_sort(G):\n",
        "    es, ef = ES[node], EF[node]\n",
        "    ls, lf = LS[node], LF[node]\n",
        "    float_time = ls - es\n",
        "    is_critical = float_time == 0\n",
        "    crit_mark = \"〇\" if is_critical else \"　\"\n",
        "    pert_e = G.nodes[node]['pert_expect']\n",
        "    pert_v = G.nodes[node]['pert_var']\n",
        "    if is_critical:\n",
        "        total_pert_var += pert_v\n",
        "    print(f\"{node:<4} | {es:>2} | {ef:>2} | {ls:>2} | {lf:>2} | {float_time:>8} | {crit_mark:^15} | {pert_e:>10.2f} | {pert_v:>6.3f}\")\n",
        "\n",
        "# PERT結果\n",
        "pert_std = math.sqrt(total_pert_var)\n",
        "print(f\"\\n■CPM：プロジェクト完了の最短所要時間 ≈ {project_duration}日\")\n",
        "print(f\"■PERT期待完了時間 ≈ {EF['J']}日，標準偏差 ≈ {pert_std:.2f}日\")\n"
      ],
      "metadata": {
        "id": "olVzxsD-FsjB",
        "outputId": "51b686ac-9c9d-49ff-e050-d2ea3eb47301",
        "colab": {
          "base_uri": "https://localhost:8080/"
        }
      },
      "execution_count": null,
      "outputs": [
        {
          "output_type": "stream",
          "name": "stdout",
          "text": [
            "作業 | ES | EF | LS | LF | フロート | クリティカルパス |   PERT期待 |  分散 \n",
            "--------------------------------------------------------------------------------------------------------------------\n",
            "A    |  0 |  4 |  0 |  4 |        0 |        〇        |       4.00 |  0.111\n",
            "B    |  4 |  7 |  4 |  7 |        0 |        〇        |       3.17 |  0.250\n",
            "C    |  4 |  9 | 11 | 16 |        7 |        　        |       5.00 |  0.111\n",
            "D    |  7 | 13 |  7 | 13 |        0 |        〇        |       6.17 |  0.250\n",
            "E    |  7 | 11 |  9 | 13 |        2 |        　        |       4.17 |  0.250\n",
            "F    |  9 | 12 | 16 | 19 |        7 |        　        |       3.00 |  0.111\n",
            "G    | 13 | 18 | 13 | 18 |        0 |        〇        |       5.17 |  0.250\n",
            "H    | 12 | 14 | 19 | 21 |        7 |        　        |       2.00 |  0.111\n",
            "I    | 18 | 21 | 18 | 21 |        0 |        〇        |       3.00 |  0.111\n",
            "J    | 21 | 23 | 21 | 23 |        0 |        〇        |       2.00 |  0.111\n",
            "\n",
            "■CPM：プロジェクト完了の最短所要時間 ≈ 23日\n",
            "■PERT期待完了時間 ≈ 23日，標準偏差 ≈ 1.04日\n"
          ]
        }
      ]
    },
    {
      "cell_type": "markdown",
      "source": [
        "結果：\n",
        "\n",
        "CPMによる最短完了時間：23日\n",
        "\n",
        "PERTによる期待完了時間：23日（※一致を確認）\n",
        "\n",
        "クリティカルパス：A → B → D → G → I → J\n",
        "\n",
        "クリティカルパス上の標準偏差（遅延リスク指標）：約 1.04日\n",
        "\n",
        "→ 正規分布近似による、95%信頼区間 ≈ 23 ± 1.96×1.04 ≈ [20.96日, 25.04日]\n",
        "\n",
        "---\n",
        "■可視化■"
      ],
      "metadata": {
        "id": "1Mf0jkvUQBQo"
      }
    },
    {
      "cell_type": "code",
      "source": [
        "import os\n",
        "import urllib.request\n",
        "import networkx as nx\n",
        "import matplotlib.pyplot as plt\n",
        "import matplotlib.font_manager as fm\n",
        "\n",
        "# ▼ フォント準備（ダウンロード済ならスキップ）\n",
        "font_path = \"BIZUDPGothic-Regular.ttf\"\n",
        "if not os.path.exists(font_path):\n",
        "    font_url = \"https://github.com/googlefonts/morisawa-biz-ud-gothic/raw/main/fonts/ttf/BIZUDPGothic-Regular.ttf\"\n",
        "    urllib.request.urlretrieve(font_url, font_path)\n",
        "\n",
        "font_prop = fm.FontProperties(fname=font_path)\n",
        "plt.rcParams['font.family'] = font_prop.get_name()\n",
        "\n",
        "# ▼ 作業データ\n",
        "task_info = {\n",
        "    'A': {'pred': [],       'duration': 4, 'expect': 4.0,  'critical': True},\n",
        "    'B': {'pred': ['A'],    'duration': 3, 'expect': 3.17, 'critical': True},\n",
        "    'C': {'pred': ['A'],    'duration': 5, 'expect': 5.0,  'critical': False},\n",
        "    'D': {'pred': ['B'],    'duration': 6, 'expect': 6.17, 'critical': True},\n",
        "    'E': {'pred': ['B'],    'duration': 4, 'expect': 4.17, 'critical': False},\n",
        "    'F': {'pred': ['C'],    'duration': 3, 'expect': 3.0,  'critical': False},\n",
        "    'G': {'pred': ['D', 'E'],'duration': 5, 'expect': 5.17, 'critical': True},\n",
        "    'H': {'pred': ['F'],    'duration': 2, 'expect': 2.0,  'critical': False},\n",
        "    'I': {'pred': ['G'],    'duration': 3, 'expect': 3.0,  'critical': True},\n",
        "    'J': {'pred': ['H', 'I'],'duration': 2, 'expect': 2.0,  'critical': True}\n",
        "}\n",
        "\n",
        "# ▼ DAG構築\n",
        "G = nx.DiGraph()\n",
        "for task, info in task_info.items():\n",
        "    G.add_node(task, duration=info['duration'], expect=info['expect'], critical=info['critical'])\n",
        "    for pred in info['pred']:\n",
        "        G.add_edge(pred, task)\n",
        "\n",
        "\n",
        "# ▼ ラベル・色設定\n",
        "labels = {\n",
        "    node: f\"{node}\\nDur:{G.nodes[node]['duration']}, Exp:{G.nodes[node]['expect']:.2f}\"\n",
        "    for node in G.nodes\n",
        "}\n",
        "node_colors = ['tomato' if G.nodes[node]['critical'] else 'lightblue' for node in G.nodes]\n",
        "edge_colors = ['red' if G.nodes[u]['critical'] and G.nodes[v]['critical'] else 'gray' for u, v in G.edges]\n",
        "pos = nx.nx_pydot.graphviz_layout(G, prog='dot')\n",
        "\n",
        "# ▼ 描画\n",
        "plt.figure(figsize=(8, 8))\n",
        "nx.draw(G, pos, with_labels=False, arrows=True, node_size=2000,\n",
        "        node_color=node_colors, edge_color=edge_colors, width=2)\n",
        "nx.draw_networkx_labels(G, pos, labels=labels, font_size=10, font_weight='bold')\n",
        "\n",
        "plt.title(\"作業ネットワーク（CPM/PERT） - 所要時間・期待時間付き / クリティカルパス強調\", fontproperties=font_prop)\n",
        "plt.axis('off')\n",
        "plt.tight_layout()\n",
        "plt.show()\n"
      ],
      "metadata": {
        "id": "4HCs_ioJcwyd",
        "outputId": "123c4987-99ed-4954-f46e-b0821e1edb42",
        "colab": {
          "base_uri": "https://localhost:8080/",
          "height": 857
        }
      },
      "execution_count": 15,
      "outputs": [
        {
          "output_type": "display_data",
          "data": {
            "text/plain": [
              "<Figure size 800x800 with 1 Axes>"
            ],
            "image/png": "[encoded data removed]"
          },
          "metadata": {}
        }
      ]
    }
  ],
  "metadata": {
    "celltoolbar": "Slideshow",
    "kernelspec": {
      "display_name": "Python 3 (ipykernel)",
      "language": "python",
      "name": "python3"
    },
    "language_info": {
      "codemirror_mode": {
        "name": "ipython",
        "version": 3
      },
      "file_extension": ".py",
      "mimetype": "text/x-python",
      "name": "python",
      "nbconvert_exporter": "python",
      "pygments_lexer": "ipython3",
      "version": "3.10.7"
    },
    "colab": {
      "provenance": [],
      "name": "modeling_kadai_goto1.ipynb",
      "include_colab_link": true
    }
  },
  "nbformat": 4,
  "nbformat_minor": 0
}