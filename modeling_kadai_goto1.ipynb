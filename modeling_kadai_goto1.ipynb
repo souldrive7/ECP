{
  "cells": [
    {
      "cell_type": "markdown",
      "metadata": {
        "id": "view-in-github",
        "colab_type": "text"
      },
      "source": [
        "<a href=\"https://colab.research.google.com/github/souldrive7/ECP/blob/main/modeling_kadai_goto1.ipynb\" target=\"_parent\"><img src=\"https://colab.research.google.com/assets/colab-badge.svg\" alt=\"Open In Colab\"/></a>"
      ]
    },
    {
      "cell_type": "markdown",
      "source": [
        "# モデリング基礎実践論 課題（土田先生）"
      ],
      "metadata": {
        "id": "diPhWIPJdlBm"
      }
    },
    {
      "cell_type": "markdown",
      "source": [
        "\n",
        "\n",
        "提出日：2025/5/11\n",
        "\n",
        "学籍番号：6025131\n",
        "\n",
        "氏名：後藤 晃郁"
      ],
      "metadata": {
        "id": "AeOUmXzxapxI"
      }
    },
    {
      "cell_type": "markdown",
      "source": [
        "# 課題"
      ],
      "metadata": {
        "id": "WzYR-1Smd3Gu"
      }
    },
    {
      "cell_type": "markdown",
      "source": [
        "---\n",
        "\n",
        "\n",
        "\n",
        "次の中から少なくとも 1つ を選んで、提出すること。\n",
        "\n",
        "1.内点法について説明せよ。具体的な例について計算機による実装を行い、シンプレックス法との計算量・計算時間を比較せよ。\n",
        "\n",
        "2.整数計画問題について説明せよ。近似解法についても説明を与え、具体的な例に対して計算機による実装を行え。\n",
        "\n",
        "3.ネットワーク計画問題について説明せよ。具体例を挙げ、計算機による実装を行え。\n",
        "\n",
        "---"
      ],
      "metadata": {
        "id": "5WMgIa3SlaIo"
      }
    },
    {
      "cell_type": "markdown",
      "source": [
        "# 1.内点法について説明せよ。具体的な例について計算機による実装を行い、シンプレックス法との計算量・計算時間を比較せよ。"
      ],
      "metadata": {
        "id": "wEMQWqqveWTu"
      }
    },
    {
      "cell_type": "markdown",
      "source": [
        "# ■内点法と単体法の比較■\n",
        "\n",
        "## 問題の定義と目的：\n",
        "内点法（Interior Point Method, IPM）は、線形計画問題において、可行領域の内部から滑らかに最適解へ向かうアルゴリズムである。単体法（Simplex Method）が領域の「頂点（境界）」をたどるのに対し、内点法は「内部」を通る点が大きな違いである。この特徴により、大規模な問題でも数値的に安定かつ効率的に解ける手法として評価されている。\n",
        "1984年にカーマーカーが提案した内点法は、多項式時間での収束が理論的に保証されていることから、理論・実務の両面で重要な役割を担っている。\n",
        "\n",
        "### 目的\n",
        "- 線形計画問題に対する内点法と単体法の計算原理・計算量の違いを比較・理解する\n",
        "- Pythonライブラリ（SciPy）を用いて両手法を実装し、目的値と計算時間を実測比較する\n",
        "- 問題規模（小・中・大）を変化させたときのスケーラビリティの違いを検証し、実用的選択指針を導出する\n",
        "\n",
        "---\n",
        "\n",
        "## ■手法（内点法と単体法）■\n",
        "\n",
        "### ♦内点法（IPM）:\n",
        "- 可行解空間の内部から出発し、目的関数を改善しながら最適点に向かって滑らかに収束する\n",
        "- 実装には、バリア法（Barrier Method）や中心経路法（Primal-Dual Method）が用いられ、いずれもニュートン法に基づく反復計算を行う。\n",
        "- 1ステップあたりのコストは高め－が、全体としては以下のように多項式時間での収束が保証されている\n",
        "\n",
        "- 特に変数数や制約数が多い大規模問題に対して、数値的に安定しやすくスケーラブル\n",
        "\n",
        "- **理論計算量：**一般に $O(n^{3.5} \\cdot L)$ または $O(n^3)$ 程度（$n$:変数数、$L$:入力のビット長）\n",
        "\n",
        "### ♦単体法（Simplex Method）:\n",
        "- 可行領域の「頂点（基本解）」に沿って、目的関数の改善方向に従い隣接する頂点間をピボット操作で移動\n",
        "\n",
        "- 実装が比較的容易で、双対解や感度分析が同時に得られることから、実務で広く用いられている\n",
        "\n",
        "- 多くの実問題では高速に動作するが、理論的には最悪ケースで指数時間がかかることが知られている\n",
        "\n",
        "- 小〜中規模の問題では実行性能が安定しており、感度分析が必要な問題にも有効\n",
        "\n",
        "- **理論計算量：**:平均的には高速だが、最悪ケース：$O(2^n)$（Klee-Minty例など）\n",
        "\n",
        "---\n",
        "\n",
        "## ■具体例・モデル化■\n",
        "以下の線形計画問題を例に、内点法・単体法を適用し、結果と計算時間を比較する。\n",
        "\n",
        "### 問題設定\n",
        "\\begin{aligned}\n",
        "\\text{maximize} \\quad & 3x_1 + 2x_2 \\\\\n",
        "\\text{subject to} \\quad\n",
        "& x_1 + x_2 \\leq 4 \\\\\n",
        "& 2x_1 + x_2 \\leq 5 \\\\\n",
        "& x_1,\\, x_2 \\geq 0\n",
        "\\end{aligned}\n",
        "\n",
        "この問題を SciPy の linprog 関数を用いて解く：\n",
        "\n",
        "内点法：method='interior-point'\n",
        "\n",
        "単体法：method='simplex'\n",
        "\n",
        "また、上記に加え、変数数・制約数を拡張した以下の問題についても同様に解析を行い、目的関数値、収束性、計算時間、理論計算量の特性を整理する。\n",
        "\n",
        "| 問題規模 | 変数数（n） | 制約数（m） |\n",
        "|----------|-------------|-------------|\n",
        "| 小規模   | 10          | 5           |\n",
        "| 中規模   | 100         | 50          |\n",
        "| 大規模   | 500         | 250         |\n",
        "\n",
        "---\n",
        "\n",
        "## ■実装■\n",
        "Python（SciPy）を用い、次の3種類の問題サイズで内点法と単体法を比較する。\n",
        "\n",
        "各問題に対して以下を計測・比較する：\n",
        "\n",
        "- 得られた目的関数値（maximize を最小化に変換して解く）  \n",
        "- 実行時間（計算時間）  \n",
        "- 理論計算量\n",
        "\n",
        "この結果を基に、問題規模に応じた手法選択の実用的指針を明らかにする。"
      ],
      "metadata": {
        "id": "gXv4dykdd84d"
      }
    },
    {
      "cell_type": "code",
      "source": [
        "import time\n",
        "import numpy as np\n",
        "import pandas as pd\n",
        "from scipy.optimize import linprog\n",
        "from IPython.display import display\n",
        "\n",
        "# 警告を非表示に\n",
        "import warnings\n",
        "warnings.filterwarnings(\"ignore\", category=DeprecationWarning)\n",
        "\n",
        "# 正しい問題規模設定（ラベルと変数数を一致）\n",
        "problem_sizes = [\n",
        "    {\"label\": \"小規模\", \"n\": 10, \"m\": 5},\n",
        "    {\"label\": \"中規模\", \"n\": 100, \"m\": 50},\n",
        "    {\"label\": \"大規模\", \"n\": 500, \"m\": 250}\n",
        "]\n",
        "\n",
        "def theoretical_complexity_ipm(n):\n",
        "    return f\"O({n}^3)\"\n",
        "\n",
        "def theoretical_complexity_simplex(n):\n",
        "    return f\"O(2^{n})\"\n",
        "\n",
        "results = []\n",
        "\n",
        "for setting in problem_sizes:\n",
        "    n, m, label = setting[\"n\"], setting[\"m\"], setting[\"label\"]\n",
        "\n",
        "    # ランダムなLP問題の生成（係数は一様乱数）\n",
        "    np.random.seed(42)\n",
        "    c = -np.random.uniform(1, 10, size=n)  # maximize → minimize\n",
        "    A = np.random.uniform(1, 10, size=(m, n))\n",
        "    b = np.random.uniform(10, 100, size=m)\n",
        "    bounds = [(0, None)] * n\n",
        "\n",
        "    # 内点法\n",
        "    start_ip = time.time()\n",
        "    res_ip = linprog(c, A_ub=A, b_ub=b, bounds=bounds, method='interior-point')\n",
        "    end_ip = time.time()\n",
        "\n",
        "    # 単体法\n",
        "    start_sm = time.time()\n",
        "    res_sm = linprog(c, A_ub=A, b_ub=b, bounds=bounds, method='simplex')\n",
        "    end_sm = time.time()\n",
        "\n",
        "    results.append({\n",
        "        \"問題規模\": label,\n",
        "        \"変数数\": n,\n",
        "        \"制約数\": m,\n",
        "        \"内点法_目的値\": -res_ip.fun if res_ip.success else None,\n",
        "        \"内点法_時間[s]\": end_ip - start_ip,\n",
        "        \"単体法_目的値\": -res_sm.fun if res_sm.success else None,\n",
        "        \"単体法_時間[s]\": end_sm - start_sm,\n",
        "        \"内点法_理論計算量\": theoretical_complexity_ipm(n),\n",
        "        \"単体法_理論計算量\": theoretical_complexity_simplex(n)\n",
        "    })\n",
        "\n",
        "# データフレーム化して表示\n",
        "df_result_final = pd.DataFrame(results)\n",
        "styled_df_final = df_result_final.style.format({\n",
        "    \"内点法_目的値\": \"{:.5f}\",\n",
        "    \"単体法_目的値\": \"{:.5f}\",\n",
        "    \"内点法_時間[s]\": \"{:.6f}\",\n",
        "    \"単体法_時間[s]\": \"{:.6f}\"\n",
        "}).set_properties(**{'text-align': 'center'}).set_table_styles(\n",
        "    [{'selector': 'th', 'props': [('text-align', 'center')]}]\n",
        ")\n",
        "\n",
        "display(styled_df_final)\n"
      ],
      "metadata": {
        "id": "h5PK30LsGNVD",
        "outputId": "356e0d2f-ff10-4e80-a456-061d786a78a8",
        "colab": {
          "base_uri": "https://localhost:8080/",
          "height": 143
        }
      },
      "execution_count": 46,
      "outputs": [
        {
          "output_type": "display_data",
          "data": {
            "text/plain": [
              "<pandas.io.formats.style.Styler at 0x7a82729ee990>"
            ],
            "text/html": [
              "<style type=\"text/css\">\n",
              "#T_bcdae th {\n",
              "  text-align: center;\n",
              "}\n",
              "#T_bcdae_row0_col0, #T_bcdae_row0_col1, #T_bcdae_row0_col2, #T_bcdae_row0_col3, #T_bcdae_row0_col4, #T_bcdae_row0_col5, #T_bcdae_row0_col6, #T_bcdae_row0_col7, #T_bcdae_row0_col8, #T_bcdae_row1_col0, #T_bcdae_row1_col1, #T_bcdae_row1_col2, #T_bcdae_row1_col3, #T_bcdae_row1_col4, #T_bcdae_row1_col5, #T_bcdae_row1_col6, #T_bcdae_row1_col7, #T_bcdae_row1_col8, #T_bcdae_row2_col0, #T_bcdae_row2_col1, #T_bcdae_row2_col2, #T_bcdae_row2_col3, #T_bcdae_row2_col4, #T_bcdae_row2_col5, #T_bcdae_row2_col6, #T_bcdae_row2_col7, #T_bcdae_row2_col8 {\n",
              "  text-align: center;\n",
              "}\n",
              "</style>\n",
              "<table id=\"T_bcdae\" class=\"dataframe\">\n",
              "  <thead>\n",
              "    <tr>\n",
              "      <th class=\"blank level0\" >&nbsp;</th>\n",
              "      <th id=\"T_bcdae_level0_col0\" class=\"col_heading level0 col0\" >問題規模</th>\n",
              "      <th id=\"T_bcdae_level0_col1\" class=\"col_heading level0 col1\" >変数数</th>\n",
              "      <th id=\"T_bcdae_level0_col2\" class=\"col_heading level0 col2\" >制約数</th>\n",
              "      <th id=\"T_bcdae_level0_col3\" class=\"col_heading level0 col3\" >内点法_目的値</th>\n",
              "      <th id=\"T_bcdae_level0_col4\" class=\"col_heading level0 col4\" >内点法_時間[s]</th>\n",
              "      <th id=\"T_bcdae_level0_col5\" class=\"col_heading level0 col5\" >単体法_目的値</th>\n",
              "      <th id=\"T_bcdae_level0_col6\" class=\"col_heading level0 col6\" >単体法_時間[s]</th>\n",
              "      <th id=\"T_bcdae_level0_col7\" class=\"col_heading level0 col7\" >内点法_理論計算量</th>\n",
              "      <th id=\"T_bcdae_level0_col8\" class=\"col_heading level0 col8\" >単体法_理論計算量</th>\n",
              "    </tr>\n",
              "  </thead>\n",
              "  <tbody>\n",
              "    <tr>\n",
              "      <th id=\"T_bcdae_level0_row0\" class=\"row_heading level0 row0\" >0</th>\n",
              "      <td id=\"T_bcdae_row0_col0\" class=\"data row0 col0\" >小規模</td>\n",
              "      <td id=\"T_bcdae_row0_col1\" class=\"data row0 col1\" >10</td>\n",
              "      <td id=\"T_bcdae_row0_col2\" class=\"data row0 col2\" >5</td>\n",
              "      <td id=\"T_bcdae_row0_col3\" class=\"data row0 col3\" >80.37928</td>\n",
              "      <td id=\"T_bcdae_row0_col4\" class=\"data row0 col4\" >0.007790</td>\n",
              "      <td id=\"T_bcdae_row0_col5\" class=\"data row0 col5\" >80.37928</td>\n",
              "      <td id=\"T_bcdae_row0_col6\" class=\"data row0 col6\" >0.008094</td>\n",
              "      <td id=\"T_bcdae_row0_col7\" class=\"data row0 col7\" >O(10^3)</td>\n",
              "      <td id=\"T_bcdae_row0_col8\" class=\"data row0 col8\" >O(2^10)</td>\n",
              "    </tr>\n",
              "    <tr>\n",
              "      <th id=\"T_bcdae_level0_row1\" class=\"row_heading level0 row1\" >1</th>\n",
              "      <td id=\"T_bcdae_row1_col0\" class=\"data row1 col0\" >中規模</td>\n",
              "      <td id=\"T_bcdae_row1_col1\" class=\"data row1 col1\" >100</td>\n",
              "      <td id=\"T_bcdae_row1_col2\" class=\"data row1 col2\" >50</td>\n",
              "      <td id=\"T_bcdae_row1_col3\" class=\"data row1 col3\" >38.40966</td>\n",
              "      <td id=\"T_bcdae_row1_col4\" class=\"data row1 col4\" >0.013084</td>\n",
              "      <td id=\"T_bcdae_row1_col5\" class=\"data row1 col5\" >38.40966</td>\n",
              "      <td id=\"T_bcdae_row1_col6\" class=\"data row1 col6\" >0.108515</td>\n",
              "      <td id=\"T_bcdae_row1_col7\" class=\"data row1 col7\" >O(100^3)</td>\n",
              "      <td id=\"T_bcdae_row1_col8\" class=\"data row1 col8\" >O(2^100)</td>\n",
              "    </tr>\n",
              "    <tr>\n",
              "      <th id=\"T_bcdae_level0_row2\" class=\"row_heading level0 row2\" >2</th>\n",
              "      <td id=\"T_bcdae_row2_col0\" class=\"data row2 col0\" >大規模</td>\n",
              "      <td id=\"T_bcdae_row2_col1\" class=\"data row2 col1\" >500</td>\n",
              "      <td id=\"T_bcdae_row2_col2\" class=\"data row2 col2\" >250</td>\n",
              "      <td id=\"T_bcdae_row2_col3\" class=\"data row2 col3\" >25.93651</td>\n",
              "      <td id=\"T_bcdae_row2_col4\" class=\"data row2 col4\" >2.017171</td>\n",
              "      <td id=\"T_bcdae_row2_col5\" class=\"data row2 col5\" >25.93651</td>\n",
              "      <td id=\"T_bcdae_row2_col6\" class=\"data row2 col6\" >3.201258</td>\n",
              "      <td id=\"T_bcdae_row2_col7\" class=\"data row2 col7\" >O(500^3)</td>\n",
              "      <td id=\"T_bcdae_row2_col8\" class=\"data row2 col8\" >O(2^500)</td>\n",
              "    </tr>\n",
              "  </tbody>\n",
              "</table>\n"
            ]
          },
          "metadata": {}
        }
      ]
    },
    {
      "cell_type": "markdown",
      "source": [
        "## ■考察・評価■\n",
        "\n",
        "本課題では、線形計画問題に対して内点法と単体法の2手法を適用し、問題規模の変化に伴う解の精度・計算時間・計算量の違いを理論と実測の両面から比較した。\n",
        "\n",
        "- 解の正確性はすべての問題規模において両手法で一致しており、計算誤差や安定性に差はない。\n",
        "\n",
        "- 計算時間においては、小規模問題では単体法がやや高速であったものの、中〜大規模問題では内点法が明らかに優位となった。\n",
        "\n",
        "- 理論計算量の面でも、内点法は多項式時間（\\( O(n^3) \\)）に収束が保証される一方、単体法は最悪ケースで指数時間（\\( O(2^n) \\)）を要するため、問題規模の増大に伴って計算リスクが高まる。\n",
        "\n",
        "- 実測結果は、これらの理論的傾向を正確に反映しており、スケーラブルな最適化が求められる場面では内点法の選択が極めて有効であることが確認された。\n"
      ],
      "metadata": {
        "id": "fVH8-tCOJfDG"
      }
    },
    {
      "cell_type": "markdown",
      "source": [
        "# 2.整数計画問題について説明せよ。近似解法についても説明を与え、具体的な例に対して計算機による実装を行え。\n"
      ],
      "metadata": {
        "id": "gvmz7StpejUP"
      }
    },
    {
      "cell_type": "markdown",
      "source": [],
      "metadata": {
        "id": "_WXg2sLUeFkK"
      }
    },
    {
      "cell_type": "markdown",
      "source": [
        "# 3.ネットワーク計画問題について説明せよ。具体例を挙げ、計算機による実装を行え。"
      ],
      "metadata": {
        "id": "Tkyp638iecjA"
      }
    },
    {
      "cell_type": "markdown",
      "source": [
        "---\n",
        "■問題の定義と目的■\n",
        "\n",
        "**ネットワーク計画問題とは**:\n",
        "\n",
        "プロジェクトを構成する複数の作業を、順序関係と所要時間を持つネットワーク（有向非巡回グラフ）として表現し、プロジェクトの最短完了時間や、全体の進行に影響するクリティカルパスを特定する問題のことをいう。\n",
        "\n",
        "**目的**:\n",
        "\n",
        "- プロジェクトの所要時間の把握\n",
        "\n",
        "- 遅延リスクのある作業（クリティカルパス）の特定\n",
        "\n",
        "- 余裕時間（フロート）を活かした進行・資源計画\n",
        "\n",
        "- 不確実性がある場合は遅延の確率的評価\n",
        "---\n",
        "\n",
        "■手法（CPM法とPERT法）■\n",
        "\n",
        "**CPM法（Critical Path Method）**:決定論的アプローチ\n",
        "\n",
        "- 作業時間が確定している前提で進行\n",
        "\n",
        "- 最早開始/終了時刻（ES/EF）と最遅開始/終了時刻（LS/LF）を算出\n",
        "\n",
        "- フロートを計算し、フロートが0の作業列をクリティカルパスと判断\n",
        "\n",
        "**PERT法（Program Evaluation and Review Technique）**:確率論的アプローチ\n",
        "\n",
        "- 作業時間を確率変数として扱う\n",
        "\n",
        "- プロジェクト完了時間の期待値と標準偏差を求め、確率的に遅延リスクを評価\n",
        "\n",
        "- 各作業に対して以下の3点見積もりを用いる：\n",
        "\n",
        "  楽観値（$a$）, 最可能値（$m$）, 悲観値（$b$）\n",
        "\n",
        "  期待時間 $E = \\frac{a + 4m + b}{6}$\n",
        "\n",
        "  分散 $Var = \\left(\\frac{b - a}{6}\\right)^2$\n",
        "\n",
        "---\n",
        "\n",
        "■具体例・モデル化■\n",
        "\n",
        "以下の作業リストを対象として、CPM・PERTの両手法を適用した。\n",
        "\n",
        "| 作業 | 先行作業 | 所要時間（CPM） | 楽観値 (a) | 最可能値 (m) | 悲観値 (b) |\n",
        "|------|----------|------------------|------------|---------------|------------|\n",
        "| A    | -        | 4                | 3          | 4             | 5          |\n",
        "| B    | A        | 3                | 2          | 3             | 5          |\n",
        "| C    | A        | 5                | 4          | 5             | 6          |\n",
        "| D    | B        | 6                | 5          | 6             | 8          |\n",
        "| E    | B        | 4                | 3          | 4             | 6          |\n",
        "| F    | C        | 3                | 2          | 3             | 4          |\n",
        "| G    | D, E     | 5                | 4          | 5             | 7          |\n",
        "| H    | F        | 2                | 1          | 2             | 3          |\n",
        "| I    | G        | 3                | 2          | 3             | 4          |\n",
        "| J    | H, I     | 2                | 1          | 2             | 3          |\n",
        "\n",
        "この構成により、複雑な依存関係を持つプロジェクト全体が**有向非巡回グラフ（DAG）**として表現される。\n"
      ],
      "metadata": {
        "id": "-ChAMrvk8b1O"
      }
    },
    {
      "cell_type": "code",
      "source": [
        "import networkx as nx\n",
        "import math\n",
        "\n",
        "# 必要な事前データ（例）\n",
        "G = nx.DiGraph()\n",
        "tasks = {\n",
        "    'A': ([], 4, 3, 4, 5),\n",
        "    'B': (['A'], 3, 2, 3, 5),\n",
        "    'C': (['A'], 5, 4, 5, 6),\n",
        "    'D': (['B'], 6, 5, 6, 8),\n",
        "    'E': (['B'], 4, 3, 4, 6),\n",
        "    'F': (['C'], 3, 2, 3, 4),\n",
        "    'G': (['D', 'E'], 5, 4, 5, 7),\n",
        "    'H': (['F'], 2, 1, 2, 3),\n",
        "    'I': (['G'], 3, 2, 3, 4),\n",
        "    'J': (['H', 'I'], 2, 1, 2, 3)\n",
        "}\n",
        "for task, (preds, duration, a, m, b) in tasks.items():\n",
        "    G.add_node(task,\n",
        "               duration=duration,\n",
        "               pert_expect=(a + 4 * m + b) / 6,\n",
        "               pert_var=((b - a) / 6) ** 2)\n",
        "    for pred in preds:\n",
        "        G.add_edge(pred, task)\n",
        "\n",
        "# CPM計算（ES, EF, LS, LF）\n",
        "ES, EF = {}, {}\n",
        "for node in nx.topological_sort(G):\n",
        "    es = max([EF[p] for p in G.predecessors(node)], default=0)\n",
        "    ef = es + G.nodes[node]['duration']\n",
        "    ES[node], EF[node] = es, ef\n",
        "project_duration = max(EF.values())\n",
        "\n",
        "LF, LS = {}, {}\n",
        "for node in reversed(list(nx.topological_sort(G))):\n",
        "    lf = min([LS[s] for s in G.successors(node)], default=project_duration)\n",
        "    ls = lf - G.nodes[node]['duration']\n",
        "    LF[node], LS[node] = lf, ls\n",
        "\n",
        "# 表形式出力\n",
        "header = f\"{'作業':<2} | {'ES':>2} | {'EF':>2} | {'LS':>2} | {'LF':>2} | {'フロート':>4} | {'クリティカルパス':^4} | {'PERT期待':>5} | {'分散':>2}\"\n",
        "print(header)\n",
        "print(\"--\" * len(header))\n",
        "\n",
        "total_pert_var = 0\n",
        "for node in nx.topological_sort(G):\n",
        "    es, ef = ES[node], EF[node]\n",
        "    ls, lf = LS[node], LF[node]\n",
        "    float_time = ls - es\n",
        "    is_critical = float_time == 0\n",
        "    crit_mark = \"〇\" if is_critical else \"　\"\n",
        "    pert_e = G.nodes[node]['pert_expect']\n",
        "    pert_v = G.nodes[node]['pert_var']\n",
        "    if is_critical:\n",
        "        total_pert_var += pert_v\n",
        "    print(f\"{node:<4} | {es:>2} | {ef:>2} | {ls:>2} | {lf:>2} | {float_time:>8} | {crit_mark:^15} | {pert_e:>8.2f} | {pert_v:^5.3f}\")\n",
        "\n",
        "# PERT結果\n",
        "pert_std = math.sqrt(total_pert_var)\n",
        "print(f\"\\n■CPM：プロジェクト完了の最短所要時間 ≈ {project_duration}日\")\n",
        "print(f\"■PERT期待完了時間 ≈ {EF['J']}日，標準偏差 ≈ {pert_std:.2f}日\")\n"
      ],
      "metadata": {
        "id": "olVzxsD-FsjB",
        "outputId": "0ea3e901-38bd-4903-b535-56d820193c85",
        "colab": {
          "base_uri": "https://localhost:8080/"
        }
      },
      "execution_count": 41,
      "outputs": [
        {
          "output_type": "stream",
          "name": "stdout",
          "text": [
            "作業 | ES | EF | LS | LF | フロート | クリティカルパス | PERT期待 | 分散\n",
            "------------------------------------------------------------------------------------------------------------\n",
            "A    |  0 |  4 |  0 |  4 |        0 |        〇        |     4.00 | 0.111\n",
            "B    |  4 |  7 |  4 |  7 |        0 |        〇        |     3.17 | 0.250\n",
            "C    |  4 |  9 | 11 | 16 |        7 |        　        |     5.00 | 0.111\n",
            "D    |  7 | 13 |  7 | 13 |        0 |        〇        |     6.17 | 0.250\n",
            "E    |  7 | 11 |  9 | 13 |        2 |        　        |     4.17 | 0.250\n",
            "F    |  9 | 12 | 16 | 19 |        7 |        　        |     3.00 | 0.111\n",
            "G    | 13 | 18 | 13 | 18 |        0 |        〇        |     5.17 | 0.250\n",
            "H    | 12 | 14 | 19 | 21 |        7 |        　        |     2.00 | 0.111\n",
            "I    | 18 | 21 | 18 | 21 |        0 |        〇        |     3.00 | 0.111\n",
            "J    | 21 | 23 | 21 | 23 |        0 |        〇        |     2.00 | 0.111\n",
            "\n",
            "■CPM：プロジェクト完了の最短所要時間 ≈ 23日\n",
            "■PERT期待完了時間 ≈ 23日，標準偏差 ≈ 1.04日\n"
          ]
        }
      ]
    },
    {
      "cell_type": "markdown",
      "source": [
        "結果：\n",
        "\n",
        "CPMによる最短完了時間：23日\n",
        "\n",
        "PERTによる期待完了時間：23日（※一致を確認）\n",
        "\n",
        "クリティカルパス：A → B → D → G → I → J\n",
        "\n",
        "クリティカルパス上の標準偏差（遅延リスク指標）：約 1.04日\n",
        "\n",
        "→ 正規分布近似による、95%信頼区間 ≈ 23 ± 1.96×1.04 ≈ [20.96日, 25.04日]\n",
        "\n",
        "---\n",
        "■可視化■"
      ],
      "metadata": {
        "id": "1Mf0jkvUQBQo"
      }
    },
    {
      "cell_type": "code",
      "source": [
        "import os\n",
        "import urllib.request\n",
        "import networkx as nx\n",
        "import matplotlib.pyplot as plt\n",
        "import matplotlib.font_manager as fm\n",
        "\n",
        "# ▼ フォント準備（ダウンロード済ならスキップ）\n",
        "font_path = \"BIZUDPGothic-Regular.ttf\"\n",
        "if not os.path.exists(font_path):\n",
        "    font_url = \"https://github.com/googlefonts/morisawa-biz-ud-gothic/raw/main/fonts/ttf/BIZUDPGothic-Regular.ttf\"\n",
        "    urllib.request.urlretrieve(font_url, font_path)\n",
        "\n",
        "font_prop = fm.FontProperties(fname=font_path)\n",
        "plt.rcParams['font.family'] = font_prop.get_name()\n",
        "\n",
        "# ▼ 作業データ\n",
        "task_info = {\n",
        "    'A': {'pred': [],       'duration': 4, 'expect': 4.0,  'critical': True},\n",
        "    'B': {'pred': ['A'],    'duration': 3, 'expect': 3.17, 'critical': True},\n",
        "    'C': {'pred': ['A'],    'duration': 5, 'expect': 5.0,  'critical': False},\n",
        "    'D': {'pred': ['B'],    'duration': 6, 'expect': 6.17, 'critical': True},\n",
        "    'E': {'pred': ['B'],    'duration': 4, 'expect': 4.17, 'critical': False},\n",
        "    'F': {'pred': ['C'],    'duration': 3, 'expect': 3.0,  'critical': False},\n",
        "    'G': {'pred': ['D', 'E'],'duration': 5, 'expect': 5.17, 'critical': True},\n",
        "    'H': {'pred': ['F'],    'duration': 2, 'expect': 2.0,  'critical': False},\n",
        "    'I': {'pred': ['G'],    'duration': 3, 'expect': 3.0,  'critical': True},\n",
        "    'J': {'pred': ['H', 'I'],'duration': 2, 'expect': 2.0,  'critical': True}\n",
        "}\n",
        "\n",
        "# ▼ DAG構築\n",
        "G = nx.DiGraph()\n",
        "for task, info in task_info.items():\n",
        "    G.add_node(task, duration=info['duration'], expect=info['expect'], critical=info['critical'])\n",
        "    for pred in info['pred']:\n",
        "        G.add_edge(pred, task)\n",
        "\n",
        "\n",
        "# ▼ ラベル・色設定\n",
        "labels = {\n",
        "    node: f\"{node}\\nDur:{G.nodes[node]['duration']}, Exp:{G.nodes[node]['expect']:.2f}\"\n",
        "    for node in G.nodes\n",
        "}\n",
        "node_colors = ['tomato' if G.nodes[node]['critical'] else 'lightblue' for node in G.nodes]\n",
        "edge_colors = ['red' if G.nodes[u]['critical'] and G.nodes[v]['critical'] else 'gray' for u, v in G.edges]\n",
        "pos = nx.nx_pydot.graphviz_layout(G, prog='dot')\n",
        "\n",
        "# ▼ 描画\n",
        "plt.figure(figsize=(12, 8))\n",
        "nx.draw(G, pos, with_labels=False, arrows=True, node_size=2000,\n",
        "        node_color=node_colors, edge_color=edge_colors, width=2)\n",
        "nx.draw_networkx_labels(G, pos, labels=labels, font_size=10, font_weight='bold')\n",
        "\n",
        "plt.title(\"作業ネットワーク（CPM/PERT） - 所要時間・期待時間付き / クリティカルパス強調\", fontproperties=font_prop)\n",
        "plt.axis('off')\n",
        "plt.tight_layout()\n",
        "\n",
        "# PDF保存\n",
        "plt.savefig(\"network_chart.pdf\", format='pdf', bbox_inches='tight')\n",
        "plt.show()\n"
      ],
      "metadata": {
        "id": "4HCs_ioJcwyd",
        "outputId": "c20a3abc-7705-4116-fe55-e7d2643da265",
        "colab": {
          "base_uri": "https://localhost:8080/",
          "height": 894
        }
      },
      "execution_count": 42,
      "outputs": [
        {
          "output_type": "stream",
          "name": "stderr",
          "text": [
            "<ipython-input-42-37cf36fba0ba>:55: UserWarning: This figure includes Axes that are not compatible with tight_layout, so results might be incorrect.\n",
            "  plt.tight_layout()\n"
          ]
        },
        {
          "output_type": "display_data",
          "data": {
            "text/plain": [
              "<Figure size 1200x800 with 1 Axes>"
            ],
            "image/png": "[encoded data removed]"
          },
          "metadata": {}
        }
      ]
    }
  ],
  "metadata": {
    "celltoolbar": "Slideshow",
    "kernelspec": {
      "display_name": "Python 3 (ipykernel)",
      "language": "python",
      "name": "python3"
    },
    "language_info": {
      "codemirror_mode": {
        "name": "ipython",
        "version": 3
      },
      "file_extension": ".py",
      "mimetype": "text/x-python",
      "name": "python",
      "nbconvert_exporter": "python",
      "pygments_lexer": "ipython3",
      "version": "3.10.7"
    },
    "colab": {
      "provenance": [],
      "name": "modeling_kadai_goto1.ipynb",
      "include_colab_link": true
    }
  },
  "nbformat": 4,
  "nbformat_minor": 0
}