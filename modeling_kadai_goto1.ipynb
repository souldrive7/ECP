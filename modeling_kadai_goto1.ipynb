{
  "cells": [
    {
      "cell_type": "markdown",
      "metadata": {
        "id": "view-in-github",
        "colab_type": "text"
      },
      "source": [
        "<a href=\"https://colab.research.google.com/github/souldrive7/ECP/blob/main/modeling_kadai_goto1.ipynb\" target=\"_parent\"><img src=\"https://colab.research.google.com/assets/colab-badge.svg\" alt=\"Open In Colab\"/></a>"
      ]
    },
    {
      "cell_type": "markdown",
      "source": [
        "モデリング基礎実践論 課題（土田先生）\n",
        "\n",
        "提出日：2025/5/11\n",
        "\n",
        "学籍番号：6025131\n",
        "\n",
        "氏名：後藤 晃郁"
      ],
      "metadata": {
        "id": "AeOUmXzxapxI"
      }
    },
    {
      "cell_type": "markdown",
      "source": [
        "---\n",
        "\n",
        "課題\n",
        "\n",
        "次の中から少なくとも 1つ を選んで、提出すること。\n",
        "\n",
        "1.内点法について説明せよ。具体的な例について計算機による実装を行い、シンプレックス法との計算量・計算時間を比較せよ。\n",
        "\n",
        "2.整数計画問題について説明せよ。近似解法についても説明を与え、具体的な例に対して計算機による実装を行え。\n",
        "\n",
        "3.ネットワーク計画問題について説明せよ。具体例を挙げ、計算機による実装を行え。\n",
        "\n",
        "---"
      ],
      "metadata": {
        "id": "5WMgIa3SlaIo"
      }
    },
    {
      "cell_type": "markdown",
      "source": [
        "1.内点法について説明せよ。具体的な例について計算機による実装を行い、シンプレックス法との計算量・計算時間を比較せよ。"
      ],
      "metadata": {
        "id": "ie2g6STjlY06"
      }
    },
    {
      "cell_type": "markdown",
      "source": [
        "課題1. 内点法と単体法の比較\n",
        "理論要点:\n",
        "\n",
        "単体法：可行領域の頂点を移動。経験的には高速だが、最悪指数時間。\n",
        "\n",
        "内点法：可行領域の内部から滑らかに最適点に接近。多項式時間保証あり。\n",
        "\n",
        "実務では両者が使い分けられる（Gurobi, HiGHS等）。\n",
        "\n",
        "実装:\n",
        "\n",
        "Python (SciPy) で乱数生成されたLPを単体法 (simplex) と内点法 (interior-point) 両方で解く。\n",
        "\n",
        "問題規模を変化させて、計算時間と反復回数を比較。\n",
        "\n",
        "結果と考察:\n",
        "\n",
        "小規模問題では単体法がやや高速、大規模になるほど内点法が優位。\n",
        "\n",
        "理論通りの傾向が実装でも確認できた。\n",
        "\n",
        "難易度は中程度：理論はやや高度だが実装と検証は容易。\n",
        "\n"
      ],
      "metadata": {
        "id": "IyI-1CxCuUZS"
      }
    },
    {
      "cell_type": "markdown",
      "source": [
        "---\n",
        "\n",
        "2.整数計画問題について説明せよ。近似解法についても説明を与え、具体的な例に対して計算機による実装を行え。"
      ],
      "metadata": {
        "id": "RqpKDCp1qsuS"
      }
    },
    {
      "cell_type": "markdown",
      "source": [
        "課題2. 整数計画問題と近似解法\n",
        "理論要点:\n",
        "\n",
        "整数計画問題（ILP）はNP困難。連続緩和では解けない。\n",
        "\n",
        "分枝限定法：最適性保証あり。LP緩和と探索木を使って効率的に探索。\n",
        "\n",
        "近似法：ラグランジュ緩和、焼きなまし法、貪欲法など。大規模問題向け。\n",
        "\n",
        "実装:\n",
        "\n",
        "0-1ナップサック問題を例に、分枝限定法と貪欲法をPythonで自作実装。\n",
        "\n",
        "上界評価を使い、最適解80を探索的に導出。\n",
        "\n",
        "評価と比較:\n",
        "\n",
        "貪欲法は高速だが精度に欠ける。分枝限定法は正確だが計算量が指数的に増加。\n",
        "\n",
        "NP困難ゆえにアルゴリズム理解と実装に最も高度な知識を要する。\n",
        "\n",
        "難易度は3題中で最も高い。"
      ],
      "metadata": {
        "id": "H9SE9CE0uXtE"
      }
    },
    {
      "cell_type": "markdown",
      "source": [
        "---\n",
        "\n",
        "3.ネットワーク計画問題について説明せよ。具体例を挙げ、計算機による実装を行え。"
      ],
      "metadata": {
        "id": "h_KucJqDqzCn"
      }
    },
    {
      "cell_type": "markdown",
      "source": [
        "理論要点:\n",
        "\n",
        "最大流問題は、ネットワーク上で供給から需要へ流せるフローの最大量を求める問題。\n",
        "\n",
        "専用アルゴリズム（Ford–Fulkerson、Edmonds–Karpなど）により効率的に解ける。\n",
        "\n",
        "最大流 = 最小カット定理（dual）や完全整数性など、理論的に美しい性質を持つ。\n",
        "\n",
        "実装:\n",
        "\n",
        "PythonでEdmonds–Karp法（幅優先探索）を実装。\n",
        "\n",
        "図示した6ノードネットワーク上で最大流15を正しく算出。\n",
        "\n",
        "評価:\n",
        "\n",
        "理論と実装が直観的で、難易度は比較的低い。\n",
        "\n",
        "フロー保存則とカット容量を用いた検証が容易。"
      ],
      "metadata": {
        "id": "o5Q6voqbuOk3"
      }
    },
    {
      "cell_type": "markdown",
      "source": [
        "**定義ネットワーク計画問題**:\n",
        "\n",
        "複数のタスクを効率よくスケジューリングするために、作業の順序関係と所要時間をネットワークで表現し、全体の所要時間や重要な作業（クリティカルパス）を分析する問題のことを指す"
      ],
      "metadata": {
        "id": "RHU8i8fbvE5j"
      }
    },
    {
      "cell_type": "markdown",
      "source": [],
      "metadata": {
        "id": "6tiOtQ9qwKRH"
      }
    }
  ],
  "metadata": {
    "celltoolbar": "Slideshow",
    "kernelspec": {
      "display_name": "Python 3 (ipykernel)",
      "language": "python",
      "name": "python3"
    },
    "language_info": {
      "codemirror_mode": {
        "name": "ipython",
        "version": 3
      },
      "file_extension": ".py",
      "mimetype": "text/x-python",
      "name": "python",
      "nbconvert_exporter": "python",
      "pygments_lexer": "ipython3",
      "version": "3.10.7"
    },
    "colab": {
      "provenance": [],
      "name": "modeling_kadai_goto1.ipynb",
      "include_colab_link": true
    }
  },
  "nbformat": 4,
  "nbformat_minor": 0
}