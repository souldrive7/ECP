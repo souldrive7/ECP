{
  "cells": [
    {
      "cell_type": "markdown",
      "metadata": {
        "id": "view-in-github",
        "colab_type": "text"
      },
      "source": [
        "<a href=\"https://colab.research.google.com/github/souldrive7/ECP/blob/main/modeling_kadai_ipynb.ipynb\" target=\"_parent\"><img src=\"https://colab.research.google.com/assets/colab-badge.svg\" alt=\"Open In Colab\"/></a>"
      ]
    },
    {
      "cell_type": "markdown",
      "source": [
        "# 演習課題\n",
        "## 1. a.実データセットを一つ選んで、PCアルゴリズムを適用し、因果グラフのプロットを出力せよ。ただし、以下の条件を満たすこと：\n",
        "- 独立検定の有意水準を **0.1** に設定する。  \n",
        "- 実データの出典も明記する。  \n",
        "- 相関係数に基づく検定を使う場合、変数集合の中に**離散変数とカテゴリカル変数を取り除く**こと。  \n",
        "- 結果の因果グラフにおいて、**4つ以上のノードを含む**ようにすること。\n",
        "\n",
        "## 1. b.上記のデータを用いて、下記に解答せよ：\n",
        "- 一つの変数を**介入変数**、一つの変数を**目的変数**として選び、  \n",
        "- **直接因果効果の推定値**を求めよ。  \n",
        "- その際に使用した**調整変数**を明記すること。\n",
        "\n",
        "## 2. X₁ と X₂ の間に未観測の交絡変数が存在しないことを証明せよ：\n",
        "FCI の出力が以下のグラフになると仮定する\n",
        "- データの経験分布が忠実であると仮定する。  \n",
        "- FCI の全ての条件付き独立検定が正しい結果を返すと仮定する。  \n",
        "- このとき、**X₁ と X₂ の間に未観測の交絡変数が存在しないことを証明せよ。**\n",
        "---\n",
        "---"
      ],
      "metadata": {
        "id": "p1daBEuRrXrr"
      }
    },
    {
      "cell_type": "markdown",
      "source": [
        "## 1.PCアルゴリズムを適用し、因果グラフのプロットを出力せよ。\n",
        "**実データ分析概要**：\n",
        "\n",
        "PCアルゴリズムを用いて、金価格に影響を与える金融要因を分析した。\n",
        "\n",
        "**条件**：\n",
        "- 有意水準：0.1\n",
        "- 検定方法：相関係数に基づく Fisher's Z 検定\n",
        "- データ前処理：カテゴリカル・離散変数は含まれていない\n",
        "- ノード数：5（SPX, GLD, USO, SLV, EUR/USD）\n",
        "- データ出典：下記のGithubのオープンデータより取得\n",
        "\n",
        "https://github.com/jigyasaG18/Gold-Price-Prediction-Project-using-Machine-Learning/blob/main/gold_price_data.csv\n",
        "\n",
        "- データ項目: 金価格・株価・原油・銀・為替の金融市場データ:期間2008年から2018年\n",
        "- 変数（日次）：SPX（S&P500株価指数）,GLD（金ETF）,USO（原油ETF）,SLV（銀ETF）,EUR/USD（ユーロドル為替）\n",
        "\n",
        "## 1. b.上記のデータを用いて、下記に解答せよ：\n",
        "**目的**：各変数が金価格に与える直接因果効果を推定\n",
        "\n",
        "**介入変数**：`SPX`（S&P500株価指数）  \n",
        "**目的変数**：`GLD`（金ETF）  \n",
        "**調整変数**：`USO`（原油ETF）, `SLV`（銀ETF）, `EUR/USD`（ユーロドル為替）\n",
        "\n",
        "[直接因果効果の推定値]\n",
        "\n",
        "S&P500株価指数（SPX）の金価格（GLD）への直接因果効果: 0.0067 GLD単位/指数単位\n",
        "\n",
        "【追加の分析として、下記を試みた】\n",
        "- Lingamモデルへの適応\n",
        "---"
      ],
      "metadata": {
        "id": "DyvEc5hUBg3p"
      }
    },
    {
      "cell_type": "code",
      "source": [
        "!pip install git+https://github.com/py-why/causal-learn.git"
      ],
      "metadata": {
        "colab": {
          "base_uri": "https://localhost:8080/"
        },
        "collapsed": true,
        "id": "R8jE8sFzjrMX",
        "outputId": "d57d6a6a-03a9-4e35-ba7d-726a43156155"
      },
      "execution_count": 23,
      "outputs": [
        {
          "output_type": "stream",
          "name": "stdout",
          "text": [
            "Collecting git+https://github.com/py-why/causal-learn.git\n",
            "  Cloning https://github.com/py-why/causal-learn.git to /tmp/pip-req-build-3joeoh0m\n",
            "  Running command git clone --filter=blob:none --quiet https://github.com/py-why/causal-learn.git /tmp/pip-req-build-3joeoh0m\n",
            "  Resolved https://github.com/py-why/causal-learn.git to commit 9689c1bdc468847729eacf0921b76f598161ae16\n",
            "  Preparing metadata (setup.py) ... \u001b[?25l\u001b[?25hdone\n",
            "Requirement already satisfied: numpy in /usr/local/lib/python3.11/dist-packages (from causal-learn==0.1.4.0) (1.26.4)\n",
            "Requirement already satisfied: scipy in /usr/local/lib/python3.11/dist-packages (from causal-learn==0.1.4.0) (1.11.4)\n",
            "Requirement already satisfied: scikit-learn in /usr/local/lib/python3.11/dist-packages (from causal-learn==0.1.4.0) (1.6.1)\n",
            "Requirement already satisfied: graphviz in /usr/local/lib/python3.11/dist-packages (from causal-learn==0.1.4.0) (0.20.3)\n",
            "Requirement already satisfied: statsmodels in /usr/local/lib/python3.11/dist-packages (from causal-learn==0.1.4.0) (0.14.4)\n",
            "Requirement already satisfied: pandas in /usr/local/lib/python3.11/dist-packages (from causal-learn==0.1.4.0) (2.2.2)\n",
            "Requirement already satisfied: matplotlib in /usr/local/lib/python3.11/dist-packages (from causal-learn==0.1.4.0) (3.10.0)\n",
            "Requirement already satisfied: networkx in /usr/local/lib/python3.11/dist-packages (from causal-learn==0.1.4.0) (3.4.2)\n",
            "Requirement already satisfied: pydot in /usr/local/lib/python3.11/dist-packages (from causal-learn==0.1.4.0) (3.0.4)\n",
            "Requirement already satisfied: tqdm in /usr/local/lib/python3.11/dist-packages (from causal-learn==0.1.4.0) (4.67.1)\n",
            "Requirement already satisfied: momentchi2 in /usr/local/lib/python3.11/dist-packages (from causal-learn==0.1.4.0) (0.1.8)\n",
            "Requirement already satisfied: contourpy>=1.0.1 in /usr/local/lib/python3.11/dist-packages (from matplotlib->causal-learn==0.1.4.0) (1.3.2)\n",
            "Requirement already satisfied: cycler>=0.10 in /usr/local/lib/python3.11/dist-packages (from matplotlib->causal-learn==0.1.4.0) (0.12.1)\n",
            "Requirement already satisfied: fonttools>=4.22.0 in /usr/local/lib/python3.11/dist-packages (from matplotlib->causal-learn==0.1.4.0) (4.57.0)\n",
            "Requirement already satisfied: kiwisolver>=1.3.1 in /usr/local/lib/python3.11/dist-packages (from matplotlib->causal-learn==0.1.4.0) (1.4.8)\n",
            "Requirement already satisfied: packaging>=20.0 in /usr/local/lib/python3.11/dist-packages (from matplotlib->causal-learn==0.1.4.0) (24.2)\n",
            "Requirement already satisfied: pillow>=8 in /usr/local/lib/python3.11/dist-packages (from matplotlib->causal-learn==0.1.4.0) (11.2.1)\n",
            "Requirement already satisfied: pyparsing>=2.3.1 in /usr/local/lib/python3.11/dist-packages (from matplotlib->causal-learn==0.1.4.0) (3.2.3)\n",
            "Requirement already satisfied: python-dateutil>=2.7 in /usr/local/lib/python3.11/dist-packages (from matplotlib->causal-learn==0.1.4.0) (2.9.0.post0)\n",
            "Requirement already satisfied: pytz>=2020.1 in /usr/local/lib/python3.11/dist-packages (from pandas->causal-learn==0.1.4.0) (2025.2)\n",
            "Requirement already satisfied: tzdata>=2022.7 in /usr/local/lib/python3.11/dist-packages (from pandas->causal-learn==0.1.4.0) (2025.2)\n",
            "Requirement already satisfied: joblib>=1.2.0 in /usr/local/lib/python3.11/dist-packages (from scikit-learn->causal-learn==0.1.4.0) (1.4.2)\n",
            "Requirement already satisfied: threadpoolctl>=3.1.0 in /usr/local/lib/python3.11/dist-packages (from scikit-learn->causal-learn==0.1.4.0) (3.6.0)\n",
            "Requirement already satisfied: patsy>=0.5.6 in /usr/local/lib/python3.11/dist-packages (from statsmodels->causal-learn==0.1.4.0) (1.0.1)\n",
            "Requirement already satisfied: six>=1.5 in /usr/local/lib/python3.11/dist-packages (from python-dateutil>=2.7->matplotlib->causal-learn==0.1.4.0) (1.17.0)\n"
          ]
        }
      ]
    },
    {
      "cell_type": "code",
      "source": [
        "from google.colab import drive\n",
        "drive.mount('/content/drive')\n",
        "\n",
        "import pandas as pd\n",
        "data_path = '/content/drive/MyDrive/Dataset/kadai/gold_price_data.csv'\n",
        "df = pd.read_csv(data_path)\n",
        "\n",
        "# 'Date'列を日付型に変換し、インデックスとして設定\n",
        "df['Date'] = pd.to_datetime(df['Date'])\n",
        "df.set_index('Date', inplace=True)\n",
        "\n",
        "# 欠損値の処理\n",
        "df = df.dropna()\n",
        "\n",
        "# 日付列を削除\n",
        "#df = df.drop(columns=['EUR/USD'])\n",
        "\n",
        "# 欠損値の確認\n",
        "print(df.isnull().sum())\n",
        "\n",
        "# データの確認\n",
        "print(df.head())"
      ],
      "metadata": {
        "colab": {
          "base_uri": "https://localhost:8080/"
        },
        "id": "F93lWmRkpDCu",
        "outputId": "94826b1b-0b24-4c67-96f5-e13a60a5728c"
      },
      "execution_count": 24,
      "outputs": [
        {
          "output_type": "stream",
          "name": "stdout",
          "text": [
            "Drive already mounted at /content/drive; to attempt to forcibly remount, call drive.mount(\"/content/drive\", force_remount=True).\n",
            "SPX        0\n",
            "GLD        0\n",
            "USO        0\n",
            "SLV        0\n",
            "EUR/USD    0\n",
            "dtype: int64\n",
            "                    SPX        GLD        USO     SLV   EUR/USD\n",
            "Date                                                           \n",
            "2008-01-02  1447.160034  84.860001  78.470001  15.180  1.471692\n",
            "2008-01-03  1447.160034  85.570000  78.370003  15.285  1.474491\n",
            "2008-01-04  1411.630005  85.129997  77.309998  15.167  1.475492\n",
            "2008-01-07  1416.180054  84.769997  75.500000  15.053  1.468299\n",
            "2008-01-08  1390.189941  86.779999  76.059998  15.590  1.557099\n"
          ]
        }
      ]
    },
    {
      "cell_type": "code",
      "source": [
        "# データの確認\n",
        "print(df.tail())"
      ],
      "metadata": {
        "colab": {
          "base_uri": "https://localhost:8080/"
        },
        "collapsed": true,
        "id": "hg2FBKsOvegy",
        "outputId": "df553525-9e7d-4de7-cc34-4d30dc2bb733"
      },
      "execution_count": 25,
      "outputs": [
        {
          "output_type": "stream",
          "name": "stdout",
          "text": [
            "                    SPX         GLD      USO      SLV   EUR/USD\n",
            "Date                                                           \n",
            "2018-05-08  2671.919922  124.589996  14.0600  15.5100  1.186789\n",
            "2018-05-09  2697.790039  124.330002  14.3700  15.5300  1.184722\n",
            "2018-05-10  2723.070068  125.180000  14.4100  15.7400  1.191753\n",
            "2018-05-14  2730.129883  124.489998  14.3800  15.5600  1.193118\n",
            "2018-05-16  2725.780029  122.543800  14.4058  15.4542  1.182033\n"
          ]
        }
      ]
    },
    {
      "cell_type": "code",
      "source": [
        "from causallearn.search.ConstraintBased.PC import pc\n",
        "from causallearn.utils.GraphUtils import GraphUtils\n",
        "\n",
        "# データをNumPy配列に変換\n",
        "data = df.to_numpy()\n",
        "\n",
        "# 変数名のリスト\n",
        "labels = df.columns.tolist()\n",
        "\n",
        "# PCアルゴリズムの適用\n",
        "cg = pc(data, alpha=0.1, indep_test='fisherz', node_names=labels)"
      ],
      "metadata": {
        "id": "SsF-VtFnjrGL",
        "colab": {
          "base_uri": "https://localhost:8080/",
          "height": 49,
          "referenced_widgets": [
            "be96c25f614a42988aebf9c0973c714b",
            "49cac80961d346d0a378a5572495fd3a",
            "059e39fdb7a24b778c31b4bc3cad5b50",
            "14a6ce42288e4e538bee92bd8d0e6d48",
            "c602a569fba8440f9d4485ca307b557c",
            "cf71e79eface4e38a74df9e10bcfeac8",
            "efec1f925f974bd6b9711b4def3b7721",
            "5d2941f8209745959b9068844c1afeef",
            "90ff602019654839a37b3863d24808d0",
            "cb0b3aecbf684afab2dacbed0127901d",
            "fa3270ff83a8448d81bb1fc3b63cbbb7"
          ]
        },
        "collapsed": true,
        "outputId": "92c11d12-7b06-4937-efc8-2e0af4ff815d"
      },
      "execution_count": 26,
      "outputs": [
        {
          "output_type": "display_data",
          "data": {
            "text/plain": [
              "  0%|          | 0/5 [00:00<?, ?it/s]"
            ],
            "application/vnd.jupyter.widget-view+json": {
              "version_major": 2,
              "version_minor": 0,
              "model_id": "be96c25f614a42988aebf9c0973c714b"
            }
          },
          "metadata": {}
        }
      ]
    },
    {
      "cell_type": "code",
      "source": [
        "# セットアップ\n",
        "import pandas as pd\n",
        "import numpy as np\n",
        "import statsmodels.api as sm\n",
        "from causallearn.search.ConstraintBased.PC import pc\n",
        "from causallearn.utils.GraphUtils import GraphUtils\n",
        "from causallearn.utils.cit import fisherz\n",
        "from IPython.display import Image, display\n",
        "import matplotlib.pyplot as plt\n",
        "\n",
        "# PCアルゴリズム\n",
        "data = df.to_numpy()\n",
        "labels = df.columns.tolist()\n",
        "cg = pc(data, alpha=0.1, indep_test_func=fisherz, node_names=labels)\n",
        "\n",
        "# 因果グラフの描画と保存\n",
        "pyd = GraphUtils.to_pydot(cg.G, labels=labels)\n",
        "pyd.write_png('causal_graph.png')\n",
        "display(Image(filename='causal_graph.png'))\n",
        "\n",
        "# 回帰による直接因果効果推定\n",
        "Y = df['GLD']\n",
        "X = df[['SPX', 'USO', 'SLV', 'EUR/USD']]\n",
        "X = sm.add_constant(X)\n",
        "model = sm.OLS(Y, X).fit()\n",
        "\n",
        "print(\"\\n[回帰結果要約]\")\n",
        "print(model.summary())\n",
        "\n",
        "# 回帰係数の抽出（SPX → GLD の直接効果）\n",
        "coef = model.params['SPX']\n",
        "print(\"\\n[直接因果効果の推定値]\")\n",
        "print(f\"S&P500株価指数（SPX）の金価格（GLD）への直接因果効果: {coef:.4f} ドル単位/Pt単位\")"
      ],
      "metadata": {
        "colab": {
          "base_uri": "https://localhost:8080/",
          "height": 1000,
          "referenced_widgets": [
            "3666bf3f2b524340a2f163b964ab8937",
            "cedc3adea9684dc885fed9c460405ea7",
            "e15e848622bc4bdba350c562ddcbd1ae",
            "d07a71f714894cc491602e338c1ecae8",
            "90a9e2fea2d146e3945f5393560a4e20",
            "fb3a0bbf7ccb42aba5bbeb477e204282",
            "e783ef8c9bf74c998b91f75191ba6340",
            "17d415fb211b4ddfae658990aff86ef8",
            "e91d85f84d1b459e82f62bdd26884612",
            "0555ac0521184c4288986efec419301e",
            "2d3cb9939a964c188736848c124f3f8c"
          ]
        },
        "id": "ADbvJT6MNAOO",
        "outputId": "3983f5c3-6728-47da-fcb7-3ed8417721f5"
      },
      "execution_count": 27,
      "outputs": [
        {
          "output_type": "display_data",
          "data": {
            "text/plain": [
              "  0%|          | 0/5 [00:00<?, ?it/s]"
            ],
            "application/vnd.jupyter.widget-view+json": {
              "version_major": 2,
              "version_minor": 0,
              "model_id": "3666bf3f2b524340a2f163b964ab8937"
            }
          },
          "metadata": {}
        },
        {
          "output_type": "display_data",
          "data": {
            "image/png": "[encoded data removed]",
            "text/plain": [
              "<IPython.core.display.Image object>"
            ]
          },
          "metadata": {}
        },
        {
          "output_type": "stream",
          "name": "stdout",
          "text": [
            "\n",
            "[回帰結果要約]\n",
            "                            OLS Regression Results                            \n",
            "==============================================================================\n",
            "Dep. Variable:                    GLD   R-squared:                       0.881\n",
            "Model:                            OLS   Adj. R-squared:                  0.881\n",
            "Method:                 Least Squares   F-statistic:                     4246.\n",
            "Date:                Sat, 10 May 2025   Prob (F-statistic):               0.00\n",
            "Time:                        04:19:39   Log-Likelihood:                -8015.9\n",
            "No. Observations:                2290   AIC:                         1.604e+04\n",
            "Df Residuals:                    2285   BIC:                         1.607e+04\n",
            "Df Model:                           4                                         \n",
            "Covariance Type:            nonrobust                                         \n",
            "==============================================================================\n",
            "                 coef    std err          t      P>|t|      [0.025      0.975]\n",
            "------------------------------------------------------------------------------\n",
            "const         69.7963      3.277     21.302      0.000      63.371      76.222\n",
            "SPX            0.0067      0.000     15.139      0.000       0.006       0.008\n",
            "USO           -0.2508      0.016    -15.943      0.000      -0.282      -0.220\n",
            "SLV            3.1570      0.026    123.534      0.000       3.107       3.207\n",
            "EUR/USD      -10.5222      2.591     -4.061      0.000     -15.603      -5.442\n",
            "==============================================================================\n",
            "Omnibus:                      719.027   Durbin-Watson:                   0.020\n",
            "Prob(Omnibus):                  0.000   Jarque-Bera (JB):             3375.648\n",
            "Skew:                          -1.429   Prob(JB):                         0.00\n",
            "Kurtosis:                       8.216   Cond. No.                     4.26e+04\n",
            "==============================================================================\n",
            "\n",
            "Notes:\n",
            "[1] Standard Errors assume that the covariance matrix of the errors is correctly specified.\n",
            "[2] The condition number is large, 4.26e+04. This might indicate that there are\n",
            "strong multicollinearity or other numerical problems.\n",
            "\n",
            "[直接因果効果の推定値]\n",
            "S&P500株価指数（SPX）の金価格（GLD）への直接因果効果: 0.0067 ドル単位/Pt単位\n"
          ]
        }
      ]
    },
    {
      "cell_type": "markdown",
      "source": [
        "---\n",
        "■回帰モデルでわかること■\n",
        "\n",
        "- 目的変数:\tGLD\t金ETF価格（日次）\n",
        "\n",
        "- 決定係数 R²\t0.881　→　説明変数（SPX, USO, SLV, EUR/USD）で88.1%の分散を説明可能\n",
        "\n",
        "- F-statistic\t4246.0\tモデル全体として非常に有意（p ≈ 0）\n",
        "\n",
        "- 観測数\t2290\t十分なデータ数（時系列日次データ）\n",
        "\n",
        "- AIC/BIC\t16040 / 16070\tモデル選択指標として適切な水準\n",
        "\n",
        "- Durbin-Watson\t0.020\t強い自己相関がある\n",
        "\n",
        "- Condition No.\t42600+\t多重共線性の可能性が高い　特にSPX, SLV, USO\n",
        "\n",
        "■解釈のポイント■\n",
        "\n",
        "- SPX（株価指数）→ GLD（金ETF）\n",
        "\n",
        "    株価が上がると金もわずかに上昇。\n",
        "    実務的には、株価と金は逆相関する場合も多いため、\n",
        "\n",
        "    他変数を調整した上での効果であるのではないか。\n",
        "\n",
        "- USO（原油）→ GLD\n",
        "    \n",
        "    原油価格が上がると金は下がる。\n",
        "    リスクオン（原油↑）・リスクオフ（金↑）の逆相関が背景と推測。\n",
        "\n",
        "- SLV（銀）→ GLD\n",
        "    \n",
        "    銀価格が金価格に最も強く正の効果。\n",
        "    貴金属同士の価格連動性を反映しており、非常に妥当な構造。\n",
        "\n",
        "- EUR/USD → GLD\n",
        "\n",
        "    ドル安（ユーロ高）→ 金価格下落\n",
        "---"
      ],
      "metadata": {
        "id": "H0MefID7YEmp"
      }
    },
    {
      "cell_type": "code",
      "source": [
        "!pip install lingam"
      ],
      "metadata": {
        "colab": {
          "base_uri": "https://localhost:8080/"
        },
        "collapsed": true,
        "id": "P2PkB42CQ8cH",
        "outputId": "5640391b-0054-41bb-d5aa-3b96a7050205"
      },
      "execution_count": 28,
      "outputs": [
        {
          "output_type": "stream",
          "name": "stdout",
          "text": [
            "Requirement already satisfied: lingam in /usr/local/lib/python3.11/dist-packages (1.9.1)\n",
            "Requirement already satisfied: numpy in /usr/local/lib/python3.11/dist-packages (from lingam) (1.26.4)\n",
            "Requirement already satisfied: scipy in /usr/local/lib/python3.11/dist-packages (from lingam) (1.11.4)\n",
            "Requirement already satisfied: scikit-learn in /usr/local/lib/python3.11/dist-packages (from lingam) (1.6.1)\n",
            "Requirement already satisfied: graphviz in /usr/local/lib/python3.11/dist-packages (from lingam) (0.20.3)\n",
            "Requirement already satisfied: statsmodels in /usr/local/lib/python3.11/dist-packages (from lingam) (0.14.4)\n",
            "Requirement already satisfied: networkx in /usr/local/lib/python3.11/dist-packages (from lingam) (3.4.2)\n",
            "Requirement already satisfied: pandas in /usr/local/lib/python3.11/dist-packages (from lingam) (2.2.2)\n",
            "Requirement already satisfied: pygam in /usr/local/lib/python3.11/dist-packages (from lingam) (0.9.1)\n",
            "Requirement already satisfied: matplotlib in /usr/local/lib/python3.11/dist-packages (from lingam) (3.10.0)\n",
            "Requirement already satisfied: psy in /usr/local/lib/python3.11/dist-packages (from lingam) (0.0.1)\n",
            "Requirement already satisfied: semopy in /usr/local/lib/python3.11/dist-packages (from lingam) (2.3.11)\n",
            "Requirement already satisfied: contourpy>=1.0.1 in /usr/local/lib/python3.11/dist-packages (from matplotlib->lingam) (1.3.2)\n",
            "Requirement already satisfied: cycler>=0.10 in /usr/local/lib/python3.11/dist-packages (from matplotlib->lingam) (0.12.1)\n",
            "Requirement already satisfied: fonttools>=4.22.0 in /usr/local/lib/python3.11/dist-packages (from matplotlib->lingam) (4.57.0)\n",
            "Requirement already satisfied: kiwisolver>=1.3.1 in /usr/local/lib/python3.11/dist-packages (from matplotlib->lingam) (1.4.8)\n",
            "Requirement already satisfied: packaging>=20.0 in /usr/local/lib/python3.11/dist-packages (from matplotlib->lingam) (24.2)\n",
            "Requirement already satisfied: pillow>=8 in /usr/local/lib/python3.11/dist-packages (from matplotlib->lingam) (11.2.1)\n",
            "Requirement already satisfied: pyparsing>=2.3.1 in /usr/local/lib/python3.11/dist-packages (from matplotlib->lingam) (3.2.3)\n",
            "Requirement already satisfied: python-dateutil>=2.7 in /usr/local/lib/python3.11/dist-packages (from matplotlib->lingam) (2.9.0.post0)\n",
            "Requirement already satisfied: pytz>=2020.1 in /usr/local/lib/python3.11/dist-packages (from pandas->lingam) (2025.2)\n",
            "Requirement already satisfied: tzdata>=2022.7 in /usr/local/lib/python3.11/dist-packages (from pandas->lingam) (2025.2)\n",
            "Requirement already satisfied: progressbar2 in /usr/local/lib/python3.11/dist-packages (from psy->lingam) (4.5.0)\n",
            "Requirement already satisfied: joblib>=1.2.0 in /usr/local/lib/python3.11/dist-packages (from scikit-learn->lingam) (1.4.2)\n",
            "Requirement already satisfied: threadpoolctl>=3.1.0 in /usr/local/lib/python3.11/dist-packages (from scikit-learn->lingam) (3.6.0)\n",
            "Requirement already satisfied: sympy in /usr/local/lib/python3.11/dist-packages (from semopy->lingam) (1.13.1)\n",
            "Requirement already satisfied: numdifftools in /usr/local/lib/python3.11/dist-packages (from semopy->lingam) (0.9.41)\n",
            "Requirement already satisfied: patsy>=0.5.6 in /usr/local/lib/python3.11/dist-packages (from statsmodels->lingam) (1.0.1)\n",
            "Requirement already satisfied: python-utils>=3.8.1 in /usr/local/lib/python3.11/dist-packages (from progressbar2->psy->lingam) (3.9.1)\n",
            "Requirement already satisfied: six>=1.5 in /usr/local/lib/python3.11/dist-packages (from python-dateutil>=2.7->matplotlib->lingam) (1.17.0)\n",
            "Requirement already satisfied: mpmath<1.4,>=1.1.0 in /usr/local/lib/python3.11/dist-packages (from sympy->semopy->lingam) (1.3.0)\n",
            "Requirement already satisfied: typing_extensions>3.10.0.2 in /usr/local/lib/python3.11/dist-packages (from python-utils>=3.8.1->progressbar2->psy->lingam) (4.13.2)\n"
          ]
        }
      ]
    },
    {
      "cell_type": "code",
      "source": [
        "import pandas as pd\n",
        "from lingam import DirectLiNGAM\n",
        "import matplotlib.pyplot as plt\n",
        "import networkx as nx\n",
        "\n",
        "# 必要な変数を抽出\n",
        "df_lingam = df[['SPX', 'USO', 'SLV', 'GLD', 'EUR/USD']]\n",
        "\n",
        "# LiNGAMモデルの学習\n",
        "model = DirectLiNGAM()\n",
        "model.fit(df_lingam)\n",
        "\n",
        "# 因果行列（重み）\n",
        "adj_matrix = model.adjacency_matrix_\n",
        "\n",
        "# 結果を有向グラフで可視化\n",
        "labels = df_lingam.columns.tolist()\n",
        "G = nx.DiGraph()\n",
        "\n",
        "for i, src in enumerate(labels):\n",
        "    for j, tgt in enumerate(labels):\n",
        "        weight = adj_matrix[i, j]\n",
        "        if abs(weight) > 0.01:  # 小さい値は無視\n",
        "            G.add_edge(src, tgt, weight=round(weight, 3))\n",
        "\n",
        "plt.figure(figsize=(5, 4))\n",
        "pos = nx.spring_layout(G)\n",
        "nx.draw(G, pos, with_labels=True, node_color='lightblue', node_size=1000, arrowsize=5)\n",
        "edge_labels = nx.get_edge_attributes(G, 'weight')\n",
        "nx.draw_networkx_edge_labels(G, pos, edge_labels=edge_labels)\n",
        "plt.title(\"LiNGAM\")\n",
        "plt.show()"
      ],
      "metadata": {
        "colab": {
          "base_uri": "https://localhost:8080/",
          "height": 459
        },
        "id": "H2GWZgbPTLXE",
        "outputId": "ad6fd878-5184-4c8e-a185-b63fc4d8c3e2"
      },
      "execution_count": 29,
      "outputs": [
        {
          "output_type": "display_data",
          "data": {
            "text/plain": [
              "<Figure size 500x400 with 1 Axes>"
            ],
            "image/png": "[encoded data removed]"
          },
          "metadata": {}
        }
      ]
    },
    {
      "cell_type": "code",
      "source": [
        "import pandas as pd\n",
        "from lingam import DirectLiNGAM\n",
        "\n",
        "# データ準備\n",
        "target_vars = ['SPX', 'USO', 'SLV', 'GLD', 'EUR/USD']  # 順序は重要\n",
        "df_lingam = df[target_vars]\n",
        "\n",
        "# LiNGAMモデルの学習\n",
        "model = DirectLiNGAM()\n",
        "model.fit(df_lingam)\n",
        "\n",
        "# 因果マトリクス（行：原因, 列：結果）\n",
        "adj_matrix = pd.DataFrame(model.adjacency_matrix_,\n",
        "                          index=target_vars,\n",
        "                          columns=target_vars)\n",
        "\n",
        "# 結果の表示\n",
        "print(\"LiNGAMによる因果マトリクス（係数）:\")\n",
        "print(adj_matrix.round(4))\n"
      ],
      "metadata": {
        "colab": {
          "base_uri": "https://localhost:8080/"
        },
        "id": "AuvvAXt5TLTR",
        "outputId": "8fd209ee-ff08-4de6-d673-7be1c317e4a3"
      },
      "execution_count": 30,
      "outputs": [
        {
          "output_type": "stream",
          "name": "stdout",
          "text": [
            "LiNGAMによる因果マトリクス（係数）:\n",
            "            SPX     USO      SLV     GLD  EUR/USD\n",
            "SPX      0.0000  0.0000 -20.0583  0.0000      0.0\n",
            "USO     -0.0222  0.0000   0.0000  0.0000      0.0\n",
            "SLV      0.0000  0.0000   0.0000  0.0000      0.0\n",
            "GLD      0.0073 -0.2978   3.1288  0.0000      0.0\n",
            "EUR/USD -0.0001  0.0043   0.0048 -0.0007      0.0\n"
          ]
        }
      ]
    },
    {
      "cell_type": "markdown",
      "source": [
        "---\n",
        "■lingamでわかる因果関係■\n",
        "\n",
        "1. SPX → SLV（-20.0583）\n",
        "株価指数が銀ETFに強い負の影響を与えていると推定\n",
        "\n",
        "      ※大きな係数はスケール依存または多重共線性の可能性あり\n",
        "\n",
        "2. SLV → GLD（3.129）銀価格が金価格に明確な正の影響を与えている\n",
        "\n",
        "      安全資産や貴金属ETFの連動性として非常に妥当な構造\n",
        "\n",
        "3. USO → GLD（-0.298）原油価格が金価格に小さな負の影響を与えている\n",
        "\n",
        "      リスクオフ環境やインフレヘッジの分散として解釈可能\n",
        "\n",
        "4. SPX → USO（-0.022）株価指数が原油ETFにごく弱い負の影響\n",
        "\n",
        "      エネルギーセクターと株式全体の相関を反映している可能性\n",
        "\n",
        "5. EUR/USD → SPX（-0.001）\n",
        "\n",
        "      為替が株価に極めて軽微な負の影響（実質ゼロに近い）\n",
        "---------\n",
        "---------\n"
      ],
      "metadata": {
        "id": "Jqc4LSpaWVDU"
      }
    },
    {
      "cell_type": "markdown",
      "source": [
        "\n",
        "## 2. X₁ と X₂ の間に未観測の交絡変数が存在しないことを証明せよ：\n",
        "**【前提条件】**：\n",
        "- 経験分布は忠実性を満たしている\n",
        "- FCIアルゴリズムのすべての独立性検定は正確である\n",
        "\n",
        "※忠実性\n",
        "- 確率分布と因果構造の対応関係に矛盾がない\n",
        "\n",
        "**【証明】**：\n",
        "\n",
        " 仮定：\n",
        "FCIの出力グラフにおいて、X₁ ↔ X₂ が存在しない とする。\n",
        "\n",
        " 目標：\n",
        "このとき、X₁ と X₂ の間に未観測の交絡因子は存在しないことを示す。"
      ],
      "metadata": {
        "id": "7Cs4twtoMwfI"
      }
    },
    {
      "cell_type": "markdown",
      "source": [
        "**【ステップ1】**:\n",
        "\n",
        "FCIの出力グラフにおいて、 X₁ ↔ X₂が存在しないということは、\n",
        "\n",
        "ある観測変数集合 Z ⊆ V  {X₁, X₂}  が存在し、下記が成立することを意味する。\n",
        "\n",
        "X₁ ⫫ X₂ | Z\n",
        "\n",
        "（X₁ と X₂ は Z に条件付けすることで独立）\n",
        "\n",
        "**【ステップ2】**:\n",
        "\n",
        "忠実性の仮定より、\n",
        "\n",
        "X₁ ⫫ X₂ | Z 　 ⇒　  X₁ と X₂ は DAG 上で d-分離されている。\n",
        "\n",
        "すなわち、DAGにおいて X₁ と X₂ の間には、条件付きで有効な因果パスは存在しない。\n",
        "\n",
        "このとき、X₁ と X₂ の依存関係は 観測変数のみで説明可能。\n",
        "\n",
        "**【ステップ3】**:\n",
        "\n",
        "仮に、未観測の交絡因子 L が X₁ と X₂ に影響を与えていたとすると、\n",
        "\n",
        "L → X₁　、　L → X₂\n",
        "\n",
        "という構造があり、X₁ と X₂ はどんな観測変数 Z に条件付けしても独立にはならない。\n",
        "これは、ステップ1で X₁ ⫫ X₂ | Z が成り立つという仮定と矛盾する。\n",
        "\n",
        "したがって、X₁ と X₂ の間に未観測の交絡因子が存在するという仮定は矛盾し、存在しないことが証明される。"
      ],
      "metadata": {
        "id": "gZUgsjjgUger"
      }
    }
  ],
  "metadata": {
    "celltoolbar": "Slideshow",
    "kernelspec": {
      "display_name": "Python 3 (ipykernel)",
      "language": "python",
      "name": "python3"
    },
    "language_info": {
      "codemirror_mode": {
        "name": "ipython",
        "version": 3
      },
      "file_extension": ".py",
      "mimetype": "text/x-python",
      "name": "python",
      "nbconvert_exporter": "python",
      "pygments_lexer": "ipython3",
      "version": "3.10.7"
    },
    "colab": {
      "provenance": [],
      "include_colab_link": true
    },
    "widgets": {
      "application/vnd.jupyter.widget-state+json": {
        "be96c25f614a42988aebf9c0973c714b": {
          "model_module": "@jupyter-widgets/controls",
          "model_name": "HBoxModel",
          "model_module_version": "1.5.0",
          "state": {
            "_dom_classes": [],
            "_model_module": "@jupyter-widgets/controls",
            "_model_module_version": "1.5.0",
            "_model_name": "HBoxModel",
            "_view_count": null,
            "_view_module": "@jupyter-widgets/controls",
            "_view_module_version": "1.5.0",
            "_view_name": "HBoxView",
            "box_style": "",
            "children": [
              "IPY_MODEL_49cac80961d346d0a378a5572495fd3a",
              "IPY_MODEL_059e39fdb7a24b778c31b4bc3cad5b50",
              "IPY_MODEL_14a6ce42288e4e538bee92bd8d0e6d48"
            ],
            "layout": "IPY_MODEL_c602a569fba8440f9d4485ca307b557c"
          }
        },
        "49cac80961d346d0a378a5572495fd3a": {
          "model_module": "@jupyter-widgets/controls",
          "model_name": "HTMLModel",
          "model_module_version": "1.5.0",
          "state": {
            "_dom_classes": [],
            "_model_module": "@jupyter-widgets/controls",
            "_model_module_version": "1.5.0",
            "_model_name": "HTMLModel",
            "_view_count": null,
            "_view_module": "@jupyter-widgets/controls",
            "_view_module_version": "1.5.0",
            "_view_name": "HTMLView",
            "description": "",
            "description_tooltip": null,
            "layout": "IPY_MODEL_cf71e79eface4e38a74df9e10bcfeac8",
            "placeholder": "​",
            "style": "IPY_MODEL_efec1f925f974bd6b9711b4def3b7721",
            "value": "Depth=2, working on node 4: 100%"
          }
        },
        "059e39fdb7a24b778c31b4bc3cad5b50": {
          "model_module": "@jupyter-widgets/controls",
          "model_name": "FloatProgressModel",
          "model_module_version": "1.5.0",
          "state": {
            "_dom_classes": [],
            "_model_module": "@jupyter-widgets/controls",
            "_model_module_version": "1.5.0",
            "_model_name": "FloatProgressModel",
            "_view_count": null,
            "_view_module": "@jupyter-widgets/controls",
            "_view_module_version": "1.5.0",
            "_view_name": "ProgressView",
            "bar_style": "success",
            "description": "",
            "description_tooltip": null,
            "layout": "IPY_MODEL_5d2941f8209745959b9068844c1afeef",
            "max": 5,
            "min": 0,
            "orientation": "horizontal",
            "style": "IPY_MODEL_90ff602019654839a37b3863d24808d0",
            "value": 5
          }
        },
        "14a6ce42288e4e538bee92bd8d0e6d48": {
          "model_module": "@jupyter-widgets/controls",
          "model_name": "HTMLModel",
          "model_module_version": "1.5.0",
          "state": {
            "_dom_classes": [],
            "_model_module": "@jupyter-widgets/controls",
            "_model_module_version": "1.5.0",
            "_model_name": "HTMLModel",
            "_view_count": null,
            "_view_module": "@jupyter-widgets/controls",
            "_view_module_version": "1.5.0",
            "_view_name": "HTMLView",
            "description": "",
            "description_tooltip": null,
            "layout": "IPY_MODEL_cb0b3aecbf684afab2dacbed0127901d",
            "placeholder": "​",
            "style": "IPY_MODEL_fa3270ff83a8448d81bb1fc3b63cbbb7",
            "value": " 5/5 [00:00&lt;00:00, 96.82it/s]"
          }
        },
        "c602a569fba8440f9d4485ca307b557c": {
          "model_module": "@jupyter-widgets/base",
          "model_name": "LayoutModel",
          "model_module_version": "1.2.0",
          "state": {
            "_model_module": "@jupyter-widgets/base",
            "_model_module_version": "1.2.0",
            "_model_name": "LayoutModel",
            "_view_count": null,
            "_view_module": "@jupyter-widgets/base",
            "_view_module_version": "1.2.0",
            "_view_name": "LayoutView",
            "align_content": null,
            "align_items": null,
            "align_self": null,
            "border": null,
            "bottom": null,
            "display": null,
            "flex": null,
            "flex_flow": null,
            "grid_area": null,
            "grid_auto_columns": null,
            "grid_auto_flow": null,
            "grid_auto_rows": null,
            "grid_column": null,
            "grid_gap": null,
            "grid_row": null,
            "grid_template_areas": null,
            "grid_template_columns": null,
            "grid_template_rows": null,
            "height": null,
            "justify_content": null,
            "justify_items": null,
            "left": null,
            "margin": null,
            "max_height": null,
            "max_width": null,
            "min_height": null,
            "min_width": null,
            "object_fit": null,
            "object_position": null,
            "order": null,
            "overflow": null,
            "overflow_x": null,
            "overflow_y": null,
            "padding": null,
            "right": null,
            "top": null,
            "visibility": null,
            "width": null
          }
        },
        "cf71e79eface4e38a74df9e10bcfeac8": {
          "model_module": "@jupyter-widgets/base",
          "model_name": "LayoutModel",
          "model_module_version": "1.2.0",
          "state": {
            "_model_module": "@jupyter-widgets/base",
            "_model_module_version": "1.2.0",
            "_model_name": "LayoutModel",
            "_view_count": null,
            "_view_module": "@jupyter-widgets/base",
            "_view_module_version": "1.2.0",
            "_view_name": "LayoutView",
            "align_content": null,
            "align_items": null,
            "align_self": null,
            "border": null,
            "bottom": null,
            "display": null,
            "flex": null,
            "flex_flow": null,
            "grid_area": null,
            "grid_auto_columns": null,
            "grid_auto_flow": null,
            "grid_auto_rows": null,
            "grid_column": null,
            "grid_gap": null,
            "grid_row": null,
            "grid_template_areas": null,
            "grid_template_columns": null,
            "grid_template_rows": null,
            "height": null,
            "justify_content": null,
            "justify_items": null,
            "left": null,
            "margin": null,
            "max_height": null,
            "max_width": null,
            "min_height": null,
            "min_width": null,
            "object_fit": null,
            "object_position": null,
            "order": null,
            "overflow": null,
            "overflow_x": null,
            "overflow_y": null,
            "padding": null,
            "right": null,
            "top": null,
            "visibility": null,
            "width": null
          }
        },
        "efec1f925f974bd6b9711b4def3b7721": {
          "model_module": "@jupyter-widgets/controls",
          "model_name": "DescriptionStyleModel",
          "model_module_version": "1.5.0",
          "state": {
            "_model_module": "@jupyter-widgets/controls",
            "_model_module_version": "1.5.0",
            "_model_name": "DescriptionStyleModel",
            "_view_count": null,
            "_view_module": "@jupyter-widgets/base",
            "_view_module_version": "1.2.0",
            "_view_name": "StyleView",
            "description_width": ""
          }
        },
        "5d2941f8209745959b9068844c1afeef": {
          "model_module": "@jupyter-widgets/base",
          "model_name": "LayoutModel",
          "model_module_version": "1.2.0",
          "state": {
            "_model_module": "@jupyter-widgets/base",
            "_model_module_version": "1.2.0",
            "_model_name": "LayoutModel",
            "_view_count": null,
            "_view_module": "@jupyter-widgets/base",
            "_view_module_version": "1.2.0",
            "_view_name": "LayoutView",
            "align_content": null,
            "align_items": null,
            "align_self": null,
            "border": null,
            "bottom": null,
            "display": null,
            "flex": null,
            "flex_flow": null,
            "grid_area": null,
            "grid_auto_columns": null,
            "grid_auto_flow": null,
            "grid_auto_rows": null,
            "grid_column": null,
            "grid_gap": null,
            "grid_row": null,
            "grid_template_areas": null,
            "grid_template_columns": null,
            "grid_template_rows": null,
            "height": null,
            "justify_content": null,
            "justify_items": null,
            "left": null,
            "margin": null,
            "max_height": null,
            "max_width": null,
            "min_height": null,
            "min_width": null,
            "object_fit": null,
            "object_position": null,
            "order": null,
            "overflow": null,
            "overflow_x": null,
            "overflow_y": null,
            "padding": null,
            "right": null,
            "top": null,
            "visibility": null,
            "width": null
          }
        },
        "90ff602019654839a37b3863d24808d0": {
          "model_module": "@jupyter-widgets/controls",
          "model_name": "ProgressStyleModel",
          "model_module_version": "1.5.0",
          "state": {
            "_model_module": "@jupyter-widgets/controls",
            "_model_module_version": "1.5.0",
            "_model_name": "ProgressStyleModel",
            "_view_count": null,
            "_view_module": "@jupyter-widgets/base",
            "_view_module_version": "1.2.0",
            "_view_name": "StyleView",
            "bar_color": null,
            "description_width": ""
          }
        },
        "cb0b3aecbf684afab2dacbed0127901d": {
          "model_module": "@jupyter-widgets/base",
          "model_name": "LayoutModel",
          "model_module_version": "1.2.0",
          "state": {
            "_model_module": "@jupyter-widgets/base",
            "_model_module_version": "1.2.0",
            "_model_name": "LayoutModel",
            "_view_count": null,
            "_view_module": "@jupyter-widgets/base",
            "_view_module_version": "1.2.0",
            "_view_name": "LayoutView",
            "align_content": null,
            "align_items": null,
            "align_self": null,
            "border": null,
            "bottom": null,
            "display": null,
            "flex": null,
            "flex_flow": null,
            "grid_area": null,
            "grid_auto_columns": null,
            "grid_auto_flow": null,
            "grid_auto_rows": null,
            "grid_column": null,
            "grid_gap": null,
            "grid_row": null,
            "grid_template_areas": null,
            "grid_template_columns": null,
            "grid_template_rows": null,
            "height": null,
            "justify_content": null,
            "justify_items": null,
            "left": null,
            "margin": null,
            "max_height": null,
            "max_width": null,
            "min_height": null,
            "min_width": null,
            "object_fit": null,
            "object_position": null,
            "order": null,
            "overflow": null,
            "overflow_x": null,
            "overflow_y": null,
            "padding": null,
            "right": null,
            "top": null,
            "visibility": null,
            "width": null
          }
        },
        "fa3270ff83a8448d81bb1fc3b63cbbb7": {
          "model_module": "@jupyter-widgets/controls",
          "model_name": "DescriptionStyleModel",
          "model_module_version": "1.5.0",
          "state": {
            "_model_module": "@jupyter-widgets/controls",
            "_model_module_version": "1.5.0",
            "_model_name": "DescriptionStyleModel",
            "_view_count": null,
            "_view_module": "@jupyter-widgets/base",
            "_view_module_version": "1.2.0",
            "_view_name": "StyleView",
            "description_width": ""
          }
        },
        "3666bf3f2b524340a2f163b964ab8937": {
          "model_module": "@jupyter-widgets/controls",
          "model_name": "HBoxModel",
          "model_module_version": "1.5.0",
          "state": {
            "_dom_classes": [],
            "_model_module": "@jupyter-widgets/controls",
            "_model_module_version": "1.5.0",
            "_model_name": "HBoxModel",
            "_view_count": null,
            "_view_module": "@jupyter-widgets/controls",
            "_view_module_version": "1.5.0",
            "_view_name": "HBoxView",
            "box_style": "",
            "children": [
              "IPY_MODEL_cedc3adea9684dc885fed9c460405ea7",
              "IPY_MODEL_e15e848622bc4bdba350c562ddcbd1ae",
              "IPY_MODEL_d07a71f714894cc491602e338c1ecae8"
            ],
            "layout": "IPY_MODEL_90a9e2fea2d146e3945f5393560a4e20"
          }
        },
        "cedc3adea9684dc885fed9c460405ea7": {
          "model_module": "@jupyter-widgets/controls",
          "model_name": "HTMLModel",
          "model_module_version": "1.5.0",
          "state": {
            "_dom_classes": [],
            "_model_module": "@jupyter-widgets/controls",
            "_model_module_version": "1.5.0",
            "_model_name": "HTMLModel",
            "_view_count": null,
            "_view_module": "@jupyter-widgets/controls",
            "_view_module_version": "1.5.0",
            "_view_name": "HTMLView",
            "description": "",
            "description_tooltip": null,
            "layout": "IPY_MODEL_fb3a0bbf7ccb42aba5bbeb477e204282",
            "placeholder": "​",
            "style": "IPY_MODEL_e783ef8c9bf74c998b91f75191ba6340",
            "value": "Depth=2, working on node 4: 100%"
          }
        },
        "e15e848622bc4bdba350c562ddcbd1ae": {
          "model_module": "@jupyter-widgets/controls",
          "model_name": "FloatProgressModel",
          "model_module_version": "1.5.0",
          "state": {
            "_dom_classes": [],
            "_model_module": "@jupyter-widgets/controls",
            "_model_module_version": "1.5.0",
            "_model_name": "FloatProgressModel",
            "_view_count": null,
            "_view_module": "@jupyter-widgets/controls",
            "_view_module_version": "1.5.0",
            "_view_name": "ProgressView",
            "bar_style": "success",
            "description": "",
            "description_tooltip": null,
            "layout": "IPY_MODEL_17d415fb211b4ddfae658990aff86ef8",
            "max": 5,
            "min": 0,
            "orientation": "horizontal",
            "style": "IPY_MODEL_e91d85f84d1b459e82f62bdd26884612",
            "value": 5
          }
        },
        "d07a71f714894cc491602e338c1ecae8": {
          "model_module": "@jupyter-widgets/controls",
          "model_name": "HTMLModel",
          "model_module_version": "1.5.0",
          "state": {
            "_dom_classes": [],
            "_model_module": "@jupyter-widgets/controls",
            "_model_module_version": "1.5.0",
            "_model_name": "HTMLModel",
            "_view_count": null,
            "_view_module": "@jupyter-widgets/controls",
            "_view_module_version": "1.5.0",
            "_view_name": "HTMLView",
            "description": "",
            "description_tooltip": null,
            "layout": "IPY_MODEL_0555ac0521184c4288986efec419301e",
            "placeholder": "​",
            "style": "IPY_MODEL_2d3cb9939a964c188736848c124f3f8c",
            "value": " 5/5 [00:00&lt;00:00, 199.17it/s]"
          }
        },
        "90a9e2fea2d146e3945f5393560a4e20": {
          "model_module": "@jupyter-widgets/base",
          "model_name": "LayoutModel",
          "model_module_version": "1.2.0",
          "state": {
            "_model_module": "@jupyter-widgets/base",
            "_model_module_version": "1.2.0",
            "_model_name": "LayoutModel",
            "_view_count": null,
            "_view_module": "@jupyter-widgets/base",
            "_view_module_version": "1.2.0",
            "_view_name": "LayoutView",
            "align_content": null,
            "align_items": null,
            "align_self": null,
            "border": null,
            "bottom": null,
            "display": null,
            "flex": null,
            "flex_flow": null,
            "grid_area": null,
            "grid_auto_columns": null,
            "grid_auto_flow": null,
            "grid_auto_rows": null,
            "grid_column": null,
            "grid_gap": null,
            "grid_row": null,
            "grid_template_areas": null,
            "grid_template_columns": null,
            "grid_template_rows": null,
            "height": null,
            "justify_content": null,
            "justify_items": null,
            "left": null,
            "margin": null,
            "max_height": null,
            "max_width": null,
            "min_height": null,
            "min_width": null,
            "object_fit": null,
            "object_position": null,
            "order": null,
            "overflow": null,
            "overflow_x": null,
            "overflow_y": null,
            "padding": null,
            "right": null,
            "top": null,
            "visibility": null,
            "width": null
          }
        },
        "fb3a0bbf7ccb42aba5bbeb477e204282": {
          "model_module": "@jupyter-widgets/base",
          "model_name": "LayoutModel",
          "model_module_version": "1.2.0",
          "state": {
            "_model_module": "@jupyter-widgets/base",
            "_model_module_version": "1.2.0",
            "_model_name": "LayoutModel",
            "_view_count": null,
            "_view_module": "@jupyter-widgets/base",
            "_view_module_version": "1.2.0",
            "_view_name": "LayoutView",
            "align_content": null,
            "align_items": null,
            "align_self": null,
            "border": null,
            "bottom": null,
            "display": null,
            "flex": null,
            "flex_flow": null,
            "grid_area": null,
            "grid_auto_columns": null,
            "grid_auto_flow": null,
            "grid_auto_rows": null,
            "grid_column": null,
            "grid_gap": null,
            "grid_row": null,
            "grid_template_areas": null,
            "grid_template_columns": null,
            "grid_template_rows": null,
            "height": null,
            "justify_content": null,
            "justify_items": null,
            "left": null,
            "margin": null,
            "max_height": null,
            "max_width": null,
            "min_height": null,
            "min_width": null,
            "object_fit": null,
            "object_position": null,
            "order": null,
            "overflow": null,
            "overflow_x": null,
            "overflow_y": null,
            "padding": null,
            "right": null,
            "top": null,
            "visibility": null,
            "width": null
          }
        },
        "e783ef8c9bf74c998b91f75191ba6340": {
          "model_module": "@jupyter-widgets/controls",
          "model_name": "DescriptionStyleModel",
          "model_module_version": "1.5.0",
          "state": {
            "_model_module": "@jupyter-widgets/controls",
            "_model_module_version": "1.5.0",
            "_model_name": "DescriptionStyleModel",
            "_view_count": null,
            "_view_module": "@jupyter-widgets/base",
            "_view_module_version": "1.2.0",
            "_view_name": "StyleView",
            "description_width": ""
          }
        },
        "17d415fb211b4ddfae658990aff86ef8": {
          "model_module": "@jupyter-widgets/base",
          "model_name": "LayoutModel",
          "model_module_version": "1.2.0",
          "state": {
            "_model_module": "@jupyter-widgets/base",
            "_model_module_version": "1.2.0",
            "_model_name": "LayoutModel",
            "_view_count": null,
            "_view_module": "@jupyter-widgets/base",
            "_view_module_version": "1.2.0",
            "_view_name": "LayoutView",
            "align_content": null,
            "align_items": null,
            "align_self": null,
            "border": null,
            "bottom": null,
            "display": null,
            "flex": null,
            "flex_flow": null,
            "grid_area": null,
            "grid_auto_columns": null,
            "grid_auto_flow": null,
            "grid_auto_rows": null,
            "grid_column": null,
            "grid_gap": null,
            "grid_row": null,
            "grid_template_areas": null,
            "grid_template_columns": null,
            "grid_template_rows": null,
            "height": null,
            "justify_content": null,
            "justify_items": null,
            "left": null,
            "margin": null,
            "max_height": null,
            "max_width": null,
            "min_height": null,
            "min_width": null,
            "object_fit": null,
            "object_position": null,
            "order": null,
            "overflow": null,
            "overflow_x": null,
            "overflow_y": null,
            "padding": null,
            "right": null,
            "top": null,
            "visibility": null,
            "width": null
          }
        },
        "e91d85f84d1b459e82f62bdd26884612": {
          "model_module": "@jupyter-widgets/controls",
          "model_name": "ProgressStyleModel",
          "model_module_version": "1.5.0",
          "state": {
            "_model_module": "@jupyter-widgets/controls",
            "_model_module_version": "1.5.0",
            "_model_name": "ProgressStyleModel",
            "_view_count": null,
            "_view_module": "@jupyter-widgets/base",
            "_view_module_version": "1.2.0",
            "_view_name": "StyleView",
            "bar_color": null,
            "description_width": ""
          }
        },
        "0555ac0521184c4288986efec419301e": {
          "model_module": "@jupyter-widgets/base",
          "model_name": "LayoutModel",
          "model_module_version": "1.2.0",
          "state": {
            "_model_module": "@jupyter-widgets/base",
            "_model_module_version": "1.2.0",
            "_model_name": "LayoutModel",
            "_view_count": null,
            "_view_module": "@jupyter-widgets/base",
            "_view_module_version": "1.2.0",
            "_view_name": "LayoutView",
            "align_content": null,
            "align_items": null,
            "align_self": null,
            "border": null,
            "bottom": null,
            "display": null,
            "flex": null,
            "flex_flow": null,
            "grid_area": null,
            "grid_auto_columns": null,
            "grid_auto_flow": null,
            "grid_auto_rows": null,
            "grid_column": null,
            "grid_gap": null,
            "grid_row": null,
            "grid_template_areas": null,
            "grid_template_columns": null,
            "grid_template_rows": null,
            "height": null,
            "justify_content": null,
            "justify_items": null,
            "left": null,
            "margin": null,
            "max_height": null,
            "max_width": null,
            "min_height": null,
            "min_width": null,
            "object_fit": null,
            "object_position": null,
            "order": null,
            "overflow": null,
            "overflow_x": null,
            "overflow_y": null,
            "padding": null,
            "right": null,
            "top": null,
            "visibility": null,
            "width": null
          }
        },
        "2d3cb9939a964c188736848c124f3f8c": {
          "model_module": "@jupyter-widgets/controls",
          "model_name": "DescriptionStyleModel",
          "model_module_version": "1.5.0",
          "state": {
            "_model_module": "@jupyter-widgets/controls",
            "_model_module_version": "1.5.0",
            "_model_name": "DescriptionStyleModel",
            "_view_count": null,
            "_view_module": "@jupyter-widgets/base",
            "_view_module_version": "1.2.0",
            "_view_name": "StyleView",
            "description_width": ""
          }
        }
      }
    }
  },
  "nbformat": 4,
  "nbformat_minor": 0
}