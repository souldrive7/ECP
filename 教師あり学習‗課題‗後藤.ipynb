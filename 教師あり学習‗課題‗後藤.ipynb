{
  "cells": [
    {
      "cell_type": "markdown",
      "metadata": {
        "id": "view-in-github",
        "colab_type": "text"
      },
      "source": [
        "<a href=\"https://colab.research.google.com/github/souldrive7/ECP/blob/main/%E6%95%99%E5%B8%AB%E3%81%82%E3%82%8A%E5%AD%A6%E7%BF%92%E2%80%97%E8%AA%B2%E9%A1%8C%E2%80%97%E5%BE%8C%E8%97%A4.ipynb\" target=\"_parent\"><img src=\"https://colab.research.google.com/assets/colab-badge.svg\" alt=\"Open In Colab\"/></a>"
      ]
    },
    {
      "cell_type": "markdown",
      "source": [
        "# 教師あり学習 課題（村松先生）"
      ],
      "metadata": {
        "id": "diPhWIPJdlBm"
      }
    },
    {
      "cell_type": "markdown",
      "source": [
        "### 氏名：後藤 晃郁\n",
        "\n",
        "### 学籍番号：6025131\n",
        "\n",
        "### 提出日：2025/5/13"
      ],
      "metadata": {
        "id": "AeOUmXzxapxI"
      }
    },
    {
      "cell_type": "markdown",
      "source": [
        "# 課題"
      ],
      "metadata": {
        "id": "WzYR-1Smd3Gu"
      }
    },
    {
      "cell_type": "markdown",
      "source": [
        "---\n",
        "\n",
        "- 学習データ数，クラス数，特徴量数のいずれかを変化させたときのkNNの精度を比較する\n",
        "\n",
        "- それぞれでkの値はcvを用いて最適化すること\n",
        "\n",
        "- 結果は可視化して簡単な考察を加えること\n",
        "\n",
        "- 提出物：jupyternotebook，pyファイル等，結果はnotebook上に示してもtext，pdf等で提出しても良い\n",
        "\n",
        "---"
      ],
      "metadata": {
        "id": "5WMgIa3SlaIo"
      }
    },
    {
      "cell_type": "markdown",
      "source": [
        "# 学習データ数，クラス数，特徴量数のいずれかを変化させたときのkNNの精度を比較する"
      ],
      "metadata": {
        "id": "wEMQWqqveWTu"
      }
    },
    {
      "cell_type": "markdown",
      "source": [
        "## ■内点法と単体法の比較■\n",
        "\n",
        "### 内点法とは：\n",
        "内点法（Interior Point Method, IPM）は、線形計画問題において、可行領域の内部から滑らかに最適解へ向かうアルゴリズムである。\n",
        "\n",
        "### 課題の目的\n",
        "- 線形計画問題に対する内点法と単体法の計算原理・計算量の違いを比較・理解する\n",
        "- Pythonライブラリ（SciPy）を用いて両手法を実装し、目的値と計算時間を実測比較す\n",
        "---\n",
        "\n",
        "## ■手法（内点法と単体法）■\n",
        "\n",
        "#### ♦内点法（IPM）:\n",
        "- 可行解空間の内部から出発し、目的関数を改善しながら最適点に向かって滑らかに収束する\n",
        "\n",
        "#### ♦単体法（Simplex Method）:\n",
        "- 可行領域の「頂点（基本解）」に沿って、目的関数の改善方向に従い隣接する頂点間をピボット操作で移動\n",
        "\n",
        "---\n",
        "\n",
        "### ■具体例・モデル化■\n",
        "以下の線形計画問題を例に、内点法・単体法を適用し、結果と計算時間を比較する。\n",
        "\n",
        "#### 問題設定\n",
        "\\begin{aligned}\n",
        "\\text{maximize} \\quad & 3x_1 + 2x_2 \\\\\n",
        "\\text{subject to} \\quad\n",
        "& x_1 + x_2 \\leq 4 \\\\\n",
        "& 2x_1 + x_2 \\leq 5 \\\\\n",
        "& x_1,\\, x_2 \\geq 0\n",
        "\\end{aligned}\n",
        "\n",
        "この問題を SciPy の linprog 関数を用いて解く：\n",
        "\n",
        "また、上記に加え、変数数・制約数を拡張した以下の問題についても同様に解析を行い、目的関数値、収束性、計算時間、理論計算量の特性を整理する。\n",
        "\n",
        "| 問題規模 | 変数数（n） | 制約数（m） |\n",
        "|----------|-------------|-------------|\n",
        "| 小規模   | 10          | 5           |\n",
        "| 中規模   | 100         | 50          |\n",
        "| 大規模   | 500         | 250         |\n",
        "\n",
        "---\n",
        "\n",
        "#### ■実装■\n",
        "Python（SciPy）を用い、次の3種類の問題サイズで内点法と単体法を比較する。\n",
        "\n",
        "この結果を基に、問題規模に応じた手法選択の実用的指針を明らかにする。"
      ],
      "metadata": {
        "id": "gXv4dykdd84d"
      }
    },
    {
      "cell_type": "code",
      "source": [
        "import time\n",
        "import numpy as np\n",
        "import pandas as pd\n",
        "from scipy.optimize import linprog\n",
        "from IPython.display import display\n",
        "import matplotlib.pyplot as plt\n",
        "\n",
        "# 警告を非表示\n",
        "import warnings\n",
        "warnings.filterwarnings(\"ignore\", category=DeprecationWarning)\n",
        "\n",
        "# 問題規模設定\n",
        "problem_sizes = [\n",
        "    {\"label\": \"小規模\", \"n\": 10, \"m\": 5},\n",
        "    {\"label\": \"中規模\", \"n\": 100, \"m\": 50},\n",
        "    {\"label\": \"大規模\", \"n\": 500, \"m\": 250}\n",
        "]\n",
        "\n",
        "def theoretical_complexity_ipm(n):\n",
        "    return f\"O({n}^3)\"\n",
        "\n",
        "def theoretical_complexity_simplex(n):\n",
        "    return f\"O(2^{n})\"\n",
        "\n",
        "results = []\n",
        "\n",
        "for setting in problem_sizes:\n",
        "    n, m, label = setting[\"n\"], setting[\"m\"], setting[\"label\"]\n",
        "\n",
        "    # ランダムなLP問題の生成（係数は一様乱数）\n",
        "    np.random.seed(42)\n",
        "    c = -np.random.uniform(1, 10, size=n)  # maximize → minimize\n",
        "    A = np.random.uniform(1, 10, size=(m, n))\n",
        "    b = np.random.uniform(10, 100, size=m)\n",
        "    bounds = [(0, None)] * n\n",
        "\n",
        "    # 内点法\n",
        "    start_ip = time.time()\n",
        "    res_ip = linprog(c, A_ub=A, b_ub=b, bounds=bounds, method='interior-point')\n",
        "    end_ip = time.time()\n",
        "\n",
        "    # 単体法\n",
        "    start_sm = time.time()\n",
        "    res_sm = linprog(c, A_ub=A, b_ub=b, bounds=bounds, method='simplex')\n",
        "    end_sm = time.time()\n",
        "\n",
        "    results.append({\n",
        "        \"問題規模\": label,\n",
        "        \"変数数\": n,\n",
        "        \"制約数\": m,\n",
        "        \"内点法_目的値\": -res_ip.fun if res_ip.success else None,\n",
        "        \"内点法_時間[s]\": end_ip - start_ip,\n",
        "        \"単体法_目的値\": -res_sm.fun if res_sm.success else None,\n",
        "        \"単体法_時間[s]\": end_sm - start_sm,\n",
        "        \"内点法_理論計算量\": theoretical_complexity_ipm(n),\n",
        "        \"単体法_理論計算量\": theoretical_complexity_simplex(n)\n",
        "    })\n",
        "\n",
        "# データフレーム化して表示\n",
        "df_result_final = pd.DataFrame(results)\n",
        "styled_df_final = df_result_final.style.format({\n",
        "    \"内点法_目的値\": \"{:.5f}\",\n",
        "    \"単体法_目的値\": \"{:.5f}\",\n",
        "    \"内点法_時間[s]\": \"{:.6f}\",\n",
        "    \"単体法_時間[s]\": \"{:.6f}\"\n",
        "}).set_properties(**{'text-align': 'center'}).set_table_styles(\n",
        "    [{'selector': 'th', 'props': [('text-align', 'center')]}]\n",
        ")\n",
        "\n",
        "display(styled_df_final)\n",
        "\n",
        "# PDF保存\n",
        "plt.savefig(\"network_chart.pdf\", format='pdf', bbox_inches='tight')\n",
        "plt.show()\n"
      ],
      "metadata": {
        "colab": {
          "base_uri": "https://localhost:8080/",
          "height": 162
        },
        "id": "h5PK30LsGNVD",
        "outputId": "a8483af5-e3fd-4a40-eb99-db05232fd4ea"
      },
      "execution_count": null,
      "outputs": [
        {
          "output_type": "display_data",
          "data": {
            "text/plain": [
              "<pandas.io.formats.style.Styler at 0x7a3031650590>"
            ],
            "text/html": [
              "<style type=\"text/css\">\n",
              "#T_a9bf3 th {\n",
              "  text-align: center;\n",
              "}\n",
              "#T_a9bf3_row0_col0, #T_a9bf3_row0_col1, #T_a9bf3_row0_col2, #T_a9bf3_row0_col3, #T_a9bf3_row0_col4, #T_a9bf3_row0_col5, #T_a9bf3_row0_col6, #T_a9bf3_row0_col7, #T_a9bf3_row0_col8, #T_a9bf3_row1_col0, #T_a9bf3_row1_col1, #T_a9bf3_row1_col2, #T_a9bf3_row1_col3, #T_a9bf3_row1_col4, #T_a9bf3_row1_col5, #T_a9bf3_row1_col6, #T_a9bf3_row1_col7, #T_a9bf3_row1_col8, #T_a9bf3_row2_col0, #T_a9bf3_row2_col1, #T_a9bf3_row2_col2, #T_a9bf3_row2_col3, #T_a9bf3_row2_col4, #T_a9bf3_row2_col5, #T_a9bf3_row2_col6, #T_a9bf3_row2_col7, #T_a9bf3_row2_col8 {\n",
              "  text-align: center;\n",
              "}\n",
              "</style>\n",
              "<table id=\"T_a9bf3\" class=\"dataframe\">\n",
              "  <thead>\n",
              "    <tr>\n",
              "      <th class=\"blank level0\" >&nbsp;</th>\n",
              "      <th id=\"T_a9bf3_level0_col0\" class=\"col_heading level0 col0\" >問題規模</th>\n",
              "      <th id=\"T_a9bf3_level0_col1\" class=\"col_heading level0 col1\" >変数数</th>\n",
              "      <th id=\"T_a9bf3_level0_col2\" class=\"col_heading level0 col2\" >制約数</th>\n",
              "      <th id=\"T_a9bf3_level0_col3\" class=\"col_heading level0 col3\" >内点法_目的値</th>\n",
              "      <th id=\"T_a9bf3_level0_col4\" class=\"col_heading level0 col4\" >内点法_時間[s]</th>\n",
              "      <th id=\"T_a9bf3_level0_col5\" class=\"col_heading level0 col5\" >単体法_目的値</th>\n",
              "      <th id=\"T_a9bf3_level0_col6\" class=\"col_heading level0 col6\" >単体法_時間[s]</th>\n",
              "      <th id=\"T_a9bf3_level0_col7\" class=\"col_heading level0 col7\" >内点法_理論計算量</th>\n",
              "      <th id=\"T_a9bf3_level0_col8\" class=\"col_heading level0 col8\" >単体法_理論計算量</th>\n",
              "    </tr>\n",
              "  </thead>\n",
              "  <tbody>\n",
              "    <tr>\n",
              "      <th id=\"T_a9bf3_level0_row0\" class=\"row_heading level0 row0\" >0</th>\n",
              "      <td id=\"T_a9bf3_row0_col0\" class=\"data row0 col0\" >小規模</td>\n",
              "      <td id=\"T_a9bf3_row0_col1\" class=\"data row0 col1\" >10</td>\n",
              "      <td id=\"T_a9bf3_row0_col2\" class=\"data row0 col2\" >5</td>\n",
              "      <td id=\"T_a9bf3_row0_col3\" class=\"data row0 col3\" >80.37928</td>\n",
              "      <td id=\"T_a9bf3_row0_col4\" class=\"data row0 col4\" >0.006980</td>\n",
              "      <td id=\"T_a9bf3_row0_col5\" class=\"data row0 col5\" >80.37928</td>\n",
              "      <td id=\"T_a9bf3_row0_col6\" class=\"data row0 col6\" >0.004229</td>\n",
              "      <td id=\"T_a9bf3_row0_col7\" class=\"data row0 col7\" >O(10^3)</td>\n",
              "      <td id=\"T_a9bf3_row0_col8\" class=\"data row0 col8\" >O(2^10)</td>\n",
              "    </tr>\n",
              "    <tr>\n",
              "      <th id=\"T_a9bf3_level0_row1\" class=\"row_heading level0 row1\" >1</th>\n",
              "      <td id=\"T_a9bf3_row1_col0\" class=\"data row1 col0\" >中規模</td>\n",
              "      <td id=\"T_a9bf3_row1_col1\" class=\"data row1 col1\" >100</td>\n",
              "      <td id=\"T_a9bf3_row1_col2\" class=\"data row1 col2\" >50</td>\n",
              "      <td id=\"T_a9bf3_row1_col3\" class=\"data row1 col3\" >38.40966</td>\n",
              "      <td id=\"T_a9bf3_row1_col4\" class=\"data row1 col4\" >0.007073</td>\n",
              "      <td id=\"T_a9bf3_row1_col5\" class=\"data row1 col5\" >38.40966</td>\n",
              "      <td id=\"T_a9bf3_row1_col6\" class=\"data row1 col6\" >0.072500</td>\n",
              "      <td id=\"T_a9bf3_row1_col7\" class=\"data row1 col7\" >O(100^3)</td>\n",
              "      <td id=\"T_a9bf3_row1_col8\" class=\"data row1 col8\" >O(2^100)</td>\n",
              "    </tr>\n",
              "    <tr>\n",
              "      <th id=\"T_a9bf3_level0_row2\" class=\"row_heading level0 row2\" >2</th>\n",
              "      <td id=\"T_a9bf3_row2_col0\" class=\"data row2 col0\" >大規模</td>\n",
              "      <td id=\"T_a9bf3_row2_col1\" class=\"data row2 col1\" >500</td>\n",
              "      <td id=\"T_a9bf3_row2_col2\" class=\"data row2 col2\" >250</td>\n",
              "      <td id=\"T_a9bf3_row2_col3\" class=\"data row2 col3\" >25.93651</td>\n",
              "      <td id=\"T_a9bf3_row2_col4\" class=\"data row2 col4\" >0.528787</td>\n",
              "      <td id=\"T_a9bf3_row2_col5\" class=\"data row2 col5\" >25.93651</td>\n",
              "      <td id=\"T_a9bf3_row2_col6\" class=\"data row2 col6\" >1.562029</td>\n",
              "      <td id=\"T_a9bf3_row2_col7\" class=\"data row2 col7\" >O(500^3)</td>\n",
              "      <td id=\"T_a9bf3_row2_col8\" class=\"data row2 col8\" >O(2^500)</td>\n",
              "    </tr>\n",
              "  </tbody>\n",
              "</table>\n"
            ]
          },
          "metadata": {}
        },
        {
          "output_type": "display_data",
          "data": {
            "text/plain": [
              "<Figure size 640x480 with 0 Axes>"
            ]
          },
          "metadata": {}
        }
      ]
    },
    {
      "cell_type": "markdown",
      "source": [
        "---\n",
        "## ■可視化■"
      ],
      "metadata": {
        "id": "KvI0MKKoEJa5"
      }
    },
    {
      "cell_type": "code",
      "source": [
        "import matplotlib.pyplot as plt\n",
        "import numpy as np\n",
        "\n",
        "plt.rcParams['font.family'] = 'DejaVu Sans'\n",
        "\n",
        "# 可視化用データ作成（df_result_final から）\n",
        "df_time = df_result_final[[\n",
        "    \"問題規模\",\n",
        "    \"内点法_時間[s]\",\n",
        "    \"単体法_時間[s]\"\n",
        "]].copy()\n",
        "\n",
        "df_time.columns = [\"Problem Size\", \"Interior Point Time (s)\", \"Simplex Time (s)\"]\n",
        "\n",
        "# ヒストグラム描画\n",
        "labels = df_time[\"Problem Size\"]\n",
        "ipm_times = df_time[\"Interior Point Time (s)\"]\n",
        "simplex_times = df_time[\"Simplex Time (s)\"]\n",
        "\n",
        "x = np.arange(len(labels))\n",
        "bar_width = 0.35\n",
        "\n",
        "fig, ax = plt.subplots(figsize=(10, 5))\n",
        "ax.bar(x - bar_width/2, ipm_times, bar_width, label='Interior Point Method', color='steelblue')\n",
        "ax.bar(x + bar_width/2, simplex_times, bar_width, label='Simplex Method', color='darkorange')\n",
        "\n",
        "ax.set_xlabel('Problem Size')\n",
        "ax.set_ylabel('Computation Time (seconds)')\n",
        "ax.set_title('Computation Time Comparison: Interior Point vs Simplex')\n",
        "ax.set_xticks(x)\n",
        "ax.set_xticklabels(['Small', 'Medium', 'Large'])\n",
        "ax.legend()\n",
        "ax.grid(True, axis='y', linestyle='--', alpha=0.7)\n",
        "\n",
        "plt.tight_layout()\n",
        "plt.show()\n",
        "\n",
        "# PDF保存\n",
        "plt.savefig(\"network_chart.pdf\", format='pdf', bbox_inches='tight')\n",
        "plt.show()"
      ],
      "metadata": {
        "colab": {
          "base_uri": "https://localhost:8080/",
          "height": 525
        },
        "id": "ZIuTRsHnQH3i",
        "outputId": "afd7a547-5ca6-4bde-8f61-22bb8ba77ef8"
      },
      "execution_count": null,
      "outputs": [
        {
          "output_type": "display_data",
          "data": {
            "text/plain": [
              "<Figure size 1000x500 with 1 Axes>"
            ],
            "image/png": "[encoded data removed]"
          },
          "metadata": {}
        },
        {
          "output_type": "display_data",
          "data": {
            "text/plain": [
              "<Figure size 640x480 with 0 Axes>"
            ]
          },
          "metadata": {}
        }
      ]
    }
  ],
  "metadata": {
    "celltoolbar": "Slideshow",
    "kernelspec": {
      "display_name": "Python 3 (ipykernel)",
      "language": "python",
      "name": "python3"
    },
    "language_info": {
      "codemirror_mode": {
        "name": "ipython",
        "version": 3
      },
      "file_extension": ".py",
      "mimetype": "text/x-python",
      "name": "python",
      "nbconvert_exporter": "python",
      "pygments_lexer": "ipython3",
      "version": "3.10.7"
    },
    "colab": {
      "provenance": [],
      "toc_visible": true,
      "include_colab_link": true
    }
  },
  "nbformat": 4,
  "nbformat_minor": 0
}