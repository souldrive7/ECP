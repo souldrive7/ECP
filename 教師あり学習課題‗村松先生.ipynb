{
  "cells": [
    {
      "cell_type": "markdown",
      "metadata": {
        "id": "view-in-github",
        "colab_type": "text"
      },
      "source": [
        "<a href=\"https://colab.research.google.com/github/souldrive7/ECP/blob/main/%E6%95%99%E5%B8%AB%E3%81%82%E3%82%8A%E5%AD%A6%E7%BF%92%E8%AA%B2%E9%A1%8C%E2%80%97%E6%9D%91%E6%9D%BE%E5%85%88%E7%94%9F.ipynb\" target=\"_parent\"><img src=\"https://colab.research.google.com/assets/colab-badge.svg\" alt=\"Open In Colab\"/></a>"
      ]
    },
    {
      "cell_type": "markdown",
      "source": [
        "# 教師あり学習 課題（村松先生）"
      ],
      "metadata": {
        "id": "diPhWIPJdlBm"
      }
    },
    {
      "cell_type": "markdown",
      "source": [
        "### 氏名：後藤 晃郁\n",
        "\n",
        "### 学籍番号：6025131\n",
        "\n",
        "### 提出日：2025/5/15"
      ],
      "metadata": {
        "id": "AeOUmXzxapxI"
      }
    },
    {
      "cell_type": "markdown",
      "source": [
        "# 課題"
      ],
      "metadata": {
        "id": "WzYR-1Smd3Gu"
      }
    },
    {
      "cell_type": "markdown",
      "source": [
        "---\n",
        "\n",
        "- 学習データ数，クラス数，特徴量数のいずれかを変化させたときのkNNの精度を比較する\n",
        "\n",
        "- それぞれでkの値はcvを用いて最適化すること\n",
        "\n",
        "- 結果は可視化して簡単な考察を加えること\n",
        "\n",
        "- 提出物：jupyternotebook，pyファイル等，結果はnotebook上に示してもtext，pdf等で提出しても良い\n",
        "\n",
        "---"
      ],
      "metadata": {
        "id": "5WMgIa3SlaIo"
      }
    },
    {
      "cell_type": "markdown",
      "source": [
        "# CIFAR-10データセットにおけるk-NN分類の精度検証"
      ],
      "metadata": {
        "id": "tgMZTZ2jATcR"
      }
    },
    {
      "cell_type": "markdown",
      "source": [
        "# ■はじめに■"
      ],
      "metadata": {
        "id": "QIQnP7BsQMau"
      }
    },
    {
      "cell_type": "markdown",
      "source": [
        "CIFAR-10は10種類の物体画像からなる小規模なカラー画像データセットで、訓練画像50,000枚・テスト画像10,000枚が含まれる。\n",
        "\n",
        "本課題では、k近傍法 (k-Nearest Neighbors, kNN) を用いてCIFAR-10画像の分類を行い、以下のポイントについて精度への影響を検証する：\n",
        "\n",
        "- 実験1 学習データ数：訓練に用いるデータ数を変えた場合の精度変化\n",
        "- 実験2 クラス数：分類するクラスの数を変えた場合の精度変化\n",
        "- 実験3 特徴量数：画像あたりの特徴量次元を変えた場合の精度変化\n",
        "- ハイパーパラメータである近傍数 k は交差検証 (CV) により最適化し、過学習を防ぐ\n",
        "\n",
        "こうした検証を通じて、kNN分類器の性能特性や制約について分析し、モデル選択上の考察を行う。\n",
        "\n",
        "---"
      ],
      "metadata": {
        "id": "sOwPOUHNAeTE"
      }
    },
    {
      "cell_type": "markdown",
      "source": [
        "#■ライブラリインポート・データ読込■"
      ],
      "metadata": {
        "id": "m-8BfOaNM6W7"
      }
    },
    {
      "cell_type": "code",
      "source": [
        "import os\n",
        "import numpy as np\n",
        "import pandas as pd\n",
        "import matplotlib.pyplot as plt\n",
        "import tensorflow as tf\n",
        "from tensorflow.keras.datasets import cifar10\n",
        "from sklearn.decomposition import PCA\n",
        "from sklearn.model_selection import train_test_split, GridSearchCV\n",
        "from sklearn.neighbors import KNeighborsClassifier\n",
        "from sklearn.metrics import accuracy_score\n",
        "import cv2"
      ],
      "metadata": {
        "id": "V79pdMP6Oo-0"
      },
      "execution_count": 1,
      "outputs": []
    },
    {
      "cell_type": "code",
      "source": [
        "# インストール用\n",
        "# !pip install japanize-matplotlib"
      ],
      "metadata": {
        "collapsed": true,
        "id": "zezu1J-yKCb4",
        "outputId": "dc22feb1-81e8-45c9-b25a-ff4e63db06b1",
        "colab": {
          "base_uri": "https://localhost:8080/"
        }
      },
      "execution_count": 85,
      "outputs": [
        {
          "output_type": "stream",
          "name": "stdout",
          "text": [
            "Collecting japanize-matplotlib\n",
            "  Downloading japanize-matplotlib-1.1.3.tar.gz (4.1 MB)\n",
            "\u001b[2K     \u001b[90m━━━━━━━━━━━━━━━━━━━━━━━━━━━━━━━━━━━━━━━━\u001b[0m \u001b[32m4.1/4.1 MB\u001b[0m \u001b[31m24.9 MB/s\u001b[0m eta \u001b[36m0:00:00\u001b[0m\n",
            "\u001b[?25h  Preparing metadata (setup.py) ... \u001b[?25l\u001b[?25hdone\n",
            "Requirement already satisfied: matplotlib in /usr/local/lib/python3.11/dist-packages (from japanize-matplotlib) (3.10.0)\n",
            "Requirement already satisfied: contourpy>=1.0.1 in /usr/local/lib/python3.11/dist-packages (from matplotlib->japanize-matplotlib) (1.3.2)\n",
            "Requirement already satisfied: cycler>=0.10 in /usr/local/lib/python3.11/dist-packages (from matplotlib->japanize-matplotlib) (0.12.1)\n",
            "Requirement already satisfied: fonttools>=4.22.0 in /usr/local/lib/python3.11/dist-packages (from matplotlib->japanize-matplotlib) (4.57.0)\n",
            "Requirement already satisfied: kiwisolver>=1.3.1 in /usr/local/lib/python3.11/dist-packages (from matplotlib->japanize-matplotlib) (1.4.8)\n",
            "Requirement already satisfied: numpy>=1.23 in /usr/local/lib/python3.11/dist-packages (from matplotlib->japanize-matplotlib) (2.0.2)\n",
            "Requirement already satisfied: packaging>=20.0 in /usr/local/lib/python3.11/dist-packages (from matplotlib->japanize-matplotlib) (24.2)\n",
            "Requirement already satisfied: pillow>=8 in /usr/local/lib/python3.11/dist-packages (from matplotlib->japanize-matplotlib) (11.2.1)\n",
            "Requirement already satisfied: pyparsing>=2.3.1 in /usr/local/lib/python3.11/dist-packages (from matplotlib->japanize-matplotlib) (3.2.3)\n",
            "Requirement already satisfied: python-dateutil>=2.7 in /usr/local/lib/python3.11/dist-packages (from matplotlib->japanize-matplotlib) (2.9.0.post0)\n",
            "Requirement already satisfied: six>=1.5 in /usr/local/lib/python3.11/dist-packages (from python-dateutil>=2.7->matplotlib->japanize-matplotlib) (1.17.0)\n",
            "Building wheels for collected packages: japanize-matplotlib\n",
            "  Building wheel for japanize-matplotlib (setup.py) ... \u001b[?25l\u001b[?25hdone\n",
            "  Created wheel for japanize-matplotlib: filename=japanize_matplotlib-1.1.3-py3-none-any.whl size=4120257 sha256=83ed9fe87eeacb06fbbecf95ad3b2a0e5d16d1f00f212f11a9f7467d52951224\n",
            "  Stored in directory: /root/.cache/pip/wheels/da/a1/71/b8faeb93276fed10edffcca20746f1ef6f8d9e071eee8425fc\n",
            "Successfully built japanize-matplotlib\n",
            "Installing collected packages: japanize-matplotlib\n",
            "Successfully installed japanize-matplotlib-1.1.3\n"
          ]
        }
      ]
    },
    {
      "cell_type": "code",
      "source": [
        "import japanize_matplotlib"
      ],
      "metadata": {
        "id": "TtP-Q6wMKCZG"
      },
      "execution_count": 2,
      "outputs": []
    },
    {
      "cell_type": "code",
      "source": [
        "# CIFAR-10読み込み\n",
        "(x_train, y_train), (x_test, y_test) = cifar10.load_data()\n",
        "y_train = y_train.ravel(); y_test = y_test.ravel()\n",
        "class_names = ['airplane','automobile','bird','cat','deer',\n",
        "               'dog','frog','horse','ship','truck']"
      ],
      "metadata": {
        "id": "DupC7vGeGHil"
      },
      "execution_count": 3,
      "outputs": []
    },
    {
      "cell_type": "markdown",
      "source": [
        "\n",
        "\n",
        "---\n",
        "\n"
      ],
      "metadata": {
        "id": "Vr-ddEF7RV5b"
      }
    },
    {
      "cell_type": "markdown",
      "source": [
        "# ■ベースライン■"
      ],
      "metadata": {
        "id": "YAXGg54hGxyQ"
      }
    },
    {
      "cell_type": "code",
      "source": [
        "# (1) クラスごとのサンプル表示（自動車 vs トラック）\n",
        "fig, axes = plt.subplots(2,5, figsize=(8,4))\n",
        "for i, cls in enumerate([1,9]):  # 1=automobile, 9=truck\n",
        "    imgs = x_train[y_train==cls][:5]\n",
        "    for j,img in enumerate(imgs):\n",
        "        ax = axes[i,j]\n",
        "        ax.imshow(img); ax.axis('off')\n",
        "    axes[i,0].set_ylabel(class_names[cls])\n",
        "plt.suptitle(\"自動車 vs トラック サンプル\"); plt.show()"
      ],
      "metadata": {
        "id": "JwrYHtM4Jk3j",
        "outputId": "0fab29ad-e60e-4a1b-c3c9-b8aca133361f",
        "colab": {
          "base_uri": "https://localhost:8080/",
          "height": 368
        }
      },
      "execution_count": 4,
      "outputs": [
        {
          "output_type": "display_data",
          "data": {
            "text/plain": [
              "<Figure size 800x400 with 10 Axes>"
            ],
            "image/png": "[encoded data removed]"
          },
          "metadata": {}
        }
      ]
    },
    {
      "cell_type": "markdown",
      "source": [
        "# ■PCAによる2次元プロット■"
      ],
      "metadata": {
        "id": "oaX2gDZtMikZ"
      }
    },
    {
      "cell_type": "code",
      "source": [
        "# 自動車とトラック 各500枚抽出\n",
        "mask = np.isin(y_train, [1,9])\n",
        "X = x_train[mask].reshape(-1, 3072)[:1000]\n",
        "y = y_train[mask][:1000]\n",
        "pca = PCA(n_components=2)\n",
        "Z = pca.fit_transform(X)\n",
        "plt.scatter(Z[y==1,0], Z[y==1,1], s=5, label='automobile')\n",
        "plt.scatter(Z[y==9,0], Z[y==9,1], s=5, label='truck')\n",
        "plt.legend(); plt.title(\"PCA 2D Projection\"); plt.show()"
      ],
      "metadata": {
        "id": "b2381YL4MgX5",
        "outputId": "af530200-571f-4fa8-8a5f-6131fb7fa684",
        "colab": {
          "base_uri": "https://localhost:8080/",
          "height": 450
        }
      },
      "execution_count": 5,
      "outputs": [
        {
          "output_type": "display_data",
          "data": {
            "text/plain": [
              "<Figure size 640x480 with 1 Axes>"
            ],
            "image/png": "[encoded data removed]"
          },
          "metadata": {}
        }
      ]
    },
    {
      "cell_type": "markdown",
      "source": [
        "---"
      ],
      "metadata": {
        "id": "aD30byPaRf0l"
      }
    },
    {
      "cell_type": "markdown",
      "source": [
        "# ■実験1：学習データ数による比較■"
      ],
      "metadata": {
        "id": "mvl-nyInLuTX"
      }
    },
    {
      "cell_type": "code",
      "source": [
        "for n in [100, 500, 1000]:\n",
        "    Xb, yb, Xt, yt = get_binary_data(n_train_per_cls=n)\n",
        "    params, cv_score = optimize_knn(Xb.reshape(-1,3072), yb)\n",
        "    acc = accuracy_score(yt, KNeighborsClassifier(**params)\n",
        "                         .fit(Xb.reshape(-1,3072),yb)\n",
        "                         .predict(Xt.reshape(-1,3072)))\n",
        "    print(f\"各クラス{n}枚: CV best {params}, CV={cv_score:.3f}, Test acc={acc:.3f}\")\n"
      ],
      "metadata": {
        "id": "CVu1QAolLa-1",
        "outputId": "ae227681-2091-409b-8784-235f40a0ed86",
        "colab": {
          "base_uri": "https://localhost:8080/",
          "height": 211
        }
      },
      "execution_count": 6,
      "outputs": [
        {
          "output_type": "error",
          "ename": "NameError",
          "evalue": "name 'get_binary_data' is not defined",
          "traceback": [
            "\u001b[0;31m---------------------------------------------------------------------------\u001b[0m",
            "\u001b[0;31mNameError\u001b[0m                                 Traceback (most recent call last)",
            "\u001b[0;32m<ipython-input-6-37d2f37c7c33>\u001b[0m in \u001b[0;36m<cell line: 0>\u001b[0;34m()\u001b[0m\n\u001b[1;32m      1\u001b[0m \u001b[0;32mfor\u001b[0m \u001b[0mn\u001b[0m \u001b[0;32min\u001b[0m \u001b[0;34m[\u001b[0m\u001b[0;36m100\u001b[0m\u001b[0;34m,\u001b[0m \u001b[0;36m500\u001b[0m\u001b[0;34m,\u001b[0m \u001b[0;36m1000\u001b[0m\u001b[0;34m]\u001b[0m\u001b[0;34m:\u001b[0m\u001b[0;34m\u001b[0m\u001b[0;34m\u001b[0m\u001b[0m\n\u001b[0;32m----> 2\u001b[0;31m     \u001b[0mXb\u001b[0m\u001b[0;34m,\u001b[0m \u001b[0myb\u001b[0m\u001b[0;34m,\u001b[0m \u001b[0mXt\u001b[0m\u001b[0;34m,\u001b[0m \u001b[0myt\u001b[0m \u001b[0;34m=\u001b[0m \u001b[0mget_binary_data\u001b[0m\u001b[0;34m(\u001b[0m\u001b[0mn_train_per_cls\u001b[0m\u001b[0;34m=\u001b[0m\u001b[0mn\u001b[0m\u001b[0;34m)\u001b[0m\u001b[0;34m\u001b[0m\u001b[0;34m\u001b[0m\u001b[0m\n\u001b[0m\u001b[1;32m      3\u001b[0m     \u001b[0mparams\u001b[0m\u001b[0;34m,\u001b[0m \u001b[0mcv_score\u001b[0m \u001b[0;34m=\u001b[0m \u001b[0moptimize_knn\u001b[0m\u001b[0;34m(\u001b[0m\u001b[0mXb\u001b[0m\u001b[0;34m.\u001b[0m\u001b[0mreshape\u001b[0m\u001b[0;34m(\u001b[0m\u001b[0;34m-\u001b[0m\u001b[0;36m1\u001b[0m\u001b[0;34m,\u001b[0m\u001b[0;36m3072\u001b[0m\u001b[0;34m)\u001b[0m\u001b[0;34m,\u001b[0m \u001b[0myb\u001b[0m\u001b[0;34m)\u001b[0m\u001b[0;34m\u001b[0m\u001b[0;34m\u001b[0m\u001b[0m\n\u001b[1;32m      4\u001b[0m     acc = accuracy_score(yt, KNeighborsClassifier(**params)\n\u001b[1;32m      5\u001b[0m                          \u001b[0;34m.\u001b[0m\u001b[0mfit\u001b[0m\u001b[0;34m(\u001b[0m\u001b[0mXb\u001b[0m\u001b[0;34m.\u001b[0m\u001b[0mreshape\u001b[0m\u001b[0;34m(\u001b[0m\u001b[0;34m-\u001b[0m\u001b[0;36m1\u001b[0m\u001b[0;34m,\u001b[0m\u001b[0;36m3072\u001b[0m\u001b[0;34m)\u001b[0m\u001b[0;34m,\u001b[0m\u001b[0myb\u001b[0m\u001b[0;34m)\u001b[0m\u001b[0;34m\u001b[0m\u001b[0;34m\u001b[0m\u001b[0m\n",
            "\u001b[0;31mNameError\u001b[0m: name 'get_binary_data' is not defined"
          ]
        }
      ]
    },
    {
      "cell_type": "code",
      "source": [
        "import numpy as np\n",
        "import matplotlib.pyplot as plt\n",
        "\n",
        "# 実験3の結果（手入力）\n",
        "settings    = ['各クラス100枚', '各クラス500枚', '各クラス1000枚']\n",
        "cv_scores   = [0.670,         0.664,          0.686]   # CV精度\n",
        "test_scores = [0.640,         0.655,          0.670]   # テスト精度\n",
        "best_ks     = [9,             11,             9]       # 最適 k\n",
        "\n",
        "# プロット準備\n",
        "x     = np.arange(len(settings))\n",
        "width = 0.35\n",
        "\n",
        "fig, ax = plt.subplots(figsize=(6,4))\n",
        "bars_cv   = ax.bar(x - width/2, cv_scores,   width, label='CV 精度')\n",
        "bars_test = ax.bar(x + width/2, test_scores, width, label='テスト精度')\n",
        "\n",
        "# k 値をアノテーション\n",
        "for idx, bar in enumerate(bars_test):\n",
        "    ax.text(bar.get_x() + bar.get_width()/2,\n",
        "            bar.get_height() + 0.01,\n",
        "            f'k={best_ks[idx]}',\n",
        "            ha='center', va='bottom', fontsize=10)\n",
        "\n",
        "# 軸・凡例設定\n",
        "ax.set_xticks(x)\n",
        "ax.set_xticklabels(settings, fontsize=12)\n",
        "ax.set_ylim(0, 1)\n",
        "ax.set_ylabel('Accuracy', fontsize=12)\n",
        "ax.set_title('学習データ数別の kNN 精度比較', fontsize=14)\n",
        "ax.legend()\n",
        "\n",
        "plt.tight_layout()\n",
        "plt.show()\n"
      ],
      "metadata": {
        "id": "5SGQADY2Pp-E",
        "outputId": "8dc7b934-0dee-430b-ea83-f9f7648e9844",
        "colab": {
          "base_uri": "https://localhost:8080/",
          "height": 407
        }
      },
      "execution_count": 108,
      "outputs": [
        {
          "output_type": "display_data",
          "data": {
            "text/plain": [
              "<Figure size 600x400 with 1 Axes>"
            ],
            "image/png": "[encoded data removed]"
          },
          "metadata": {}
        }
      ]
    },
    {
      "cell_type": "markdown",
      "source": [
        "---"
      ],
      "metadata": {
        "id": "wmpYKl7mRi8H"
      }
    },
    {
      "cell_type": "markdown",
      "source": [
        "# ■実験2：クラス数による比較■"
      ],
      "metadata": {
        "id": "Ihn8JVs4K1jz"
      }
    },
    {
      "cell_type": "code",
      "source": [
        "from sklearn.model_selection import train_test_split\n",
        "\n",
        "def multiclass_data(n_classes, samples_per_class=500):\n",
        "    \"\"\"\n",
        "    最初の n_classes クラスを対象に、\n",
        "    各クラス samples_per_class 枚ずつサンプリングして返す。\n",
        "    \"\"\"\n",
        "    # 使用するクラスIDリスト\n",
        "    classes = list(range(n_classes))\n",
        "    # マスクを作って画像とラベルを抽出\n",
        "    mask_tr = np.isin(y_train, classes)\n",
        "    X_full = x_train[mask_tr].reshape(-1, 3072)\n",
        "    y_full = y_train[mask_tr]\n",
        "    # 各クラスを均等に samples_per_class 枚ずつサンプリング\n",
        "    Xb, _, yb, _ = train_test_split(\n",
        "        X_full, y_full,\n",
        "        train_size=n_classes * samples_per_class,\n",
        "        stratify=y_full,\n",
        "        random_state=0\n",
        "    )\n",
        "    # テストデータは全クラスからそのまま\n",
        "    mask_te = np.isin(y_test, classes)\n",
        "    Xt = x_test[mask_te].reshape(-1, 3072)\n",
        "    yt = y_test[mask_te]\n",
        "    return Xb, yb, Xt, yt\n",
        "\n",
        "for k_classes in [2, 5, 10]:\n",
        "    Xb, yb, Xt, yt = multiclass_data(k_classes, samples_per_class=500)\n",
        "    # 念のため形状を確認\n",
        "    print(f\"{k_classes}クラス: train X={Xb.shape}, y={yb.shape}\")\n",
        "    # kNN最適化\n",
        "    best_params, cv_score = optimize_knn(Xb, yb)\n",
        "    # テスト精度\n",
        "    clf = KNeighborsClassifier(**best_params).fit(Xb, yb)\n",
        "    acc = accuracy_score(yt, clf.predict(Xt))\n",
        "    print(f\" → CV best={best_params}, CV精度={cv_score:.3f}, Test精度={acc:.3f}\")"
      ],
      "metadata": {
        "id": "1u3ueUQiK1hX",
        "outputId": "1826db74-23de-49f4-d8e7-c49257052ed3",
        "colab": {
          "base_uri": "https://localhost:8080/"
        }
      },
      "execution_count": 96,
      "outputs": [
        {
          "output_type": "stream",
          "name": "stdout",
          "text": [
            "2クラス: train X=(1000, 3072), y=(1000,)\n",
            " → CV best={'n_neighbors': 3, 'weights': 'uniform'}, CV精度=0.656, Test精度=0.669\n",
            "5クラス: train X=(2500, 3072), y=(2500,)\n",
            " → CV best={'n_neighbors': 3, 'weights': 'distance'}, CV精度=0.410, Test精度=0.416\n",
            "10クラス: train X=(5000, 3072), y=(5000,)\n",
            " → CV best={'n_neighbors': 9, 'weights': 'distance'}, CV精度=0.283, Test精度=0.293\n"
          ]
        }
      ]
    },
    {
      "cell_type": "code",
      "source": [
        "import numpy as np\n",
        "import matplotlib.pyplot as plt\n",
        "\n",
        "# 結果の定義\n",
        "settings    = ['2クラス', '5クラス', '10クラス']\n",
        "cv_scores   = [0.656,   0.410,   0.283]   # 実験から取得したCV精度\n",
        "test_scores = [0.669,   0.416,   0.293]   # 実験から取得したテスト精度\n",
        "best_ks     = [3,       3,       9]       # 実験から取得した最適 k\n",
        "\n",
        "# グラフ描画準備\n",
        "x     = np.arange(len(settings))\n",
        "width = 0.35\n",
        "\n",
        "fig, ax = plt.subplots(figsize=(6,4))\n",
        "bars_cv   = ax.bar(x - width/2, cv_scores,   width, label='CV 精度')\n",
        "bars_test = ax.bar(x + width/2, test_scores, width, label='テスト精度')\n",
        "\n",
        "# 各棒の上に k の値を表示\n",
        "for idx, bar in enumerate(bars_test):\n",
        "    ax.text(bar.get_x() + bar.get_width()/2,\n",
        "            bar.get_height() + 0.01,\n",
        "            f'k={best_ks[idx]}',\n",
        "            ha='center', va='bottom', fontsize=10)\n",
        "\n",
        "# 軸ラベル・凡例など\n",
        "ax.set_xticks(x)\n",
        "ax.set_xticklabels(settings, fontsize=12)\n",
        "ax.set_ylim(0, 1)\n",
        "ax.set_ylabel('Accuracy', fontsize=12)\n",
        "ax.set_title('クラス数別の kNN 精度比較', fontsize=14)\n",
        "ax.legend()\n",
        "\n",
        "plt.tight_layout()\n",
        "plt.show()\n"
      ],
      "metadata": {
        "id": "jAczZpISPJ12",
        "outputId": "0a74bc13-2a92-4a98-f62c-bfeb747eb6ff",
        "colab": {
          "base_uri": "https://localhost:8080/",
          "height": 407
        }
      },
      "execution_count": 107,
      "outputs": [
        {
          "output_type": "display_data",
          "data": {
            "text/plain": [
              "<Figure size 600x400 with 1 Axes>"
            ],
            "image/png": "[encoded data removed]"
          },
          "metadata": {}
        }
      ]
    },
    {
      "cell_type": "markdown",
      "source": [
        "---"
      ],
      "metadata": {
        "id": "78yRyGgCRona"
      }
    },
    {
      "cell_type": "markdown",
      "source": [
        "# ■実験3：特徴量による比較■"
      ],
      "metadata": {
        "id": "OOc7nqgrHUWL"
      }
    },
    {
      "cell_type": "code",
      "source": [
        "def resize_flatten(X, size):\n",
        "    return np.array([cv2.resize(img, (size,size)).flatten() for img in X])\n",
        "\n",
        "def optimize_knn(X, y):\n",
        "    params = {'n_neighbors':[3,5,7,9,11], 'weights':['uniform','distance']}\n",
        "    gs = GridSearchCV(KNeighborsClassifier(), params, cv=4, n_jobs=-1)\n",
        "    gs.fit(X, y)\n",
        "    return gs.best_params_, gs.best_score_\n",
        "\n",
        "# データ準備（自動車 vs トラック 各500 / テスト各100）\n",
        "def get_binary_data(n_train_per_cls=500):\n",
        "    mask = np.isin(y_train, [1,9])\n",
        "    Xb = x_train[mask]; yb = y_train[mask]\n",
        "    Xb, _, yb, _ = train_test_split(Xb, yb, train_size=2*n_train_per_cls,\n",
        "                                     stratify=yb, random_state=0)\n",
        "    mask_t = np.isin(y_test, [1,9])\n",
        "    Xt, yt = x_test[mask_t], y_test[mask_t]\n",
        "    Xt, _, yt, _ = train_test_split(Xt, yt, train_size=200,\n",
        "                                     stratify=yt, random_state=0)\n",
        "    return Xb, yb, Xt, yt\n",
        "\n",
        "Xb, yb, Xt, yt = get_binary_data()\n",
        "settings = {'PCA2': (PCA(n_components=2).fit_transform(Xb.reshape(-1,3072)),\n",
        "                     PCA(n_components=2).fit_transform(Xt.reshape(-1,3072))),\n",
        "            '16x16': (resize_flatten(Xb,16), resize_flatten(Xt,16)),\n",
        "            '32x32': (Xb.reshape(-1,3072), Xt.reshape(-1,3072))}\n",
        "\n",
        "for name, (Xtr, Xte) in settings.items():\n",
        "    params, cv_score = optimize_knn(Xtr, yb)\n",
        "    ypred = KNeighborsClassifier(**params).fit(Xtr, yb).predict(Xte)\n",
        "    acc = accuracy_score(yt, ypred)\n",
        "    print(f\"{name}: CV best {params}, CV={cv_score:.3f}, Test acc={acc:.3f}\")"
      ],
      "metadata": {
        "id": "evD1gBDPGVhk",
        "outputId": "4312a48b-0d18-4310-93ad-b4ab055ab22b",
        "colab": {
          "base_uri": "https://localhost:8080/"
        }
      },
      "execution_count": 92,
      "outputs": [
        {
          "output_type": "stream",
          "name": "stdout",
          "text": [
            "PCA2: CV best {'n_neighbors': 5, 'weights': 'distance'}, CV=0.593, Test acc=0.600\n",
            "16x16: CV best {'n_neighbors': 9, 'weights': 'distance'}, CV=0.676, Test acc=0.665\n",
            "32x32: CV best {'n_neighbors': 11, 'weights': 'distance'}, CV=0.664, Test acc=0.655\n"
          ]
        }
      ]
    },
    {
      "cell_type": "code",
      "source": [
        "import numpy as np\n",
        "import matplotlib.pyplot as plt\n",
        "\n",
        "# 結果の定義\n",
        "settings   = ['PCA2', '16×16', '32×32']\n",
        "cv_scores  = [0.593, 0.676, 0.664]\n",
        "test_accs  = [0.600, 0.665, 0.655]\n",
        "best_ks    = [5,     9,     11]     # 各設定の最適 k\n",
        "\n",
        "# グラフ描画\n",
        "x     = np.arange(len(settings))\n",
        "width = 0.35\n",
        "\n",
        "fig, ax = plt.subplots(figsize=(6,4))\n",
        "bars1 = ax.bar(x - width/2, cv_scores,  width, label='CV 精度')\n",
        "bars2 = ax.bar(x + width/2, test_accs,  width, label='テスト精度')\n",
        "\n",
        "# k のアノテーション\n",
        "for idx, bar in enumerate(bars2):\n",
        "    ax.text(bar.get_x() + bar.get_width()/2,\n",
        "            bar.get_height() + 0.01,\n",
        "            f'k={best_ks[idx]}',\n",
        "            ha='center', va='bottom', fontsize=10)\n",
        "\n",
        "# 軸・凡例設定\n",
        "ax.set_xticks(x)\n",
        "ax.set_xticklabels(settings, fontsize=12)\n",
        "ax.set_ylim(0, 1)\n",
        "ax.set_ylabel('Accuracy', fontsize=12)\n",
        "ax.set_title('特徴量設定別のkNN精度比較', fontsize=14)\n",
        "ax.legend()\n",
        "\n",
        "plt.tight_layout()\n",
        "plt.show()\n"
      ],
      "metadata": {
        "id": "teisHlzXO_K3",
        "outputId": "d822fe68-add2-4218-e31a-fa8d5a0e8430",
        "colab": {
          "base_uri": "https://localhost:8080/",
          "height": 407
        }
      },
      "execution_count": 106,
      "outputs": [
        {
          "output_type": "display_data",
          "data": {
            "text/plain": [
              "<Figure size 600x400 with 1 Axes>"
            ],
            "image/png": "[encoded data removed]"
          },
          "metadata": {}
        }
      ]
    },
    {
      "cell_type": "markdown",
      "source": [
        "# ■ご連携いただいたコードでの検証■"
      ],
      "metadata": {
        "id": "s4mHClmuNs8B"
      }
    },
    {
      "cell_type": "code",
      "source": [
        "# 追加\n",
        "# グリッドサーチ\n",
        "\n",
        "from sklearn.model_selection import GridSearchCV"
      ],
      "metadata": {
        "id": "lQ8Y8mYJqx1v"
      },
      "execution_count": 101,
      "outputs": []
    },
    {
      "cell_type": "markdown",
      "source": [],
      "metadata": {
        "id": "D8MWzTLlOtok"
      }
    },
    {
      "cell_type": "code",
      "source": [
        "param = {'n_neighbors':[3,5,7,9,11],'weights':['uniform','distance']}\n",
        "knn2 = KNeighborsClassifier()\n",
        "gs = GridSearchCV(knn2, param, cv=4)\n",
        "gs.fit(x_tr, y_tr.ravel())\n",
        "res = pd.DataFrame.from_dict(gs.cv_results_)\n",
        "res"
      ],
      "metadata": {
        "colab": {
          "base_uri": "https://localhost:8080/",
          "height": 730
        },
        "id": "zPvYcYwpqxzZ",
        "outputId": "529ce406-42a0-4550-c6e1-83b9c1fe2643"
      },
      "execution_count": 102,
      "outputs": [
        {
          "output_type": "execute_result",
          "data": {
            "text/plain": [
              "   mean_fit_time  std_fit_time  mean_score_time  std_score_time  \\\n",
              "0       0.003336      0.001136         0.087395        0.004868   \n",
              "1       0.002435      0.000025         0.066994        0.003063   \n",
              "2       0.002681      0.000179         0.084311        0.005978   \n",
              "3       0.002069      0.000138         0.067206        0.008623   \n",
              "4       0.002106      0.000146         0.075477        0.001664   \n",
              "5       0.001948      0.000056         0.061924        0.004096   \n",
              "6       0.001886      0.000081         0.136019        0.043418   \n",
              "7       0.007413      0.003457         0.176007        0.020355   \n",
              "8       0.003809      0.003131         0.226613        0.015385   \n",
              "9       0.004141      0.003509         0.132332        0.041191   \n",
              "\n",
              "   param_n_neighbors param_weights  \\\n",
              "0                  3       uniform   \n",
              "1                  3      distance   \n",
              "2                  5       uniform   \n",
              "3                  5      distance   \n",
              "4                  7       uniform   \n",
              "5                  7      distance   \n",
              "6                  9       uniform   \n",
              "7                  9      distance   \n",
              "8                 11       uniform   \n",
              "9                 11      distance   \n",
              "\n",
              "                                       params  split0_test_score  \\\n",
              "0    {'n_neighbors': 3, 'weights': 'uniform'}              0.680   \n",
              "1   {'n_neighbors': 3, 'weights': 'distance'}              0.684   \n",
              "2    {'n_neighbors': 5, 'weights': 'uniform'}              0.708   \n",
              "3   {'n_neighbors': 5, 'weights': 'distance'}              0.708   \n",
              "4    {'n_neighbors': 7, 'weights': 'uniform'}              0.660   \n",
              "5   {'n_neighbors': 7, 'weights': 'distance'}              0.660   \n",
              "6    {'n_neighbors': 9, 'weights': 'uniform'}              0.676   \n",
              "7   {'n_neighbors': 9, 'weights': 'distance'}              0.676   \n",
              "8   {'n_neighbors': 11, 'weights': 'uniform'}              0.724   \n",
              "9  {'n_neighbors': 11, 'weights': 'distance'}              0.724   \n",
              "\n",
              "   split1_test_score  split2_test_score  split3_test_score  mean_test_score  \\\n",
              "0              0.660              0.624              0.592            0.639   \n",
              "1              0.660              0.624              0.592            0.640   \n",
              "2              0.696              0.680              0.664            0.687   \n",
              "3              0.696              0.680              0.664            0.687   \n",
              "4              0.676              0.688              0.660            0.671   \n",
              "5              0.676              0.688              0.660            0.671   \n",
              "6              0.680              0.692              0.664            0.678   \n",
              "7              0.680              0.692              0.664            0.678   \n",
              "8              0.668              0.680              0.636            0.677   \n",
              "9              0.668              0.680              0.636            0.677   \n",
              "\n",
              "   std_test_score  rank_test_score  \n",
              "0        0.033749               10  \n",
              "1        0.034986                9  \n",
              "2        0.016583                1  \n",
              "3        0.016583                1  \n",
              "4        0.011790                7  \n",
              "5        0.011790                7  \n",
              "6        0.010000                3  \n",
              "7        0.010000                3  \n",
              "8        0.031544                5  \n",
              "9        0.031544                5  "
            ],
            "text/html": [
              "\n",
              "  <div id=\"df-87a8cad3-2a70-49e9-bef0-b0b6626ca4c4\" class=\"colab-df-container\">\n",
              "    <div>\n",
              "<style scoped>\n",
              "    .dataframe tbody tr th:only-of-type {\n",
              "        vertical-align: middle;\n",
              "    }\n",
              "\n",
              "    .dataframe tbody tr th {\n",
              "        vertical-align: top;\n",
              "    }\n",
              "\n",
              "    .dataframe thead th {\n",
              "        text-align: right;\n",
              "    }\n",
              "</style>\n",
              "<table border=\"1\" class=\"dataframe\">\n",
              "  <thead>\n",
              "    <tr style=\"text-align: right;\">\n",
              "      <th></th>\n",
              "      <th>mean_fit_time</th>\n",
              "      <th>std_fit_time</th>\n",
              "      <th>mean_score_time</th>\n",
              "      <th>std_score_time</th>\n",
              "      <th>param_n_neighbors</th>\n",
              "      <th>param_weights</th>\n",
              "      <th>params</th>\n",
              "      <th>split0_test_score</th>\n",
              "      <th>split1_test_score</th>\n",
              "      <th>split2_test_score</th>\n",
              "      <th>split3_test_score</th>\n",
              "      <th>mean_test_score</th>\n",
              "      <th>std_test_score</th>\n",
              "      <th>rank_test_score</th>\n",
              "    </tr>\n",
              "  </thead>\n",
              "  <tbody>\n",
              "    <tr>\n",
              "      <th>0</th>\n",
              "      <td>0.003336</td>\n",
              "      <td>0.001136</td>\n",
              "      <td>0.087395</td>\n",
              "      <td>0.004868</td>\n",
              "      <td>3</td>\n",
              "      <td>uniform</td>\n",
              "      <td>{'n_neighbors': 3, 'weights': 'uniform'}</td>\n",
              "      <td>0.680</td>\n",
              "      <td>0.660</td>\n",
              "      <td>0.624</td>\n",
              "      <td>0.592</td>\n",
              "      <td>0.639</td>\n",
              "      <td>0.033749</td>\n",
              "      <td>10</td>\n",
              "    </tr>\n",
              "    <tr>\n",
              "      <th>1</th>\n",
              "      <td>0.002435</td>\n",
              "      <td>0.000025</td>\n",
              "      <td>0.066994</td>\n",
              "      <td>0.003063</td>\n",
              "      <td>3</td>\n",
              "      <td>distance</td>\n",
              "      <td>{'n_neighbors': 3, 'weights': 'distance'}</td>\n",
              "      <td>0.684</td>\n",
              "      <td>0.660</td>\n",
              "      <td>0.624</td>\n",
              "      <td>0.592</td>\n",
              "      <td>0.640</td>\n",
              "      <td>0.034986</td>\n",
              "      <td>9</td>\n",
              "    </tr>\n",
              "    <tr>\n",
              "      <th>2</th>\n",
              "      <td>0.002681</td>\n",
              "      <td>0.000179</td>\n",
              "      <td>0.084311</td>\n",
              "      <td>0.005978</td>\n",
              "      <td>5</td>\n",
              "      <td>uniform</td>\n",
              "      <td>{'n_neighbors': 5, 'weights': 'uniform'}</td>\n",
              "      <td>0.708</td>\n",
              "      <td>0.696</td>\n",
              "      <td>0.680</td>\n",
              "      <td>0.664</td>\n",
              "      <td>0.687</td>\n",
              "      <td>0.016583</td>\n",
              "      <td>1</td>\n",
              "    </tr>\n",
              "    <tr>\n",
              "      <th>3</th>\n",
              "      <td>0.002069</td>\n",
              "      <td>0.000138</td>\n",
              "      <td>0.067206</td>\n",
              "      <td>0.008623</td>\n",
              "      <td>5</td>\n",
              "      <td>distance</td>\n",
              "      <td>{'n_neighbors': 5, 'weights': 'distance'}</td>\n",
              "      <td>0.708</td>\n",
              "      <td>0.696</td>\n",
              "      <td>0.680</td>\n",
              "      <td>0.664</td>\n",
              "      <td>0.687</td>\n",
              "      <td>0.016583</td>\n",
              "      <td>1</td>\n",
              "    </tr>\n",
              "    <tr>\n",
              "      <th>4</th>\n",
              "      <td>0.002106</td>\n",
              "      <td>0.000146</td>\n",
              "      <td>0.075477</td>\n",
              "      <td>0.001664</td>\n",
              "      <td>7</td>\n",
              "      <td>uniform</td>\n",
              "      <td>{'n_neighbors': 7, 'weights': 'uniform'}</td>\n",
              "      <td>0.660</td>\n",
              "      <td>0.676</td>\n",
              "      <td>0.688</td>\n",
              "      <td>0.660</td>\n",
              "      <td>0.671</td>\n",
              "      <td>0.011790</td>\n",
              "      <td>7</td>\n",
              "    </tr>\n",
              "    <tr>\n",
              "      <th>5</th>\n",
              "      <td>0.001948</td>\n",
              "      <td>0.000056</td>\n",
              "      <td>0.061924</td>\n",
              "      <td>0.004096</td>\n",
              "      <td>7</td>\n",
              "      <td>distance</td>\n",
              "      <td>{'n_neighbors': 7, 'weights': 'distance'}</td>\n",
              "      <td>0.660</td>\n",
              "      <td>0.676</td>\n",
              "      <td>0.688</td>\n",
              "      <td>0.660</td>\n",
              "      <td>0.671</td>\n",
              "      <td>0.011790</td>\n",
              "      <td>7</td>\n",
              "    </tr>\n",
              "    <tr>\n",
              "      <th>6</th>\n",
              "      <td>0.001886</td>\n",
              "      <td>0.000081</td>\n",
              "      <td>0.136019</td>\n",
              "      <td>0.043418</td>\n",
              "      <td>9</td>\n",
              "      <td>uniform</td>\n",
              "      <td>{'n_neighbors': 9, 'weights': 'uniform'}</td>\n",
              "      <td>0.676</td>\n",
              "      <td>0.680</td>\n",
              "      <td>0.692</td>\n",
              "      <td>0.664</td>\n",
              "      <td>0.678</td>\n",
              "      <td>0.010000</td>\n",
              "      <td>3</td>\n",
              "    </tr>\n",
              "    <tr>\n",
              "      <th>7</th>\n",
              "      <td>0.007413</td>\n",
              "      <td>0.003457</td>\n",
              "      <td>0.176007</td>\n",
              "      <td>0.020355</td>\n",
              "      <td>9</td>\n",
              "      <td>distance</td>\n",
              "      <td>{'n_neighbors': 9, 'weights': 'distance'}</td>\n",
              "      <td>0.676</td>\n",
              "      <td>0.680</td>\n",
              "      <td>0.692</td>\n",
              "      <td>0.664</td>\n",
              "      <td>0.678</td>\n",
              "      <td>0.010000</td>\n",
              "      <td>3</td>\n",
              "    </tr>\n",
              "    <tr>\n",
              "      <th>8</th>\n",
              "      <td>0.003809</td>\n",
              "      <td>0.003131</td>\n",
              "      <td>0.226613</td>\n",
              "      <td>0.015385</td>\n",
              "      <td>11</td>\n",
              "      <td>uniform</td>\n",
              "      <td>{'n_neighbors': 11, 'weights': 'uniform'}</td>\n",
              "      <td>0.724</td>\n",
              "      <td>0.668</td>\n",
              "      <td>0.680</td>\n",
              "      <td>0.636</td>\n",
              "      <td>0.677</td>\n",
              "      <td>0.031544</td>\n",
              "      <td>5</td>\n",
              "    </tr>\n",
              "    <tr>\n",
              "      <th>9</th>\n",
              "      <td>0.004141</td>\n",
              "      <td>0.003509</td>\n",
              "      <td>0.132332</td>\n",
              "      <td>0.041191</td>\n",
              "      <td>11</td>\n",
              "      <td>distance</td>\n",
              "      <td>{'n_neighbors': 11, 'weights': 'distance'}</td>\n",
              "      <td>0.724</td>\n",
              "      <td>0.668</td>\n",
              "      <td>0.680</td>\n",
              "      <td>0.636</td>\n",
              "      <td>0.677</td>\n",
              "      <td>0.031544</td>\n",
              "      <td>5</td>\n",
              "    </tr>\n",
              "  </tbody>\n",
              "</table>\n",
              "</div>\n",
              "    <div class=\"colab-df-buttons\">\n",
              "\n",
              "  <div class=\"colab-df-container\">\n",
              "    <button class=\"colab-df-convert\" onclick=\"convertToInteractive('df-87a8cad3-2a70-49e9-bef0-b0b6626ca4c4')\"\n",
              "            title=\"Convert this dataframe to an interactive table.\"\n",
              "            style=\"display:none;\">\n",
              "\n",
              "  <svg xmlns=\"http://www.w3.org/2000/svg\" height=\"24px\" viewBox=\"0 -960 960 960\">\n",
              "    <path d=\"M120-120v-720h720v720H120Zm60-500h600v-160H180v160Zm220 220h160v-160H400v160Zm0 220h160v-160H400v160ZM180-400h160v-160H180v160Zm440 0h160v-160H620v160ZM180-180h160v-160H180v160Zm440 0h160v-160H620v160Z\"/>\n",
              "  </svg>\n",
              "    </button>\n",
              "\n",
              "  <style>\n",
              "    .colab-df-container {\n",
              "      display:flex;\n",
              "      gap: 12px;\n",
              "    }\n",
              "\n",
              "    .colab-df-convert {\n",
              "      background-color: #E8F0FE;\n",
              "      border: none;\n",
              "      border-radius: 50%;\n",
              "      cursor: pointer;\n",
              "      display: none;\n",
              "      fill: #1967D2;\n",
              "      height: 32px;\n",
              "      padding: 0 0 0 0;\n",
              "      width: 32px;\n",
              "    }\n",
              "\n",
              "    .colab-df-convert:hover {\n",
              "      background-color: #E2EBFA;\n",
              "      box-shadow: 0px 1px 2px rgba(60, 64, 67, 0.3), 0px 1px 3px 1px rgba(60, 64, 67, 0.15);\n",
              "      fill: #174EA6;\n",
              "    }\n",
              "\n",
              "    .colab-df-buttons div {\n",
              "      margin-bottom: 4px;\n",
              "    }\n",
              "\n",
              "    [theme=dark] .colab-df-convert {\n",
              "      background-color: #3B4455;\n",
              "      fill: #D2E3FC;\n",
              "    }\n",
              "\n",
              "    [theme=dark] .colab-df-convert:hover {\n",
              "      background-color: #434B5C;\n",
              "      box-shadow: 0px 1px 3px 1px rgba(0, 0, 0, 0.15);\n",
              "      filter: drop-shadow(0px 1px 2px rgba(0, 0, 0, 0.3));\n",
              "      fill: #FFFFFF;\n",
              "    }\n",
              "  </style>\n",
              "\n",
              "    <script>\n",
              "      const buttonEl =\n",
              "        document.querySelector('#df-87a8cad3-2a70-49e9-bef0-b0b6626ca4c4 button.colab-df-convert');\n",
              "      buttonEl.style.display =\n",
              "        google.colab.kernel.accessAllowed ? 'block' : 'none';\n",
              "\n",
              "      async function convertToInteractive(key) {\n",
              "        const element = document.querySelector('#df-87a8cad3-2a70-49e9-bef0-b0b6626ca4c4');\n",
              "        const dataTable =\n",
              "          await google.colab.kernel.invokeFunction('convertToInteractive',\n",
              "                                                    [key], {});\n",
              "        if (!dataTable) return;\n",
              "\n",
              "        const docLinkHtml = 'Like what you see? Visit the ' +\n",
              "          '<a target=\"_blank\" href=https://colab.research.google.com/notebooks/data_table.ipynb>data table notebook</a>'\n",
              "          + ' to learn more about interactive tables.';\n",
              "        element.innerHTML = '';\n",
              "        dataTable['output_type'] = 'display_data';\n",
              "        await google.colab.output.renderOutput(dataTable, element);\n",
              "        const docLink = document.createElement('div');\n",
              "        docLink.innerHTML = docLinkHtml;\n",
              "        element.appendChild(docLink);\n",
              "      }\n",
              "    </script>\n",
              "  </div>\n",
              "\n",
              "\n",
              "    <div id=\"df-14601943-96fc-49e5-9987-fbdd94c0c4d5\">\n",
              "      <button class=\"colab-df-quickchart\" onclick=\"quickchart('df-14601943-96fc-49e5-9987-fbdd94c0c4d5')\"\n",
              "                title=\"Suggest charts\"\n",
              "                style=\"display:none;\">\n",
              "\n",
              "<svg xmlns=\"http://www.w3.org/2000/svg\" height=\"24px\"viewBox=\"0 0 24 24\"\n",
              "     width=\"24px\">\n",
              "    <g>\n",
              "        <path d=\"M19 3H5c-1.1 0-2 .9-2 2v14c0 1.1.9 2 2 2h14c1.1 0 2-.9 2-2V5c0-1.1-.9-2-2-2zM9 17H7v-7h2v7zm4 0h-2V7h2v10zm4 0h-2v-4h2v4z\"/>\n",
              "    </g>\n",
              "</svg>\n",
              "      </button>\n",
              "\n",
              "<style>\n",
              "  .colab-df-quickchart {\n",
              "      --bg-color: #E8F0FE;\n",
              "      --fill-color: #1967D2;\n",
              "      --hover-bg-color: #E2EBFA;\n",
              "      --hover-fill-color: #174EA6;\n",
              "      --disabled-fill-color: #AAA;\n",
              "      --disabled-bg-color: #DDD;\n",
              "  }\n",
              "\n",
              "  [theme=dark] .colab-df-quickchart {\n",
              "      --bg-color: #3B4455;\n",
              "      --fill-color: #D2E3FC;\n",
              "      --hover-bg-color: #434B5C;\n",
              "      --hover-fill-color: #FFFFFF;\n",
              "      --disabled-bg-color: #3B4455;\n",
              "      --disabled-fill-color: #666;\n",
              "  }\n",
              "\n",
              "  .colab-df-quickchart {\n",
              "    background-color: var(--bg-color);\n",
              "    border: none;\n",
              "    border-radius: 50%;\n",
              "    cursor: pointer;\n",
              "    display: none;\n",
              "    fill: var(--fill-color);\n",
              "    height: 32px;\n",
              "    padding: 0;\n",
              "    width: 32px;\n",
              "  }\n",
              "\n",
              "  .colab-df-quickchart:hover {\n",
              "    background-color: var(--hover-bg-color);\n",
              "    box-shadow: 0 1px 2px rgba(60, 64, 67, 0.3), 0 1px 3px 1px rgba(60, 64, 67, 0.15);\n",
              "    fill: var(--button-hover-fill-color);\n",
              "  }\n",
              "\n",
              "  .colab-df-quickchart-complete:disabled,\n",
              "  .colab-df-quickchart-complete:disabled:hover {\n",
              "    background-color: var(--disabled-bg-color);\n",
              "    fill: var(--disabled-fill-color);\n",
              "    box-shadow: none;\n",
              "  }\n",
              "\n",
              "  .colab-df-spinner {\n",
              "    border: 2px solid var(--fill-color);\n",
              "    border-color: transparent;\n",
              "    border-bottom-color: var(--fill-color);\n",
              "    animation:\n",
              "      spin 1s steps(1) infinite;\n",
              "  }\n",
              "\n",
              "  @keyframes spin {\n",
              "    0% {\n",
              "      border-color: transparent;\n",
              "      border-bottom-color: var(--fill-color);\n",
              "      border-left-color: var(--fill-color);\n",
              "    }\n",
              "    20% {\n",
              "      border-color: transparent;\n",
              "      border-left-color: var(--fill-color);\n",
              "      border-top-color: var(--fill-color);\n",
              "    }\n",
              "    30% {\n",
              "      border-color: transparent;\n",
              "      border-left-color: var(--fill-color);\n",
              "      border-top-color: var(--fill-color);\n",
              "      border-right-color: var(--fill-color);\n",
              "    }\n",
              "    40% {\n",
              "      border-color: transparent;\n",
              "      border-right-color: var(--fill-color);\n",
              "      border-top-color: var(--fill-color);\n",
              "    }\n",
              "    60% {\n",
              "      border-color: transparent;\n",
              "      border-right-color: var(--fill-color);\n",
              "    }\n",
              "    80% {\n",
              "      border-color: transparent;\n",
              "      border-right-color: var(--fill-color);\n",
              "      border-bottom-color: var(--fill-color);\n",
              "    }\n",
              "    90% {\n",
              "      border-color: transparent;\n",
              "      border-bottom-color: var(--fill-color);\n",
              "    }\n",
              "  }\n",
              "</style>\n",
              "\n",
              "      <script>\n",
              "        async function quickchart(key) {\n",
              "          const quickchartButtonEl =\n",
              "            document.querySelector('#' + key + ' button');\n",
              "          quickchartButtonEl.disabled = true;  // To prevent multiple clicks.\n",
              "          quickchartButtonEl.classList.add('colab-df-spinner');\n",
              "          try {\n",
              "            const charts = await google.colab.kernel.invokeFunction(\n",
              "                'suggestCharts', [key], {});\n",
              "          } catch (error) {\n",
              "            console.error('Error during call to suggestCharts:', error);\n",
              "          }\n",
              "          quickchartButtonEl.classList.remove('colab-df-spinner');\n",
              "          quickchartButtonEl.classList.add('colab-df-quickchart-complete');\n",
              "        }\n",
              "        (() => {\n",
              "          let quickchartButtonEl =\n",
              "            document.querySelector('#df-14601943-96fc-49e5-9987-fbdd94c0c4d5 button');\n",
              "          quickchartButtonEl.style.display =\n",
              "            google.colab.kernel.accessAllowed ? 'block' : 'none';\n",
              "        })();\n",
              "      </script>\n",
              "    </div>\n",
              "\n",
              "  <div id=\"id_684291bd-5956-4f8d-a7c2-ca45951646d9\">\n",
              "    <style>\n",
              "      .colab-df-generate {\n",
              "        background-color: #E8F0FE;\n",
              "        border: none;\n",
              "        border-radius: 50%;\n",
              "        cursor: pointer;\n",
              "        display: none;\n",
              "        fill: #1967D2;\n",
              "        height: 32px;\n",
              "        padding: 0 0 0 0;\n",
              "        width: 32px;\n",
              "      }\n",
              "\n",
              "      .colab-df-generate:hover {\n",
              "        background-color: #E2EBFA;\n",
              "        box-shadow: 0px 1px 2px rgba(60, 64, 67, 0.3), 0px 1px 3px 1px rgba(60, 64, 67, 0.15);\n",
              "        fill: #174EA6;\n",
              "      }\n",
              "\n",
              "      [theme=dark] .colab-df-generate {\n",
              "        background-color: #3B4455;\n",
              "        fill: #D2E3FC;\n",
              "      }\n",
              "\n",
              "      [theme=dark] .colab-df-generate:hover {\n",
              "        background-color: #434B5C;\n",
              "        box-shadow: 0px 1px 3px 1px rgba(0, 0, 0, 0.15);\n",
              "        filter: drop-shadow(0px 1px 2px rgba(0, 0, 0, 0.3));\n",
              "        fill: #FFFFFF;\n",
              "      }\n",
              "    </style>\n",
              "    <button class=\"colab-df-generate\" onclick=\"generateWithVariable('res')\"\n",
              "            title=\"Generate code using this dataframe.\"\n",
              "            style=\"display:none;\">\n",
              "\n",
              "  <svg xmlns=\"http://www.w3.org/2000/svg\" height=\"24px\"viewBox=\"0 0 24 24\"\n",
              "       width=\"24px\">\n",
              "    <path d=\"M7,19H8.4L18.45,9,17,7.55,7,17.6ZM5,21V16.75L18.45,3.32a2,2,0,0,1,2.83,0l1.4,1.43a1.91,1.91,0,0,1,.58,1.4,1.91,1.91,0,0,1-.58,1.4L9.25,21ZM18.45,9,17,7.55Zm-12,3A5.31,5.31,0,0,0,4.9,8.1,5.31,5.31,0,0,0,1,6.5,5.31,5.31,0,0,0,4.9,4.9,5.31,5.31,0,0,0,6.5,1,5.31,5.31,0,0,0,8.1,4.9,5.31,5.31,0,0,0,12,6.5,5.46,5.46,0,0,0,6.5,12Z\"/>\n",
              "  </svg>\n",
              "    </button>\n",
              "    <script>\n",
              "      (() => {\n",
              "      const buttonEl =\n",
              "        document.querySelector('#id_684291bd-5956-4f8d-a7c2-ca45951646d9 button.colab-df-generate');\n",
              "      buttonEl.style.display =\n",
              "        google.colab.kernel.accessAllowed ? 'block' : 'none';\n",
              "\n",
              "      buttonEl.onclick = () => {\n",
              "        google.colab.notebook.generateWithVariable('res');\n",
              "      }\n",
              "      })();\n",
              "    </script>\n",
              "  </div>\n",
              "\n",
              "    </div>\n",
              "  </div>\n"
            ],
            "application/vnd.google.colaboratory.intrinsic+json": {
              "type": "dataframe",
              "variable_name": "res",
              "summary": "{\n  \"name\": \"res\",\n  \"rows\": 10,\n  \"fields\": [\n    {\n      \"column\": \"mean_fit_time\",\n      \"properties\": {\n        \"dtype\": \"number\",\n        \"std\": 0.0016881480931784003,\n        \"min\": 0.0018855929374694824,\n        \"max\": 0.007413208484649658,\n        \"num_unique_values\": 10,\n        \"samples\": [\n          0.0038093924522399902,\n          0.002435445785522461,\n          0.0019477009773254395\n        ],\n        \"semantic_type\": \"\",\n        \"description\": \"\"\n      }\n    },\n    {\n      \"column\": \"std_fit_time\",\n      \"properties\": {\n        \"dtype\": \"number\",\n        \"std\": 0.0015411807923800937,\n        \"min\": 2.490247534005375e-05,\n        \"max\": 0.0035090507117553496,\n        \"num_unique_values\": 10,\n        \"samples\": [\n          0.0031309395980846605,\n          2.490247534005375e-05,\n          5.567325891632638e-05\n        ],\n        \"semantic_type\": \"\",\n        \"description\": \"\"\n      }\n    },\n    {\n      \"column\": \"mean_score_time\",\n      \"properties\": {\n        \"dtype\": \"number\",\n        \"std\": 0.0552424530838498,\n        \"min\": 0.06192421913146973,\n        \"max\": 0.2266126275062561,\n        \"num_unique_values\": 10,\n        \"samples\": [\n          0.2266126275062561,\n          0.06699353456497192,\n          0.06192421913146973\n        ],\n        \"semantic_type\": \"\",\n        \"description\": \"\"\n      }\n    },\n    {\n      \"column\": \"std_score_time\",\n      \"properties\": {\n        \"dtype\": \"number\",\n        \"std\": 0.015585394669740935,\n        \"min\": 0.001663718230241077,\n        \"max\": 0.04341812021331889,\n        \"num_unique_values\": 10,\n        \"samples\": [\n          0.0153845054018488,\n          0.0030626237495145563,\n          0.004095575986105082\n        ],\n        \"semantic_type\": \"\",\n        \"description\": \"\"\n      }\n    },\n    {\n      \"column\": \"param_n_neighbors\",\n      \"properties\": {\n        \"dtype\": \"number\",\n        \"std\": 2,\n        \"min\": 3,\n        \"max\": 11,\n        \"num_unique_values\": 5,\n        \"samples\": [\n          5,\n          11,\n          7\n        ],\n        \"semantic_type\": \"\",\n        \"description\": \"\"\n      }\n    },\n    {\n      \"column\": \"param_weights\",\n      \"properties\": {\n        \"dtype\": \"category\",\n        \"num_unique_values\": 2,\n        \"samples\": [\n          \"distance\",\n          \"uniform\"\n        ],\n        \"semantic_type\": \"\",\n        \"description\": \"\"\n      }\n    },\n    {\n      \"column\": \"params\",\n      \"properties\": {\n        \"dtype\": \"object\",\n        \"semantic_type\": \"\",\n        \"description\": \"\"\n      }\n    },\n    {\n      \"column\": \"split0_test_score\",\n      \"properties\": {\n        \"dtype\": \"number\",\n        \"std\": 0.02423954528359709,\n        \"min\": 0.66,\n        \"max\": 0.724,\n        \"num_unique_values\": 6,\n        \"samples\": [\n          0.68,\n          0.684\n        ],\n        \"semantic_type\": \"\",\n        \"description\": \"\"\n      }\n    },\n    {\n      \"column\": \"split1_test_score\",\n      \"properties\": {\n        \"dtype\": \"number\",\n        \"std\": 0.012788884062167223,\n        \"min\": 0.66,\n        \"max\": 0.696,\n        \"num_unique_values\": 5,\n        \"samples\": [\n          0.696,\n          0.668\n        ],\n        \"semantic_type\": \"\",\n        \"description\": \"\"\n      }\n    },\n    {\n      \"column\": \"split2_test_score\",\n      \"properties\": {\n        \"dtype\": \"number\",\n        \"std\": 0.026182267111751627,\n        \"min\": 0.624,\n        \"max\": 0.692,\n        \"num_unique_values\": 4,\n        \"samples\": [\n          0.68,\n          0.692\n        ],\n        \"semantic_type\": \"\",\n        \"description\": \"\"\n      }\n    },\n    {\n      \"column\": \"split3_test_score\",\n      \"properties\": {\n        \"dtype\": \"number\",\n        \"std\": 0.02913874854324853,\n        \"min\": 0.592,\n        \"max\": 0.664,\n        \"num_unique_values\": 4,\n        \"samples\": [\n          0.664,\n          0.636\n        ],\n        \"semantic_type\": \"\",\n        \"description\": \"\"\n      }\n    },\n    {\n      \"column\": \"mean_test_score\",\n      \"properties\": {\n        \"dtype\": \"number\",\n        \"std\": 0.017206265008872672,\n        \"min\": 0.639,\n        \"max\": 0.687,\n        \"num_unique_values\": 6,\n        \"samples\": [\n          0.639,\n          0.64\n        ],\n        \"semantic_type\": \"\",\n        \"description\": \"\"\n      }\n    },\n    {\n      \"column\": \"std_test_score\",\n      \"properties\": {\n        \"dtype\": \"number\",\n        \"std\": 0.010702761806826557,\n        \"min\": 0.009999999999999969,\n        \"max\": 0.03498571136907183,\n        \"num_unique_values\": 6,\n        \"samples\": [\n          0.03374907406137244,\n          0.03498571136907183\n        ],\n        \"semantic_type\": \"\",\n        \"description\": \"\"\n      }\n    },\n    {\n      \"column\": \"rank_test_score\",\n      \"properties\": {\n        \"dtype\": \"int32\",\n        \"num_unique_values\": 6,\n        \"samples\": [\n          10,\n          9\n        ],\n        \"semantic_type\": \"\",\n        \"description\": \"\"\n      }\n    }\n  ]\n}"
            }
          },
          "metadata": {},
          "execution_count": 102
        }
      ]
    },
    {
      "cell_type": "code",
      "source": [
        "gs.best_params_"
      ],
      "metadata": {
        "colab": {
          "base_uri": "https://localhost:8080/"
        },
        "id": "fAzLDQ0TqxxD",
        "outputId": "0f6b9242-6056-4a29-9269-2ef6ca54ddea"
      },
      "execution_count": 103,
      "outputs": [
        {
          "output_type": "execute_result",
          "data": {
            "text/plain": [
              "{'n_neighbors': 5, 'weights': 'uniform'}"
            ]
          },
          "metadata": {},
          "execution_count": 103
        }
      ]
    },
    {
      "cell_type": "code",
      "source": [
        "pr_te = gs.best_estimator_.predict(x_te) # knn2 = KNeighborsClassifier(**gs.best_params).fit(x_tr, y_tr).predict(x_te) （ベストのパラメータを使って学習したモデル）と同じ"
      ],
      "metadata": {
        "id": "VsVcNFlxqxum"
      },
      "execution_count": 104,
      "outputs": []
    },
    {
      "cell_type": "code",
      "source": [
        "print(confusion_matrix(y_te, pr_te))\n",
        "print(classification_report(y_te, pr_te))"
      ],
      "metadata": {
        "colab": {
          "base_uri": "https://localhost:8080/"
        },
        "id": "ehOpOq_9qxsL",
        "outputId": "c7086830-89c8-4413-989c-401950beb008"
      },
      "execution_count": 105,
      "outputs": [
        {
          "output_type": "stream",
          "name": "stdout",
          "text": [
            "[[73 27]\n",
            " [37 63]]\n",
            "              precision    recall  f1-score   support\n",
            "\n",
            "           0       0.66      0.73      0.70       100\n",
            "           1       0.70      0.63      0.66       100\n",
            "\n",
            "    accuracy                           0.68       200\n",
            "   macro avg       0.68      0.68      0.68       200\n",
            "weighted avg       0.68      0.68      0.68       200\n",
            "\n"
          ]
        }
      ]
    },
    {
      "cell_type": "markdown",
      "source": [
        "- ベストが n_neighbors=5 で、uniform、distanceのいずれも平均検証精度 0.687（rank=1）\n",
        "\n",
        "- 次に良いのは n_neighbors=9 で精度 0.678（rank=3）\n",
        "\n",
        "- さらに n_neighbors=11 の uniform が 0.677（rank=5）となっており、出力結果が合致"
      ],
      "metadata": {
        "id": "YsRsmhPpOATx"
      }
    }
  ],
  "metadata": {
    "celltoolbar": "Slideshow",
    "kernelspec": {
      "display_name": "Python 3 (ipykernel)",
      "language": "python",
      "name": "python3"
    },
    "language_info": {
      "codemirror_mode": {
        "name": "ipython",
        "version": 3
      },
      "file_extension": ".py",
      "mimetype": "text/x-python",
      "name": "python",
      "nbconvert_exporter": "python",
      "pygments_lexer": "ipython3",
      "version": "3.10.7"
    },
    "colab": {
      "provenance": [],
      "toc_visible": true,
      "include_colab_link": true
    }
  },
  "nbformat": 4,
  "nbformat_minor": 0
}