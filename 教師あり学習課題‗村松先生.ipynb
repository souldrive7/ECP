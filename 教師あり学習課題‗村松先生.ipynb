{
  "cells": [
    {
      "cell_type": "markdown",
      "metadata": {
        "id": "view-in-github",
        "colab_type": "text"
      },
      "source": [
        "<a href=\"https://colab.research.google.com/github/souldrive7/ECP/blob/main/%E6%95%99%E5%B8%AB%E3%81%82%E3%82%8A%E5%AD%A6%E7%BF%92%E8%AA%B2%E9%A1%8C%E2%80%97%E6%9D%91%E6%9D%BE%E5%85%88%E7%94%9F.ipynb\" target=\"_parent\"><img src=\"https://colab.research.google.com/assets/colab-badge.svg\" alt=\"Open In Colab\"/></a>"
      ]
    },
    {
      "cell_type": "markdown",
      "source": [
        "# 教師あり学習 課題（村松先生）"
      ],
      "metadata": {
        "id": "diPhWIPJdlBm"
      }
    },
    {
      "cell_type": "markdown",
      "source": [
        "### 氏名：後藤 晃郁\n",
        "\n",
        "### 学籍番号：6025131\n",
        "\n",
        "### 提出日：2025/5/13"
      ],
      "metadata": {
        "id": "AeOUmXzxapxI"
      }
    },
    {
      "cell_type": "markdown",
      "source": [
        "# 課題"
      ],
      "metadata": {
        "id": "WzYR-1Smd3Gu"
      }
    },
    {
      "cell_type": "markdown",
      "source": [
        "---\n",
        "\n",
        "- 学習データ数，クラス数，特徴量数のいずれかを変化させたときのkNNの精度を比較する\n",
        "\n",
        "- それぞれでkの値はcvを用いて最適化すること\n",
        "\n",
        "- 結果は可視化して簡単な考察を加えること\n",
        "\n",
        "- 提出物：jupyternotebook，pyファイル等，結果はnotebook上に示してもtext，pdf等で提出しても良い\n",
        "\n",
        "---"
      ],
      "metadata": {
        "id": "5WMgIa3SlaIo"
      }
    },
    {
      "cell_type": "markdown",
      "source": [
        "# 学習データ数，クラス数，特徴量数のいずれかを変化させたときのkNNの精度を比較する"
      ],
      "metadata": {
        "id": "wEMQWqqveWTu"
      }
    },
    {
      "cell_type": "markdown",
      "source": [
        "## ■内点法と単体法の比較■\n",
        "\n",
        "### 内点法とは：\n",
        "内点法（Interior Point Method, IPM）は、線形計画問題において、可行領域の内部から滑らかに最適解へ向かうアルゴリズムである。\n",
        "\n",
        "### 課題の目的\n",
        "- 線形計画問題に対する内点法と単体法の計算原理・計算量の違いを比較・理解する\n",
        "- Pythonライブラリ（SciPy）を用いて両手法を実装し、目的値と計算時間を実測比較す\n",
        "---\n",
        "\n",
        "## ■手法（内点法と単体法）■\n",
        "\n",
        "#### ♦内点法（IPM）:\n",
        "- 可行解空間の内部から出発し、目的関数を改善しながら最適点に向かって滑らかに収束する\n",
        "\n",
        "#### ♦単体法（Simplex Method）:\n",
        "- 可行領域の「頂点（基本解）」に沿って、目的関数の改善方向に従い隣接する頂点間をピボット操作で移動\n",
        "\n",
        "---\n",
        "\n",
        "### ■具体例・モデル化■\n",
        "以下の線形計画問題を例に、内点法・単体法を適用し、結果と計算時間を比較する。\n",
        "\n",
        "#### 問題設定\n",
        "\\begin{aligned}\n",
        "\\text{maximize} \\quad & 3x_1 + 2x_2 \\\\\n",
        "\\text{subject to} \\quad\n",
        "& x_1 + x_2 \\leq 4 \\\\\n",
        "& 2x_1 + x_2 \\leq 5 \\\\\n",
        "& x_1,\\, x_2 \\geq 0\n",
        "\\end{aligned}\n",
        "\n",
        "この問題を SciPy の linprog 関数を用いて解く：\n",
        "\n",
        "また、上記に加え、変数数・制約数を拡張した以下の問題についても同様に解析を行い、目的関数値、収束性、計算時間、理論計算量の特性を整理する。\n",
        "\n",
        "| 問題規模 | 変数数（n） | 制約数（m） |\n",
        "|----------|-------------|-------------|\n",
        "| 小規模   | 10          | 5           |\n",
        "| 中規模   | 100         | 50          |\n",
        "| 大規模   | 500         | 250         |\n",
        "\n",
        "---\n",
        "\n",
        "#### ■実装■\n",
        "Python（SciPy）を用い、次の3種類の問題サイズで内点法と単体法を比較する。\n",
        "\n",
        "この結果を基に、問題規模に応じた手法選択の実用的指針を明らかにする。"
      ],
      "metadata": {
        "id": "gXv4dykdd84d"
      }
    },
    {
      "cell_type": "code",
      "source": [
        "import time\n",
        "import numpy as np\n",
        "import pandas as pd\n",
        "from scipy.optimize import linprog\n",
        "from IPython.display import display\n",
        "import matplotlib.pyplot as plt\n",
        "\n",
        "# 警告を非表示\n",
        "import warnings\n",
        "warnings.filterwarnings(\"ignore\", category=DeprecationWarning)\n",
        "\n",
        "# 問題規模設定\n",
        "problem_sizes = [\n",
        "    {\"label\": \"小規模\", \"n\": 10, \"m\": 5},\n",
        "    {\"label\": \"中規模\", \"n\": 100, \"m\": 50},\n",
        "    {\"label\": \"大規模\", \"n\": 500, \"m\": 250}\n",
        "]\n",
        "\n",
        "def theoretical_complexity_ipm(n):\n",
        "    return f\"O({n}^3)\"\n",
        "\n",
        "def theoretical_complexity_simplex(n):\n",
        "    return f\"O(2^{n})\"\n",
        "\n",
        "results = []\n",
        "\n",
        "for setting in problem_sizes:\n",
        "    n, m, label = setting[\"n\"], setting[\"m\"], setting[\"label\"]\n",
        "\n",
        "    # ランダムなLP問題の生成（係数は一様乱数）\n",
        "    np.random.seed(42)\n",
        "    c = -np.random.uniform(1, 10, size=n)  # maximize → minimize\n",
        "    A = np.random.uniform(1, 10, size=(m, n))\n",
        "    b = np.random.uniform(10, 100, size=m)\n",
        "    bounds = [(0, None)] * n\n",
        "\n",
        "    # 内点法\n",
        "    start_ip = time.time()\n",
        "    res_ip = linprog(c, A_ub=A, b_ub=b, bounds=bounds, method='interior-point')\n",
        "    end_ip = time.time()\n",
        "\n",
        "    # 単体法\n",
        "    start_sm = time.time()\n",
        "    res_sm = linprog(c, A_ub=A, b_ub=b, bounds=bounds, method='simplex')\n",
        "    end_sm = time.time()\n",
        "\n",
        "    results.append({\n",
        "        \"問題規模\": label,\n",
        "        \"変数数\": n,\n",
        "        \"制約数\": m,\n",
        "        \"内点法_目的値\": -res_ip.fun if res_ip.success else None,\n",
        "        \"内点法_時間[s]\": end_ip - start_ip,\n",
        "        \"単体法_目的値\": -res_sm.fun if res_sm.success else None,\n",
        "        \"単体法_時間[s]\": end_sm - start_sm,\n",
        "        \"内点法_理論計算量\": theoretical_complexity_ipm(n),\n",
        "        \"単体法_理論計算量\": theoretical_complexity_simplex(n)\n",
        "    })\n",
        "\n",
        "# データフレーム化して表示\n",
        "df_result_final = pd.DataFrame(results)\n",
        "styled_df_final = df_result_final.style.format({\n",
        "    \"内点法_目的値\": \"{:.5f}\",\n",
        "    \"単体法_目的値\": \"{:.5f}\",\n",
        "    \"内点法_時間[s]\": \"{:.6f}\",\n",
        "    \"単体法_時間[s]\": \"{:.6f}\"\n",
        "}).set_properties(**{'text-align': 'center'}).set_table_styles(\n",
        "    [{'selector': 'th', 'props': [('text-align', 'center')]}]\n",
        ")\n",
        "\n",
        "display(styled_df_final)\n",
        "\n",
        "# PDF保存\n",
        "plt.savefig(\"network_chart.pdf\", format='pdf', bbox_inches='tight')\n",
        "plt.show()\n"
      ],
      "metadata": {
        "colab": {
          "base_uri": "https://localhost:8080/",
          "height": 162
        },
        "id": "h5PK30LsGNVD",
        "outputId": "a8483af5-e3fd-4a40-eb99-db05232fd4ea"
      },
      "execution_count": null,
      "outputs": [
        {
          "output_type": "display_data",
          "data": {
            "text/plain": [
              "<pandas.io.formats.style.Styler at 0x7a3031650590>"
            ],
            "text/html": [
              "<style type=\"text/css\">\n",
              "#T_a9bf3 th {\n",
              "  text-align: center;\n",
              "}\n",
              "#T_a9bf3_row0_col0, #T_a9bf3_row0_col1, #T_a9bf3_row0_col2, #T_a9bf3_row0_col3, #T_a9bf3_row0_col4, #T_a9bf3_row0_col5, #T_a9bf3_row0_col6, #T_a9bf3_row0_col7, #T_a9bf3_row0_col8, #T_a9bf3_row1_col0, #T_a9bf3_row1_col1, #T_a9bf3_row1_col2, #T_a9bf3_row1_col3, #T_a9bf3_row1_col4, #T_a9bf3_row1_col5, #T_a9bf3_row1_col6, #T_a9bf3_row1_col7, #T_a9bf3_row1_col8, #T_a9bf3_row2_col0, #T_a9bf3_row2_col1, #T_a9bf3_row2_col2, #T_a9bf3_row2_col3, #T_a9bf3_row2_col4, #T_a9bf3_row2_col5, #T_a9bf3_row2_col6, #T_a9bf3_row2_col7, #T_a9bf3_row2_col8 {\n",
              "  text-align: center;\n",
              "}\n",
              "</style>\n",
              "<table id=\"T_a9bf3\" class=\"dataframe\">\n",
              "  <thead>\n",
              "    <tr>\n",
              "      <th class=\"blank level0\" >&nbsp;</th>\n",
              "      <th id=\"T_a9bf3_level0_col0\" class=\"col_heading level0 col0\" >問題規模</th>\n",
              "      <th id=\"T_a9bf3_level0_col1\" class=\"col_heading level0 col1\" >変数数</th>\n",
              "      <th id=\"T_a9bf3_level0_col2\" class=\"col_heading level0 col2\" >制約数</th>\n",
              "      <th id=\"T_a9bf3_level0_col3\" class=\"col_heading level0 col3\" >内点法_目的値</th>\n",
              "      <th id=\"T_a9bf3_level0_col4\" class=\"col_heading level0 col4\" >内点法_時間[s]</th>\n",
              "      <th id=\"T_a9bf3_level0_col5\" class=\"col_heading level0 col5\" >単体法_目的値</th>\n",
              "      <th id=\"T_a9bf3_level0_col6\" class=\"col_heading level0 col6\" >単体法_時間[s]</th>\n",
              "      <th id=\"T_a9bf3_level0_col7\" class=\"col_heading level0 col7\" >内点法_理論計算量</th>\n",
              "      <th id=\"T_a9bf3_level0_col8\" class=\"col_heading level0 col8\" >単体法_理論計算量</th>\n",
              "    </tr>\n",
              "  </thead>\n",
              "  <tbody>\n",
              "    <tr>\n",
              "      <th id=\"T_a9bf3_level0_row0\" class=\"row_heading level0 row0\" >0</th>\n",
              "      <td id=\"T_a9bf3_row0_col0\" class=\"data row0 col0\" >小規模</td>\n",
              "      <td id=\"T_a9bf3_row0_col1\" class=\"data row0 col1\" >10</td>\n",
              "      <td id=\"T_a9bf3_row0_col2\" class=\"data row0 col2\" >5</td>\n",
              "      <td id=\"T_a9bf3_row0_col3\" class=\"data row0 col3\" >80.37928</td>\n",
              "      <td id=\"T_a9bf3_row0_col4\" class=\"data row0 col4\" >0.006980</td>\n",
              "      <td id=\"T_a9bf3_row0_col5\" class=\"data row0 col5\" >80.37928</td>\n",
              "      <td id=\"T_a9bf3_row0_col6\" class=\"data row0 col6\" >0.004229</td>\n",
              "      <td id=\"T_a9bf3_row0_col7\" class=\"data row0 col7\" >O(10^3)</td>\n",
              "      <td id=\"T_a9bf3_row0_col8\" class=\"data row0 col8\" >O(2^10)</td>\n",
              "    </tr>\n",
              "    <tr>\n",
              "      <th id=\"T_a9bf3_level0_row1\" class=\"row_heading level0 row1\" >1</th>\n",
              "      <td id=\"T_a9bf3_row1_col0\" class=\"data row1 col0\" >中規模</td>\n",
              "      <td id=\"T_a9bf3_row1_col1\" class=\"data row1 col1\" >100</td>\n",
              "      <td id=\"T_a9bf3_row1_col2\" class=\"data row1 col2\" >50</td>\n",
              "      <td id=\"T_a9bf3_row1_col3\" class=\"data row1 col3\" >38.40966</td>\n",
              "      <td id=\"T_a9bf3_row1_col4\" class=\"data row1 col4\" >0.007073</td>\n",
              "      <td id=\"T_a9bf3_row1_col5\" class=\"data row1 col5\" >38.40966</td>\n",
              "      <td id=\"T_a9bf3_row1_col6\" class=\"data row1 col6\" >0.072500</td>\n",
              "      <td id=\"T_a9bf3_row1_col7\" class=\"data row1 col7\" >O(100^3)</td>\n",
              "      <td id=\"T_a9bf3_row1_col8\" class=\"data row1 col8\" >O(2^100)</td>\n",
              "    </tr>\n",
              "    <tr>\n",
              "      <th id=\"T_a9bf3_level0_row2\" class=\"row_heading level0 row2\" >2</th>\n",
              "      <td id=\"T_a9bf3_row2_col0\" class=\"data row2 col0\" >大規模</td>\n",
              "      <td id=\"T_a9bf3_row2_col1\" class=\"data row2 col1\" >500</td>\n",
              "      <td id=\"T_a9bf3_row2_col2\" class=\"data row2 col2\" >250</td>\n",
              "      <td id=\"T_a9bf3_row2_col3\" class=\"data row2 col3\" >25.93651</td>\n",
              "      <td id=\"T_a9bf3_row2_col4\" class=\"data row2 col4\" >0.528787</td>\n",
              "      <td id=\"T_a9bf3_row2_col5\" class=\"data row2 col5\" >25.93651</td>\n",
              "      <td id=\"T_a9bf3_row2_col6\" class=\"data row2 col6\" >1.562029</td>\n",
              "      <td id=\"T_a9bf3_row2_col7\" class=\"data row2 col7\" >O(500^3)</td>\n",
              "      <td id=\"T_a9bf3_row2_col8\" class=\"data row2 col8\" >O(2^500)</td>\n",
              "    </tr>\n",
              "  </tbody>\n",
              "</table>\n"
            ]
          },
          "metadata": {}
        },
        {
          "output_type": "display_data",
          "data": {
            "text/plain": [
              "<Figure size 640x480 with 0 Axes>"
            ]
          },
          "metadata": {}
        }
      ]
    },
    {
      "cell_type": "markdown",
      "source": [
        "---\n",
        "## ■可視化■"
      ],
      "metadata": {
        "id": "KvI0MKKoEJa5"
      }
    },
    {
      "cell_type": "code",
      "source": [
        "import matplotlib.pyplot as plt\n",
        "import numpy as np\n",
        "\n",
        "plt.rcParams['font.family'] = 'DejaVu Sans'\n",
        "\n",
        "# 可視化用データ作成（df_result_final から）\n",
        "df_time = df_result_final[[\n",
        "    \"問題規模\",\n",
        "    \"内点法_時間[s]\",\n",
        "    \"単体法_時間[s]\"\n",
        "]].copy()\n",
        "\n",
        "df_time.columns = [\"Problem Size\", \"Interior Point Time (s)\", \"Simplex Time (s)\"]\n",
        "\n",
        "# ヒストグラム描画\n",
        "labels = df_time[\"Problem Size\"]\n",
        "ipm_times = df_time[\"Interior Point Time (s)\"]\n",
        "simplex_times = df_time[\"Simplex Time (s)\"]\n",
        "\n",
        "x = np.arange(len(labels))\n",
        "bar_width = 0.35\n",
        "\n",
        "fig, ax = plt.subplots(figsize=(10, 5))\n",
        "ax.bar(x - bar_width/2, ipm_times, bar_width, label='Interior Point Method', color='steelblue')\n",
        "ax.bar(x + bar_width/2, simplex_times, bar_width, label='Simplex Method', color='darkorange')\n",
        "\n",
        "ax.set_xlabel('Problem Size')\n",
        "ax.set_ylabel('Computation Time (seconds)')\n",
        "ax.set_title('Computation Time Comparison: Interior Point vs Simplex')\n",
        "ax.set_xticks(x)\n",
        "ax.set_xticklabels(['Small', 'Medium', 'Large'])\n",
        "ax.legend()\n",
        "ax.grid(True, axis='y', linestyle='--', alpha=0.7)\n",
        "\n",
        "plt.tight_layout()\n",
        "plt.show()\n",
        "\n",
        "# PDF保存\n",
        "plt.savefig(\"network_chart.pdf\", format='pdf', bbox_inches='tight')\n",
        "plt.show()"
      ],
      "metadata": {
        "colab": {
          "base_uri": "https://localhost:8080/",
          "height": 525
        },
        "id": "ZIuTRsHnQH3i",
        "outputId": "afd7a547-5ca6-4bde-8f61-22bb8ba77ef8"
      },
      "execution_count": null,
      "outputs": [
        {
          "output_type": "display_data",
          "data": {
            "text/plain": [
              "<Figure size 1000x500 with 1 Axes>"
            ],
            "image/png": "[encoded data removed]"
          },
          "metadata": {}
        },
        {
          "output_type": "display_data",
          "data": {
            "text/plain": [
              "<Figure size 640x480 with 0 Axes>"
            ]
          },
          "metadata": {}
        }
      ]
    },
    {
      "cell_type": "code",
      "source": [
        "import numpy as np\n",
        "import matplotlib.pyplot as plt\n",
        "from sklearn.neighbors import KNeighborsClassifier\n",
        "from sklearn.decomposition import PCA\n",
        "from sklearn.model_selection import StratifiedKFold, GridSearchCV\n",
        "from sklearn.metrics import accuracy_score, confusion_matrix, classification_report\n",
        "import tensorflow as tf\n",
        "from tensorflow import keras\n"
      ],
      "metadata": {
        "id": "V79pdMP6Oo-0"
      },
      "execution_count": null,
      "outputs": []
    },
    {
      "cell_type": "code",
      "source": [
        "# CIFAR-10 をロード\n",
        "(x_train, y_train), (x_test, y_test) = keras.datasets.cifar10.load_data()\n",
        "print(\"原画像数:\", x_train.shape, x_test.shape)\n",
        "\n",
        "# ここではクラス 1 ('automobile') と 9 ('truck') のみ抽出\n",
        "cl1, cl2 = 1, 9\n",
        "idx_tr1 = np.where(y_train.flatten() == cl1)[0]\n",
        "idx_tr2 = np.where(y_train.flatten() == cl2)[0]\n",
        "idx_te1 = np.where(y_test.flatten()  == cl1)[0]\n",
        "idx_te2 = np.where(y_test.flatten()  == cl2)[0]\n",
        "\n",
        "x_train1 = x_train[idx_tr1]\n",
        "x_train2 = x_train[idx_tr2]\n",
        "x_test1  = x_test[idx_te1]\n",
        "x_test2  = x_test[idx_te2]\n",
        "\n",
        "print(\"Training shapes:\", x_train1.shape, x_train2.shape)\n",
        "print(\"Test shapes:    \", x_test1.shape,  x_test2.shape)\n"
      ],
      "metadata": {
        "id": "0-me127gOpGc",
        "outputId": "aa8bebbd-07ae-49df-8ba1-d1a2fc26db2a",
        "colab": {
          "base_uri": "https://localhost:8080/"
        }
      },
      "execution_count": null,
      "outputs": [
        {
          "output_type": "stream",
          "name": "stdout",
          "text": [
            "Downloading data from https://www.cs.toronto.edu/~kriz/cifar-10-python.tar.gz\n",
            "\u001b[1m170498071/170498071\u001b[0m \u001b[32m━━━━━━━━━━━━━━━━━━━━\u001b[0m\u001b[37m\u001b[0m \u001b[1m3s\u001b[0m 0us/step\n",
            "原画像数: (50000, 32, 32, 3) (10000, 32, 32, 3)\n",
            "Training shapes: (5000, 32, 32, 3) (5000, 32, 32, 3)\n",
            "Test shapes:     (1000, 32, 32, 3) (1000, 32, 32, 3)\n"
          ]
        }
      ]
    },
    {
      "cell_type": "code",
      "source": [
        "# 各クラスから指定数だけサンプリング\n",
        "n_train_per_class = 500\n",
        "n_test_per_class  = 100\n",
        "\n",
        "x_tr = np.vstack([x_train1[:n_train_per_class], x_train2[:n_train_per_class]])\n",
        "y_tr = np.hstack([np.zeros(n_train_per_class), np.ones(n_train_per_class)])\n",
        "\n",
        "x_te = np.vstack([x_test1[:n_test_per_class],  x_test2[:n_test_per_class]])\n",
        "y_te = np.hstack([np.zeros(n_test_per_class),  np.ones(n_test_per_class)])\n",
        "\n",
        "print(\"学習データ:\", x_tr.shape, y_tr.shape)\n",
        "print(\"テストデータ:\", x_te.shape, y_te.shape)"
      ],
      "metadata": {
        "id": "DrqxXsERO-wW",
        "outputId": "b51aa434-360c-4107-8ca7-3a04937f5ba3",
        "colab": {
          "base_uri": "https://localhost:8080/"
        }
      },
      "execution_count": null,
      "outputs": [
        {
          "output_type": "stream",
          "name": "stdout",
          "text": [
            "学習データ: (1000, 32, 32, 3) (1000,)\n",
            "テストデータ: (200, 32, 32, 3) (200,)\n"
          ]
        }
      ]
    },
    {
      "cell_type": "code",
      "source": [
        "# (サンプル数, 32,32,3) → (サンプル数, 3072)\n",
        "x_tr_flat = x_tr.reshape(len(x_tr), -1)\n",
        "x_te_flat = x_te.reshape(len(x_te), -1)\n",
        "print(\"Flattened:\", x_tr_flat.shape, x_te_flat.shape)"
      ],
      "metadata": {
        "id": "JFxi3MtjO1xt",
        "outputId": "9bd4f896-601f-4ecc-e106-d7dbff56db16",
        "colab": {
          "base_uri": "https://localhost:8080/"
        }
      },
      "execution_count": null,
      "outputs": [
        {
          "output_type": "stream",
          "name": "stdout",
          "text": [
            "Flattened: (1000, 3072) (200, 3072)\n"
          ]
        }
      ]
    },
    {
      "cell_type": "code",
      "source": [
        "# (サンプル数, 32,32,3) → (サンプル数, 3072)\n",
        "x_tr_flat = x_tr.reshape(len(x_tr), -1)\n",
        "x_te_flat = x_te.reshape(len(x_te), -1)\n",
        "print(\"Flattened:\", x_tr_flat.shape, x_te_flat.shape)"
      ],
      "metadata": {
        "id": "VNvHRU3RO1tW",
        "outputId": "2234fb70-77a5-4662-994b-e84cdb23dd55",
        "colab": {
          "base_uri": "https://localhost:8080/"
        }
      },
      "execution_count": null,
      "outputs": [
        {
          "output_type": "stream",
          "name": "stdout",
          "text": [
            "Flattened: (1000, 3072) (200, 3072)\n"
          ]
        }
      ]
    },
    {
      "cell_type": "code",
      "source": [
        "def experiment_sample_sizes(X, y, sizes, ks):\n",
        "    cv = StratifiedKFold(n_splits=5, shuffle=True, random_state=0)\n",
        "    results = {}\n",
        "    for n in sizes:\n",
        "        idx = np.random.choice(len(y), n, replace=False)\n",
        "        X_sub, y_sub = X[idx], y[idx]\n",
        "        gs = GridSearchCV(KNeighborsClassifier(), {'n_neighbors': ks},\n",
        "                          cv=cv, scoring='accuracy', n_jobs=-1)\n",
        "        gs.fit(X_sub, y_sub)\n",
        "        results[n] = gs.best_score_\n",
        "    return results\n",
        "\n",
        "sizes = [200, 500, 1000]\n",
        "ks = [1,3,5,7,9]\n",
        "res1 = experiment_sample_sizes(x_tr_flat, y_tr, sizes, ks)\n",
        "print(res1)"
      ],
      "metadata": {
        "id": "XIWH-lpXO1qj",
        "outputId": "678788da-2d2c-428d-a729-52c5cad0dc05",
        "colab": {
          "base_uri": "https://localhost:8080/"
        }
      },
      "execution_count": null,
      "outputs": [
        {
          "output_type": "stream",
          "name": "stdout",
          "text": [
            "{200: np.float64(0.5700000000000001), 500: np.float64(0.652), 1000: np.float64(0.687)}\n"
          ]
        }
      ]
    },
    {
      "cell_type": "code",
      "source": [
        "import pandas as pd\n",
        "import matplotlib.pyplot as plt\n",
        "import seaborn as sns\n",
        "#import japanize_matplotlib"
      ],
      "metadata": {
        "id": "eMjiDfyNPrwi"
      },
      "execution_count": null,
      "outputs": []
    },
    {
      "cell_type": "code",
      "source": [
        "# 可視化\n",
        "plt.figure(figsize=(6,4))\n",
        "plt.plot(list(res1.keys()), list(res1.values()), marker='o')\n",
        "plt.title(\"学習データ数 vs CV 精度\")\n",
        "plt.xlabel(\"学習サンプル数\")\n",
        "plt.ylabel(\"CV Accuracy\")\n",
        "plt.grid(True)\n",
        "plt.show()\n"
      ],
      "metadata": {
        "id": "qEKh9NrMPM5n",
        "outputId": "a0280154-1d15-47e5-e25c-966203a9f349",
        "colab": {
          "base_uri": "https://localhost:8080/",
          "height": 864
        }
      },
      "execution_count": null,
      "outputs": [
        {
          "output_type": "stream",
          "name": "stderr",
          "text": [
            "/usr/local/lib/python3.11/dist-packages/IPython/core/pylabtools.py:151: UserWarning: Glyph 23398 (\\N{CJK UNIFIED IDEOGRAPH-5B66}) missing from font(s) DejaVu Sans.\n",
            "  fig.canvas.print_figure(bytes_io, **kw)\n",
            "/usr/local/lib/python3.11/dist-packages/IPython/core/pylabtools.py:151: UserWarning: Glyph 32722 (\\N{CJK UNIFIED IDEOGRAPH-7FD2}) missing from font(s) DejaVu Sans.\n",
            "  fig.canvas.print_figure(bytes_io, **kw)\n",
            "/usr/local/lib/python3.11/dist-packages/IPython/core/pylabtools.py:151: UserWarning: Glyph 12487 (\\N{KATAKANA LETTER DE}) missing from font(s) DejaVu Sans.\n",
            "  fig.canvas.print_figure(bytes_io, **kw)\n",
            "/usr/local/lib/python3.11/dist-packages/IPython/core/pylabtools.py:151: UserWarning: Glyph 12540 (\\N{KATAKANA-HIRAGANA PROLONGED SOUND MARK}) missing from font(s) DejaVu Sans.\n",
            "  fig.canvas.print_figure(bytes_io, **kw)\n",
            "/usr/local/lib/python3.11/dist-packages/IPython/core/pylabtools.py:151: UserWarning: Glyph 12479 (\\N{KATAKANA LETTER TA}) missing from font(s) DejaVu Sans.\n",
            "  fig.canvas.print_figure(bytes_io, **kw)\n",
            "/usr/local/lib/python3.11/dist-packages/IPython/core/pylabtools.py:151: UserWarning: Glyph 25968 (\\N{CJK UNIFIED IDEOGRAPH-6570}) missing from font(s) DejaVu Sans.\n",
            "  fig.canvas.print_figure(bytes_io, **kw)\n",
            "/usr/local/lib/python3.11/dist-packages/IPython/core/pylabtools.py:151: UserWarning: Glyph 31934 (\\N{CJK UNIFIED IDEOGRAPH-7CBE}) missing from font(s) DejaVu Sans.\n",
            "  fig.canvas.print_figure(bytes_io, **kw)\n",
            "/usr/local/lib/python3.11/dist-packages/IPython/core/pylabtools.py:151: UserWarning: Glyph 24230 (\\N{CJK UNIFIED IDEOGRAPH-5EA6}) missing from font(s) DejaVu Sans.\n",
            "  fig.canvas.print_figure(bytes_io, **kw)\n",
            "/usr/local/lib/python3.11/dist-packages/IPython/core/pylabtools.py:151: UserWarning: Glyph 12469 (\\N{KATAKANA LETTER SA}) missing from font(s) DejaVu Sans.\n",
            "  fig.canvas.print_figure(bytes_io, **kw)\n",
            "/usr/local/lib/python3.11/dist-packages/IPython/core/pylabtools.py:151: UserWarning: Glyph 12531 (\\N{KATAKANA LETTER N}) missing from font(s) DejaVu Sans.\n",
            "  fig.canvas.print_figure(bytes_io, **kw)\n",
            "/usr/local/lib/python3.11/dist-packages/IPython/core/pylabtools.py:151: UserWarning: Glyph 12503 (\\N{KATAKANA LETTER PU}) missing from font(s) DejaVu Sans.\n",
            "  fig.canvas.print_figure(bytes_io, **kw)\n",
            "/usr/local/lib/python3.11/dist-packages/IPython/core/pylabtools.py:151: UserWarning: Glyph 12523 (\\N{KATAKANA LETTER RU}) missing from font(s) DejaVu Sans.\n",
            "  fig.canvas.print_figure(bytes_io, **kw)\n"
          ]
        },
        {
          "output_type": "display_data",
          "data": {
            "text/plain": [
              "<Figure size 600x400 with 1 Axes>"
            ],
            "image/png": "[encoded data removed]"
          },
          "metadata": {}
        }
      ]
    },
    {
      "cell_type": "markdown",
      "source": [
        "二値（0 vs 1）と、多クラス（0 vs 1 vs 2）の比較\n",
        "\n",
        "多クラスとして、例えば「automobile」「truck」「bird」を選ぶ\n",
        "\n",
        "学習数は固定（1000 サンプル）"
      ],
      "metadata": {
        "id": "C0qdpzVxQBdL"
      }
    },
    {
      "cell_type": "code",
      "source": [
        "# 多クラス用に追加ラベル 2 ('bird') を混ぜる\n",
        "cl3 = 2\n",
        "idx_tr3 = np.where(y_train.flatten() == cl3)[0]\n",
        "x_train3 = x_train[idx_tr3]\n",
        "x_te3    = x_test[np.where(y_test.flatten()==cl3)[0]]\n",
        "\n",
        "# 学習データに bird を加え 300 サンプルずつ\n",
        "x_tr3 = np.vstack([x_train1[:300], x_train2[:300], x_train3[:300]])\n",
        "y_tr3 = np.hstack([np.zeros(300), np.ones(300), np.full(300, 2)])\n",
        "\n",
        "# Flat 化\n",
        "X3_flat = x_tr3.reshape(len(x_tr3), -1)\n",
        "y3      = y_tr3\n",
        "\n",
        "# CV で評価\n",
        "cv = StratifiedKFold(n_splits=5, shuffle=True, random_state=0)\n",
        "gs2 = GridSearchCV(KNeighborsClassifier(), {'n_neighbors': ks},\n",
        "                   cv=cv, scoring='accuracy', n_jobs=-1)\n",
        "gs2.fit(X3_flat, y3)\n",
        "print(\"3 クラス CV accuracy:\", gs2.best_score_)\n",
        "print(\"2 クラス CV accuracy:\", res1[1000])  # res1 は実験①の 1000 点\n"
      ],
      "metadata": {
        "id": "OXFP86nePM2B",
        "outputId": "7b9f75f7-26d9-4f85-94c1-bcd95a80d749",
        "colab": {
          "base_uri": "https://localhost:8080/"
        }
      },
      "execution_count": null,
      "outputs": [
        {
          "output_type": "stream",
          "name": "stdout",
          "text": [
            "3 クラス CV accuracy: 0.5455555555555556\n",
            "2 クラス CV accuracy: 0.687\n"
          ]
        }
      ]
    },
    {
      "cell_type": "markdown",
      "source": [
        "実験③：特徴量数の影響（PCA 次元削減）\n",
        "PCA 次元数を [2, 10, 50, 100, 3072] で比較\n",
        "\n",
        "1000 サンプル／2 クラスを固定"
      ],
      "metadata": {
        "id": "z6HPE_qZPMzA"
      }
    },
    {
      "cell_type": "code",
      "source": [
        "def experiment_pca_dims(X, y, dims, ks):\n",
        "    cv = StratifiedKFold(n_splits=5, shuffle=True, random_state=0)\n",
        "    results = {}\n",
        "    for d in dims:\n",
        "        if d < X.shape[1]:\n",
        "            pca = PCA(n_components=d, random_state=0)\n",
        "            Xp = pca.fit_transform(X)\n",
        "        else:\n",
        "            Xp = X\n",
        "        gs = GridSearchCV(KNeighborsClassifier(), {'n_neighbors': ks},\n",
        "                          cv=cv, scoring='accuracy', n_jobs=-1)\n",
        "        gs.fit(Xp, y)\n",
        "        results[d] = gs.best_score_\n",
        "    return results\n",
        "\n",
        "dims = [2, 10, 50, 100, x_tr_flat.shape[1]]\n",
        "res3 = experiment_pca_dims(x_tr_flat[:1000], y_tr[:1000], dims, ks)\n",
        "print(res3)\n"
      ],
      "metadata": {
        "id": "8_gqXVK7PMv5",
        "outputId": "8e575d82-9e89-43bf-b98a-5c5109417d07",
        "colab": {
          "base_uri": "https://localhost:8080/"
        }
      },
      "execution_count": null,
      "outputs": [
        {
          "output_type": "stream",
          "name": "stdout",
          "text": [
            "{2: np.float64(0.606), 10: np.float64(0.6839999999999999), 50: np.float64(0.685), 100: np.float64(0.6869999999999999), 3072: np.float64(0.6809999999999999)}\n"
          ]
        }
      ]
    },
    {
      "cell_type": "code",
      "source": [
        "# 可視化\n",
        "plt.figure(figsize=(6,4))\n",
        "plt.plot(list(res3.keys()), list(res3.values()), marker='s')\n",
        "plt.title(\"PCA 次元数 vs CV 精度\")\n",
        "plt.xlabel(\"PCA 次元数\")\n",
        "plt.ylabel(\"CV Accuracy\")\n",
        "plt.grid(True)\n",
        "plt.show()\n"
      ],
      "metadata": {
        "id": "AcmltI2vPMs6",
        "outputId": "5f130cce-6bb5-4ee4-9bc1-9b92a1821f02",
        "colab": {
          "base_uri": "https://localhost:8080/",
          "height": 611
        }
      },
      "execution_count": null,
      "outputs": [
        {
          "output_type": "stream",
          "name": "stderr",
          "text": [
            "/usr/local/lib/python3.11/dist-packages/IPython/core/pylabtools.py:151: UserWarning: Glyph 27425 (\\N{CJK UNIFIED IDEOGRAPH-6B21}) missing from font(s) DejaVu Sans.\n",
            "  fig.canvas.print_figure(bytes_io, **kw)\n",
            "/usr/local/lib/python3.11/dist-packages/IPython/core/pylabtools.py:151: UserWarning: Glyph 20803 (\\N{CJK UNIFIED IDEOGRAPH-5143}) missing from font(s) DejaVu Sans.\n",
            "  fig.canvas.print_figure(bytes_io, **kw)\n",
            "/usr/local/lib/python3.11/dist-packages/IPython/core/pylabtools.py:151: UserWarning: Glyph 25968 (\\N{CJK UNIFIED IDEOGRAPH-6570}) missing from font(s) DejaVu Sans.\n",
            "  fig.canvas.print_figure(bytes_io, **kw)\n",
            "/usr/local/lib/python3.11/dist-packages/IPython/core/pylabtools.py:151: UserWarning: Glyph 31934 (\\N{CJK UNIFIED IDEOGRAPH-7CBE}) missing from font(s) DejaVu Sans.\n",
            "  fig.canvas.print_figure(bytes_io, **kw)\n",
            "/usr/local/lib/python3.11/dist-packages/IPython/core/pylabtools.py:151: UserWarning: Glyph 24230 (\\N{CJK UNIFIED IDEOGRAPH-5EA6}) missing from font(s) DejaVu Sans.\n",
            "  fig.canvas.print_figure(bytes_io, **kw)\n"
          ]
        },
        {
          "output_type": "display_data",
          "data": {
            "text/plain": [
              "<Figure size 600x400 with 1 Axes>"
            ],
            "image/png": "[encoded data removed]"
          },
          "metadata": {}
        }
      ]
    },
    {
      "cell_type": "markdown",
      "source": [
        "6. 最終評価\n",
        "各実験で最も高かった CV 精度を比較し、\n",
        "\n",
        "混同行列・classification_report でテスト精度を確認"
      ],
      "metadata": {
        "id": "KEX6RaZAQNpj"
      }
    },
    {
      "cell_type": "code",
      "source": [
        "# 最適 k で最終モデルを学習しテスト\n",
        "best_k = 5  # 上記 CV から得られた値を代入\n",
        "knn_final = KNeighborsClassifier(n_neighbors=best_k)\n",
        "knn_final.fit(x_tr_flat, y_tr)\n",
        "y_pred = knn_final.predict(x_te_flat)\n",
        "\n",
        "print(\"Test Accuracy:\", accuracy_score(y_te, y_pred))\n",
        "print(\"Confusion Matrix:\\n\", confusion_matrix(y_te, y_pred))\n",
        "print(\"Classification Report:\\n\", classification_report(y_te, y_pred))\n"
      ],
      "metadata": {
        "id": "cedNvOrPQU3_",
        "outputId": "f8ad756a-ef4e-4c8a-a890-7fa8cdf44986",
        "colab": {
          "base_uri": "https://localhost:8080/"
        }
      },
      "execution_count": null,
      "outputs": [
        {
          "output_type": "stream",
          "name": "stdout",
          "text": [
            "Test Accuracy: 0.68\n",
            "Confusion Matrix:\n",
            " [[73 27]\n",
            " [37 63]]\n",
            "Classification Report:\n",
            "               precision    recall  f1-score   support\n",
            "\n",
            "         0.0       0.66      0.73      0.70       100\n",
            "         1.0       0.70      0.63      0.66       100\n",
            "\n",
            "    accuracy                           0.68       200\n",
            "   macro avg       0.68      0.68      0.68       200\n",
            "weighted avg       0.68      0.68      0.68       200\n",
            "\n"
          ]
        }
      ]
    },
    {
      "cell_type": "markdown",
      "source": [],
      "metadata": {
        "id": "SOjrbcqkQN0v"
      }
    },
    {
      "cell_type": "markdown",
      "source": [
        "7. 考察例\n",
        "学習データ数 が増えるほど CV 精度は上昇し、特に 200→500 の間に大きく改善。\n",
        "\n",
        "クラス数 が増えると、タスク難度上昇により精度は低下。\n",
        "\n",
        "特徴量数（PCA 次元） は 50～100 次元でピークを迎え、過剰な次元はノイズとなりやや低下。\n",
        "\n",
        "これらの結果から、kNN を使う際は「適切なデータ量」「クラス設計」「次元削減」が重要であることが示されます。"
      ],
      "metadata": {
        "id": "5g0edcoVQZY5"
      }
    },
    {
      "cell_type": "code",
      "source": [],
      "metadata": {
        "id": "zNpfMotOQZjH"
      },
      "execution_count": null,
      "outputs": []
    },
    {
      "cell_type": "code",
      "source": [],
      "metadata": {
        "id": "7BJIaJ1AQZs5"
      },
      "execution_count": null,
      "outputs": []
    }
  ],
  "metadata": {
    "celltoolbar": "Slideshow",
    "kernelspec": {
      "display_name": "Python 3 (ipykernel)",
      "language": "python",
      "name": "python3"
    },
    "language_info": {
      "codemirror_mode": {
        "name": "ipython",
        "version": 3
      },
      "file_extension": ".py",
      "mimetype": "text/x-python",
      "name": "python",
      "nbconvert_exporter": "python",
      "pygments_lexer": "ipython3",
      "version": "3.10.7"
    },
    "colab": {
      "provenance": [],
      "include_colab_link": true
    }
  },
  "nbformat": 4,
  "nbformat_minor": 0
}